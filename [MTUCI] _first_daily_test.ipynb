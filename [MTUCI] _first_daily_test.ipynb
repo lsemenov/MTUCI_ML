{
 "cells": [
  {
   "cell_type": "markdown",
   "metadata": {},
   "source": [
    "### Интеллектуальные системы, МТУСИ\n",
    "\n",
    "#### Лабораторная работа 1\n",
    "\n",
    "#### Выполнил :   Семенов А.И.\n",
    "\n",
    "#### Группа:   ЗМБД2032"
   ]
  },
  {
   "cell_type": "markdown",
   "metadata": {},
   "source": [
    "# 1.Print 'Hello HCIA'."
   ]
  },
  {
   "cell_type": "code",
   "execution_count": 1,
   "metadata": {},
   "outputs": [
    {
     "name": "stdout",
     "output_type": "stream",
     "text": [
      "Hello HCIA\n"
     ]
    }
   ],
   "source": [
    "print(\"Hello HCIA\")"
   ]
  },
  {
   "cell_type": "markdown",
   "metadata": {},
   "source": [
    "# 2.Define two variables and calculate their sum."
   ]
  },
  {
   "cell_type": "code",
   "execution_count": 2,
   "metadata": {},
   "outputs": [
    {
     "name": "stdout",
     "output_type": "stream",
     "text": [
      "200\n"
     ]
    }
   ],
   "source": [
    "a = 70\n",
    "b = 130\n",
    "print( a + b)"
   ]
  },
  {
   "cell_type": "markdown",
   "metadata": {},
   "source": [
    "# 3.Define a list and replicate in three different ways."
   ]
  },
  {
   "cell_type": "code",
   "execution_count": 20,
   "metadata": {},
   "outputs": [
    {
     "name": "stdout",
     "output_type": "stream",
     "text": [
      "Копия списка #1: [1, 2, 3, 4, 5, 6]\n",
      "Копия списка №2: [1, 2, 3, 4, 5, 6]\n",
      "Копия списка №3: [1, 2, 3, 4, 5, 6]\n",
      "Копия № 4 : [1, 2, 3, 4, 5, 6]\n",
      "Копия № 5: [1, 2, 3, 4, 5, 6]\n"
     ]
    }
   ],
   "source": [
    "my_list = [1,2,3,4,5,6]\n",
    "\n",
    "# копирование с помощью метода copy()\n",
    "copy_list_1 = my_list.copy()\n",
    "print(\"Копия списка #1:\", copy_list_1)\n",
    "\n",
    "# копирование с помощью среза\n",
    "copy_list_2 = my_list[:]\n",
    "print(\"Копия списка №2:\", copy_list_2)\n",
    "\n",
    "# кпопирование с помощью функции list()\n",
    "copy_list_3 = list(my_list)\n",
    "print(\"Копия списка №3:\", copy_list_3)\n",
    "\n",
    "# генератор списков медленно\n",
    "copy_list_4 = [i for i in my_list]\n",
    "print(\"Копия № 4 :\", copy_list_4)\n",
    "\n",
    "#  с помощью метода extend() - добавляет в конец списка элементы\n",
    "copy_list_5 = []\n",
    "copy_list_5.extend(my_list)\n",
    "print(\"Копия № 5:\", copy_list_5)"
   ]
  },
  {
   "cell_type": "markdown",
   "metadata": {},
   "source": [
    "# 4.Define two lists and merge them together."
   ]
  },
  {
   "cell_type": "code",
   "execution_count": 22,
   "metadata": {},
   "outputs": [
    {
     "name": "stdout",
     "output_type": "stream",
     "text": [
      "[1, 2, 3, 4, 5, 6, 7, 8]\n"
     ]
    }
   ],
   "source": [
    "# конкатенация списков\\\n",
    "list_1 = [1,2,3,4,5]\n",
    "list_2 = [6,7,8]\n",
    "merge_list = list_1 + list_2\n",
    "print(merge_list)"
   ]
  },
  {
   "cell_type": "markdown",
   "metadata": {},
   "source": [
    "# 5. Get the last element of the list and print it."
   ]
  },
  {
   "cell_type": "code",
   "execution_count": 23,
   "metadata": {},
   "outputs": [
    {
     "name": "stdout",
     "output_type": "stream",
     "text": [
      "Последний элемент списка: 5\n"
     ]
    }
   ],
   "source": [
    "mylist = [1,2,3,4,5]\n",
    "print(\"Последний элемент списка:\", mylist[-1])"
   ]
  },
  {
   "cell_type": "markdown",
   "metadata": {},
   "source": [
    "# 6.Define a tuple that contains only one element.\n",
    "- Having one element within parentheses is not enough. We will need a trailing comma to indicate that it is, in fact, a tuple."
   ]
  },
  {
   "cell_type": "code",
   "execution_count": 33,
   "metadata": {},
   "outputs": [
    {
     "name": "stdout",
     "output_type": "stream",
     "text": [
      "<class 'tuple'>\n",
      "(1,)\n"
     ]
    }
   ],
   "source": [
    "# для создания кортежа одного элемента недостаточно, необходимо использовать конечную запятую\n",
    "my_tuple = (1,)\n",
    "print(type(my_tuple))\n",
    "print(my_tuple)"
   ]
  },
  {
   "cell_type": "markdown",
   "metadata": {},
   "source": [
    "# 7.Define a three-line long string.\n",
    "- непонято что имеется ввиду\n",
    "- a backslash ( \\ ) is a continuation character, and if it is placed at the end of a line, it is considered that the line is continued, ignoring subsequent newlines."
   ]
  },
  {
   "cell_type": "code",
   "execution_count": 57,
   "metadata": {},
   "outputs": [
    {
     "name": "stdout",
     "output_type": "stream",
     "text": [
      "<class 'str'>\n",
      "Huawei certification\n",
      "Huawei certification\n",
      "Huawei certification\n",
      "Huawei certification Huawei certification Huawei certification\n",
      "<class 'str'>\n"
     ]
    }
   ],
   "source": [
    "semenov_string = \"\"\"Huawei certification\n",
    "Huawei certification\n",
    "Huawei certification\"\"\" \n",
    "\n",
    "print(type(semenov_string))\n",
    "print(semenov_string)\n",
    "\n",
    "\n",
    "my_string =(\"Huawei certification \" \n",
    "            \"Huawei certification \" \n",
    "            \"Huawei certification\" )\n",
    "\n",
    "print(my_string)\n",
    "print(type(my_string))"
   ]
  },
  {
   "cell_type": "markdown",
   "metadata": {},
   "source": [
    "# 8.Define a tuple and then use the 'for loop' to print all the elements."
   ]
  },
  {
   "cell_type": "code",
   "execution_count": 59,
   "metadata": {},
   "outputs": [
    {
     "name": "stdout",
     "output_type": "stream",
     "text": [
      "1\n",
      "3\n",
      "4\n",
      "6\n",
      "a\n",
      "b\n",
      "[12, 4, 56]\n"
     ]
    }
   ],
   "source": [
    "semenov_tuple = (1,3,4,6 , 'a', 'b', [12,4,56])\n",
    "\n",
    "for i in semenov_tuple:\n",
    "    print(i)"
   ]
  },
  {
   "cell_type": "markdown",
   "metadata": {},
   "source": [
    "# 9.Define a function to do Multiplication, such as Mul(8,6),and its output 48."
   ]
  },
  {
   "cell_type": "code",
   "execution_count": 60,
   "metadata": {},
   "outputs": [
    {
     "data": {
      "text/plain": [
       "48"
      ]
     },
     "execution_count": 60,
     "metadata": {},
     "output_type": "execute_result"
    }
   ],
   "source": [
    "def mul(a, b):\n",
    "    return a * b\n",
    "\n",
    "mul(8,6)\n",
    "    "
   ]
  },
  {
   "cell_type": "markdown",
   "metadata": {},
   "source": [
    "# 10.Import numpy and use numpy to define an array, the its shape  is (5,5) and all its elements is 0.\n",
    " - zeros. Return a new array setting values to zero.\n",
    " - zeros_like. Return an array of zeros with shape and type of input.\n",
    " - numpy.reshape(a, newshape, order='C')Gives a new shape to an array without changing its data. позволяет задавать форму числами, а не кортежем чисел. Однако, если вам необходимо передавать форму в виде кортежа, то придется использовать numpy.reshape().\n"
   ]
  },
  {
   "cell_type": "code",
   "execution_count": 70,
   "metadata": {},
   "outputs": [
    {
     "name": "stdout",
     "output_type": "stream",
     "text": [
      "[[0. 0. 0. 0. 0.]\n",
      " [0. 0. 0. 0. 0.]\n",
      " [0. 0. 0. 0. 0.]\n",
      " [0. 0. 0. 0. 0.]\n",
      " [0. 0. 0. 0. 0.]]\n"
     ]
    },
    {
     "data": {
      "text/plain": [
       "array([[0, 0, 0, 0, 0],\n",
       "       [0, 0, 0, 0, 0],\n",
       "       [0, 0, 0, 0, 0],\n",
       "       [0, 0, 0, 0, 0],\n",
       "       [0, 0, 0, 0, 0]])"
      ]
     },
     "execution_count": 70,
     "metadata": {},
     "output_type": "execute_result"
    }
   ],
   "source": [
    "import numpy as np\n",
    "# используя метод zeros, возвращает нулевой заданный масиив\n",
    "semenov_array = np.zeros(( 5, 5))\n",
    "print(semenov_array)\n",
    "\n",
    "\n",
    "# с помощью zeros_like() , возвращает нулевой массив на основе  выбранного массива \n",
    "\n",
    "my_array = np.arange(25)\n",
    "my_array = my_array.reshape((5, 5))\n",
    "\n",
    "np.zeros_like(my_array)\n"
   ]
  },
  {
   "cell_type": "markdown",
   "metadata": {},
   "source": [
    "# 11.Import numpy and use numpy to define an array, the shape is (4,6) and all elements is 0.\n",
    " - numpy.arange( [ start , ] stop , [ step , ] dtype = None , * , like = None ). Возвращает равномерно распределенные значения в заданном интервале. Значения генерируются в пределах полуоткрытого интервала (другими словами, интервала, включая начало, но исключая остановку ). Для целочисленных аргументов функция эквивалентна встроенной функции диапазона Python , но возвращает ndarray, а не список."
   ]
  },
  {
   "cell_type": "code",
   "execution_count": 81,
   "metadata": {},
   "outputs": [
    {
     "name": "stdout",
     "output_type": "stream",
     "text": [
      "Массив с нулевыми элементами: [[0. 0. 0. 0. 0. 0.]\n",
      " [0. 0. 0. 0. 0. 0.]\n",
      " [0. 0. 0. 0. 0. 0.]\n",
      " [0. 0. 0. 0. 0. 0.]]\n",
      "Вариант 2: [[0 0 0 0 0 0]\n",
      " [0 0 0 0 0 0]\n",
      " [0 0 0 0 0 0]\n",
      " [0 0 0 0 0 0]]\n",
      "Вариант 3: [[0 0 0 0 0]\n",
      " [0 0 0 0 0]\n",
      " [0 0 0 0 0]\n",
      " [0 0 0 0 0]\n",
      " [0 0 0 0 0]]\n"
     ]
    }
   ],
   "source": [
    "import numpy as np\n",
    "zero_array = np.zeros((4,6))\n",
    "print(\"Массив с нулевыми элементами:\", zero_array)\n",
    "\n",
    "# с помощью reshape\n",
    "semenov_array = np.array([0,0,0,0,0,0,0,0,0,0,0,0,0,0,0,0,0,0,0,0,0,0,0,0])\n",
    "semenov_array = semenov_array.reshape((4,6))\n",
    "print(\"Вариант 2:\", semenov_array)\n",
    "\n",
    "# с помощью zeros_like and reshape\n",
    "semenov_array = np.arange(24)\n",
    "semenov_array = semenov_array.reshape((4,6))\n",
    "print(\"Вариант 3:\", np.zeros_like(my_array) )"
   ]
  },
  {
   "cell_type": "markdown",
   "metadata": {},
   "source": [
    "# 12.Use numpy.arrange() to generate an array of shape(15,), then modify the shape to(3,5)."
   ]
  },
  {
   "cell_type": "code",
   "execution_count": 91,
   "metadata": {},
   "outputs": [
    {
     "name": "stdout",
     "output_type": "stream",
     "text": [
      "[[ 0  1  2  3  4]\n",
      " [ 5  6  7  8  9]\n",
      " [10 11 12 13 14]]\n"
     ]
    },
    {
     "data": {
      "text/plain": [
       "(3, 5)"
      ]
     },
     "execution_count": 91,
     "metadata": {},
     "output_type": "execute_result"
    }
   ],
   "source": [
    "import numpy as np\n",
    "\n",
    "# используем reshape\n",
    "semenov_array = np.arange(15)\n",
    "semenov_array = semenov_array.reshape((3,5))\n",
    "\n",
    "print(semenov_array)\n",
    "semenov_array.shape"
   ]
  },
  {
   "cell_type": "markdown",
   "metadata": {},
   "source": [
    "# 13.Define two matrices, then calculate and print the result of their point multiplication.\n",
    " - numpy.matmul( x1 , x2 ). Матричное произведение двух массивов.\n",
    " - numpy.dot( a , b , out = Нет ). Точечное произведение двух массивов. Конкретно, \n",
    "  * Если и a, и b являются одномерными массивами, это внутреннее произведение векторов (без комплексного сопряжения).\n",
    "  * Если и a, и b являются двумерными массивами, это умножение матриц, но использование matmulили является предпочтительным."
   ]
  },
  {
   "cell_type": "code",
   "execution_count": 2,
   "metadata": {},
   "outputs": [
    {
     "name": "stdout",
     "output_type": "stream",
     "text": [
      "[[ 152  158  164  170]\n",
      " [ 504  526  548  570]\n",
      " [ 856  894  932  970]\n",
      " [1208 1262 1316 1370]]\n",
      "[[ 152  158  164  170]\n",
      " [ 504  526  548  570]\n",
      " [ 856  894  932  970]\n",
      " [1208 1262 1316 1370]]\n"
     ]
    }
   ],
   "source": [
    "import numpy as np\n",
    "\n",
    "matrice_1 = np.arange(16).reshape((4,4))\n",
    "matrice_2=np.arange(16, 32, 1).reshape((4,4))\n",
    "\n",
    "mul_mat = np.matmul(matrice_1, matrice_2)\n",
    "print(mul_mat)\n",
    "\n",
    "# с помощью np.dot()\n",
    "mul_mat_2 = np.dot(matrice_1, matrice_2)\n",
    "print(mul_mat_2)"
   ]
  }
 ],
 "metadata": {
  "kernelspec": {
   "display_name": "Python 3",
   "language": "python",
   "name": "python3"
  },
  "language_info": {
   "codemirror_mode": {
    "name": "ipython",
    "version": 3
   },
   "file_extension": ".py",
   "mimetype": "text/x-python",
   "name": "python",
   "nbconvert_exporter": "python",
   "pygments_lexer": "ipython3",
   "version": "3.8.1"
  }
 },
 "nbformat": 4,
 "nbformat_minor": 2
}
