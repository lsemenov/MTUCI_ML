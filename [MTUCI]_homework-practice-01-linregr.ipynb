{
 "cells": [
  {
   "cell_type": "markdown",
   "metadata": {},
   "source": [
    "## Анализ данных высокой размерности, МТУСИ\n",
    "\n",
    "## Практическое задание 1\n",
    "\n",
    "### Общая информация\n",
    "Дата выдачи: 20.11.2021\n",
    "\n",
    "__Студент:__ Семенов А.И.\n",
    "\n",
    "__Группа:__ МБД2032\n"
   ]
  },
  {
   "cell_type": "markdown",
   "metadata": {},
   "source": [
    "\n",
    "\n",
    "### О задании\n",
    "\n",
    "Практическое задание 1 посвящено изучению основных библиотек для анализа данных, а также линейных моделей и методов их обучения. Вы научитесь:\n",
    " * применять библиотеки NumPy и Pandas для осуществления желаемых преобразований;\n",
    " * подготавливать данные для обучения линейных моделей;\n",
    " * обучать линейную, Lasso и Ridge-регрессии при помощи модуля scikit-learn;\n",
    " * реализовывать обычный и стохастический градиентные спуски;\n",
    " * обучать линейную регрессию для произвольного функционала качества.\n",
    " \n"
   ]
  },
  {
   "cell_type": "markdown",
   "metadata": {},
   "source": [
    "## Библиотеки для анализа данных\n",
    "\n",
    "### NumPy\n",
    "\n",
    "Во всех заданиях данного раздела запрещено использовать циклы  и list comprehensions. Под вектором и матрицей в данных заданиях понимается одномерный и двумерный numpy.array соответственно."
   ]
  },
  {
   "cell_type": "code",
   "execution_count": 3,
   "metadata": {},
   "outputs": [],
   "source": [
    "import numpy as np"
   ]
  },
  {
   "cell_type": "markdown",
   "metadata": {},
   "source": [
    "**1.** Реализуйте функцию, возвращающую максимальный элемент в векторе x среди элементов, перед которыми стоит нулевой. Для x = np.array([6, 2, 0, 3, 0, 0, 5, 7, 0]) ответом является 5. Если нулевых элементов нет, функция должна возвращать None.\n"
   ]
  },
  {
   "cell_type": "code",
   "execution_count": 4,
   "metadata": {},
   "outputs": [],
   "source": [
    "def max_element(arr):\n",
    "    return arr.max()"
   ]
  },
  {
   "cell_type": "code",
   "execution_count": 5,
   "metadata": {},
   "outputs": [
    {
     "name": "stdout",
     "output_type": "stream",
     "text": [
      "Вектор: [ 0  1  2  3  4  5  6  7  8  9 10 11], максимальное значение вектора: 11\n"
     ]
    }
   ],
   "source": [
    "arr = np.arange(12)\n",
    "print('Вектор: {}, максимальное значение вектора: {}'.format(arr, max_element(arr)))\n"
   ]
  },
  {
   "cell_type": "markdown",
   "metadata": {},
   "source": [
    "**2.** Реализуйте функцию, принимающую на вход матрицу и некоторое число и возвращающую ближайший к числу элемент матрицы. Например: для X = np.arange(0,10).reshape((2, 5)) и v = 3.6 ответом будет 4."
   ]
  },
  {
   "cell_type": "code",
   "execution_count": 6,
   "metadata": {},
   "outputs": [],
   "source": [
    "def nearest_value(X, value):\n",
    "    X = X.reshape(X.size)\n",
    "    num = abs((X[0] / value) - 1)\n",
    "    ans = 0\n",
    "    \n",
    "    for i in range(1, X.size):\n",
    "\n",
    "        near = abs((X[i]/value) - 1)\n",
    "        near = round(near, 3)\n",
    "\n",
    "        if near <= 0.5 and near <= num:\n",
    "\n",
    "            num = near\n",
    "            ans = i\n",
    "                \n",
    "    return X[ans]\n",
    "            "
   ]
  },
  {
   "cell_type": "code",
   "execution_count": 7,
   "metadata": {},
   "outputs": [
    {
     "name": "stdout",
     "output_type": "stream",
     "text": [
      "4 : True\n",
      "8 : True\n",
      "-5 : True\n"
     ]
    }
   ],
   "source": [
    "# тест для задания 2\n",
    "test_data = {4.4:np.arange(20).reshape(2,10),\n",
    "            7.7:np.arange(5,20).reshape(3,5),\n",
    "            -5.5:np.arange(-10,20).reshape(3,10)}\n",
    "test_ans = {4.4:4,\n",
    "            7.7:8,\n",
    "            -5.5:-5}\n",
    "\n",
    "for i in test_data:\n",
    "    ans = nearest_value( test_data[i], i)\n",
    "    print(\"{} : {}\".format(ans, test_ans[i] == ans))"
   ]
  },
  {
   "cell_type": "markdown",
   "metadata": {},
   "source": [
    "**3.** Реализуйте функцию scale(X), которая принимает на вход матрицу и масштабирует каждый ее столбец (вычитает выборочное среднее и делит на стандартное отклонение). Убедитесь, что в функции не будет происходить деления на ноль. Протестируйте на случайной матрице (для её генерации можно использовать, например, функцию [numpy.random.randint](http://docs.scipy.org/doc/numpy/reference/generated/numpy.random.randint.html)).\n",
    "\n",
    "* a.ravel()    #  \"Сплющивает\" массив до одной оси\n",
    "* a.shape    #  Узнаем форму массива (кортеж на выходе)\n",
    "* a.size    # узнать величину массива (число на выходе)\n",
    "\n",
    "* a.reshape(2, 6)    #  Возвращает массив с измененной формой\n",
    "\n",
    "Возвращается новый массив в то время как исходный массив не изменяется.вернется среднее значение и стандартное отклонение mu, std_dev = norm.fit(W)"
   ]
  },
  {
   "cell_type": "code",
   "execution_count": 8,
   "metadata": {},
   "outputs": [],
   "source": [
    "from scipy.stats import norm\n",
    "\n",
    "def scale(X):\n",
    "    ans = np.array([])\n",
    "    W = X.reshape(X.size)\n",
    "    \n",
    "    mu, std_dev = norm.fit(W)\n",
    "\n",
    "    for i in W:\n",
    "        if i != 0:\n",
    "            value = (i - mu) / std_dev\n",
    "            value = round(value, 4)\n",
    "            ans = np.append(ans, value)\n",
    "\n",
    "        else:\n",
    "            ans = np.append(ans, i)\n",
    "    \n",
    "    ans.resize(X.shape)\n",
    "    \n",
    "    return ans\n",
    "    "
   ]
  },
  {
   "cell_type": "code",
   "execution_count": 9,
   "metadata": {},
   "outputs": [
    {
     "name": "stdout",
     "output_type": "stream",
     "text": [
      "Изначальная матрица: \n",
      " [[1 3]\n",
      " [0 8]\n",
      " [7 8]\n",
      " [4 4]\n",
      " [8 9]] \n",
      " Преобразованная матрица:\n",
      " [[-1.3728 -0.7191]\n",
      " [ 0.      0.9152]\n",
      " [ 0.5883  0.9152]\n",
      " [-0.3922 -0.3922]\n",
      " [ 0.9152  1.2421]]\n",
      "Изначальная матрица: \n",
      " [[19 12  2 12]\n",
      " [15  1  8  9]\n",
      " [ 7  4  6 15]\n",
      " [ 7  6 11 15]\n",
      " [15  5  2  6]] \n",
      " Преобразованная матрица:\n",
      " [[ 2.0208  0.6272 -1.3638  0.6272]\n",
      " [ 1.2244 -1.5629 -0.1692  0.0299]\n",
      " [-0.3683 -0.9656 -0.5674  1.2244]\n",
      " [-0.3683 -0.5674  0.4281  1.2244]\n",
      " [ 1.2244 -0.7665 -1.3638 -0.5674]]\n"
     ]
    }
   ],
   "source": [
    "# тест для задания 3\n",
    "test_data = {1:np.random.randint(10, size=(5,2)),\n",
    "             2: np.random.randint(20, size=(5,4))}\n",
    "\n",
    "for i in test_data:\n",
    "\n",
    "    print(\"Изначальная матрица: \\n {} \\n Преобразованная матрица:\\n {}\".format(test_data[i],  scale(test_data[i])))"
   ]
  },
  {
   "cell_type": "code",
   "execution_count": 10,
   "metadata": {},
   "outputs": [
    {
     "data": {
      "text/plain": [
       "array([[ 4, 14,  0, 13],\n",
       "       [ 8,  0,  3, 10],\n",
       "       [10,  2,  7, 15],\n",
       "       [ 5, 10,  7,  7],\n",
       "       [ 3, 13,  6, 17]])"
      ]
     },
     "execution_count": 10,
     "metadata": {},
     "output_type": "execute_result"
    }
   ],
   "source": [
    "test_data = {1:np.random.randint(10, size=(5,2)),\n",
    "             2: np.random.randint(20, size=(5,4))}\n",
    "test_data[2]"
   ]
  },
  {
   "cell_type": "markdown",
   "metadata": {},
   "source": [
    "**4.** Реализуйте функцию, которая для заданной матрицы находит:\n",
    " - определитель\n",
    " - след\n",
    " - наименьший и наибольший элементы\n",
    " - норму Фробениуса\n",
    " - собственные числа\n",
    " - обратную матрицу\n",
    "\n",
    "__Норма Фробениуса__ \n",
    "\n",
    "    Или Евклидова норма, — это квадратный корень сумм квадратов модулей элементов матрицы размера m × n:\n",
    "    * linalg.norm(a, ord=None) — норма матрицы a, по умолчанию норма Фробениуса для матриц и L2-норма для векторов;\n",
    "\n",
    "    __ИЛИ:__ как квадратный корень произведения следа этой матрицы и эрмитово-сопряжённой матрицы.\n",
    "\n",
    "__Нормальное распределение__ \n",
    "\n",
    "    Является двухпараметрическим семейством распределений,Стандартным нормальным распределением называется нормальное распределение с математическим ожиданием  mu =0 и стандартным отклонением `sigma =1`.Здесь `loc` представляет среднее значение, а `scale` -стандартное отклонение, т. е. квадратный корень дисперсии.\n",
    "\n",
    "    `arr = np.random.normal(loc=1, scale=0.50, size=(500, 500))`\n",
    "\n",
    "__Стандартное отклонение__\n",
    "\n",
    "    Около 68 % значений из нормального распределения находятся на расстоянии не более одного стандартного отклонения `σ` от среднего; около 95 % значений лежат расстоянии не более двух стандартных отклонений; и 99,7 % не более трёх.\n",
    "\n",
    "__След матрицы__ \n",
    "\n",
    "    Это сумма элементов квадратной матрицы, расположенных на главной диагонали.\n",
    "\n",
    "    np.trace(b)\n",
    "    np.diagonal(b)\n",
    "\n",
    "\n",
    "__Обратимость__\n",
    "\n",
    "    Матрица обратима тогда и только тогда, когда она невырождена, то есть её определитель (|A|) не равен нулю. Для неквадратных матриц и вырожденных матриц обратных матриц не существует.\n",
    "\n",
    "__Обратная матрица__\n",
    "\n",
    "    Обратной матрицей A-1 матрицы A называют матрицу, удовлетворяющую следующему равенству:\n",
    "\n",
    "    $$ A x A^-1 = A ^-1 x A = E $$\n",
    "\n",
    "    где – E это единичная матрица"
   ]
  },
  {
   "cell_type": "code",
   "execution_count": 11,
   "metadata": {},
   "outputs": [],
   "source": [
    "\n",
    "import numpy as np\n",
    "\n",
    "def get_stats(X):\n",
    "    #1 min elment in matrix\n",
    "    my_min = X.min()\n",
    "    \n",
    "    # max element in matrix\n",
    "    my_max = X.max()\n",
    "    \n",
    "    #2 eigenvalue\n",
    "    A_eig = np.linalg.eig(X)\n",
    "    \n",
    "    #3 matrix track\n",
    "    A_trace = np.diagonal(X)\n",
    "    \n",
    "    #4 norm Frobenius\n",
    "    A_normfro = np.linalg.norm(X)\n",
    "    \n",
    "    #5 determinant\n",
    "    A_det = np.linalg.det(X)\n",
    "    \n",
    "    \n",
    "    \n",
    "    #6 inverse matrix\n",
    "    if A_det != 0:\n",
    "        A_inv_mat = np.linalg.inv(X)\n",
    "        \n",
    "    else:\n",
    "        A_inv_mat = \"матрица вырожденная\"\n",
    "        print(\"матрица вырожденная\")\n",
    "        \n",
    "    print (\"\"\"определитель:{0} \\n\\n след: {1} \\n\\n  наименьший элемент: {2} и наибольший элемент: {3} \\n\\n норму Фробениуса: {4} \\n\\n, собственные числа: {5} \\n\\n обратную матрицу: {6}\"\"\".format(A_det, A_trace, my_min, my_max, A_normfro, A_eig,  A_inv_mat,  ))\n",
    "    \n",
    "    "
   ]
  },
  {
   "cell_type": "code",
   "execution_count": 12,
   "metadata": {},
   "outputs": [
    {
     "name": "stdout",
     "output_type": "stream",
     "text": [
      "определитель:9226.012199800787 \n",
      "\n",
      " след: [10.6506036   9.36561274 10.07752853  9.47811881 11.69320151 10.15682637\n",
      "  9.6804076   9.23267719  9.12856701 10.50309291] \n",
      "\n",
      "  наименьший элемент: 8.497748572424568 и наибольший элемент: 12.169734798299707 \n",
      "\n",
      " норму Фробениуса: 102.11349612298075 \n",
      "\n",
      ", собственные числа: (array([101.74541103+0.j        ,  -3.16901997+0.j        ,\n",
      "         2.74931452+0.j        ,   0.45044662+2.17424401j,\n",
      "         0.45044662-2.17424401j,  -1.1173119 +1.27930268j,\n",
      "        -1.1173119 -1.27930268j,  -0.44519142+0.j        ,\n",
      "         0.20992633+1.26471499j,   0.20992633-1.26471499j]), array([[ 3.12562373e-01+0.j        , -9.91650074e-03+0.j        ,\n",
      "        -3.01899360e-02+0.j        , -1.18172356e-01-0.36250169j,\n",
      "        -1.18172356e-01+0.36250169j,  2.35841308e-01+0.08329299j,\n",
      "         2.35841308e-01-0.08329299j, -1.63625326e-01+0.j        ,\n",
      "        -2.90842417e-01-0.08217371j, -2.90842417e-01+0.08217371j],\n",
      "       [ 3.11409369e-01+0.j        , -1.08335765e-02+0.j        ,\n",
      "         4.99027049e-02+0.j        ,  1.76412205e-01+0.17619165j,\n",
      "         1.76412205e-01-0.17619165j, -3.36886318e-01+0.04380784j,\n",
      "        -3.36886318e-01-0.04380784j,  6.66580341e-01+0.j        ,\n",
      "         5.28390830e-01+0.j        ,  5.28390830e-01-0.j        ],\n",
      "       [ 3.30560168e-01+0.j        , -3.07323706e-01+0.j        ,\n",
      "        -1.18384150e-01+0.j        , -3.12894307e-01-0.01282483j,\n",
      "        -3.12894307e-01+0.01282483j, -1.49059694e-01+0.0663355j ,\n",
      "        -1.49059694e-01-0.0663355j ,  3.15536789e-01+0.j        ,\n",
      "         4.87729166e-02-0.19212215j,  4.87729166e-02+0.19212215j],\n",
      "       [ 3.06097647e-01+0.j        ,  4.65304063e-02+0.j        ,\n",
      "         2.18160936e-01+0.j        ,  5.13593968e-01+0.j        ,\n",
      "         5.13593968e-01-0.j        , -9.72807013e-02-0.4257506j ,\n",
      "        -9.72807013e-02+0.4257506j ,  2.26578525e-01+0.j        ,\n",
      "         3.15182869e-01-0.09989826j,  3.15182869e-01+0.09989826j],\n",
      "       [ 3.14098942e-01+0.j        ,  1.45366134e-01+0.j        ,\n",
      "        -6.94543418e-01+0.j        ,  1.32349677e-01-0.15826448j,\n",
      "         1.32349677e-01+0.15826448j,  3.18636915e-02-0.02608972j,\n",
      "         3.18636915e-02+0.02608972j, -2.79572012e-01+0.j        ,\n",
      "        -5.61611906e-02-0.03880428j, -5.61611906e-02+0.03880428j],\n",
      "       [ 3.19184695e-01+0.j        ,  1.94303352e-01+0.j        ,\n",
      "         1.13991500e-01+0.j        , -2.40413635e-01+0.15897952j,\n",
      "        -2.40413635e-01-0.15897952j,  5.09340030e-01+0.j        ,\n",
      "         5.09340030e-01-0.j        , -5.11479516e-01+0.j        ,\n",
      "         1.78755506e-01+0.09225126j,  1.78755506e-01-0.09225126j],\n",
      "       [ 3.13000706e-01+0.j        ,  1.25841177e-01+0.j        ,\n",
      "        -3.78354884e-01+0.j        , -1.45965145e-02+0.23355387j,\n",
      "        -1.45965145e-02-0.23355387j,  1.88023294e-01-0.01661072j,\n",
      "         1.88023294e-01+0.01661072j, -9.97048508e-02+0.j        ,\n",
      "        -3.42192113e-01+0.3647468j , -3.42192113e-01-0.3647468j ],\n",
      "       [ 3.17297186e-01+0.j        ,  6.34530998e-01+0.j        ,\n",
      "         3.53393486e-01+0.j        , -1.30924563e-02+0.23710117j,\n",
      "        -1.30924563e-02-0.23710117j, -1.62454076e-02-0.18428814j,\n",
      "        -1.62454076e-02+0.18428814j, -1.67652980e-01+0.j        ,\n",
      "        -1.57232940e-01-0.30406297j, -1.57232940e-01+0.30406297j],\n",
      "       [ 3.20880613e-01+0.j        , -6.36551819e-01+0.j        ,\n",
      "         4.42705299e-02+0.j        ,  8.08751108e-02+0.10176694j,\n",
      "         8.08751108e-02-0.10176694j,  5.49282577e-02+0.30203363j,\n",
      "         5.49282577e-02-0.30203363j,  2.38215161e-04+0.j        ,\n",
      "        -1.56685472e-01+0.13211805j, -1.56685472e-01-0.13211805j],\n",
      "       [ 3.16567282e-01+0.j        , -1.43605166e-01+0.j        ,\n",
      "         4.11831776e-01+0.j        , -2.09341260e-01-0.36484213j,\n",
      "        -2.09341260e-01+0.36484213j, -3.98757812e-01+0.1430251j ,\n",
      "        -3.98757812e-01-0.1430251j , -1.32539807e-02+0.j        ,\n",
      "        -9.91047167e-02+0.12879669j, -9.91047167e-02-0.12879669j]])) \n",
      "\n",
      " обратную матрицу: [[ 0.16546375 -0.00564463  0.427378    0.19231643 -0.59900453 -0.15264827\n",
      "   0.78118407 -0.32004799 -0.56855215  0.09260751]\n",
      " [-1.41455487 -1.07158519 -0.44244025 -0.16445563  1.69828853  0.79688204\n",
      "  -1.69338489  0.71115866  1.15516644  0.38355163]\n",
      " [-0.82964118 -0.5926984  -0.13012428 -0.14718812  0.64275368  0.30855567\n",
      "  -0.36228087  0.42419355  0.47020513  0.19821293]\n",
      " [-0.29860105 -0.19571947 -0.39960184 -0.32009301  0.81843275  0.03853037\n",
      "  -0.95158996  0.42328317  0.56062205  0.32107811]\n",
      " [ 0.79108886  0.48357399  0.31116558 -0.04559926 -0.46039408 -0.41193274\n",
      "   0.51629815 -0.32610935 -0.47526723 -0.35758669]\n",
      " [ 0.78267503  0.54956796  0.73146138  0.34276738 -1.01095976 -0.68313293\n",
      "   0.65829138 -0.16808552 -0.59874125 -0.58234618]\n",
      " [-0.17164665  0.26614091 -0.09307196  0.19986876 -0.0757677   0.11045238\n",
      "   0.42220596 -0.49099597 -0.30837605  0.17238348]\n",
      " [ 0.46548308  0.17101383 -0.08124382  0.01651334 -0.50888072 -0.50455804\n",
      "   0.36469923  0.03115595  0.20918212 -0.13931062]\n",
      " [ 0.18355425  0.10461449 -0.17526408  0.18939619 -0.16539417  0.15594072\n",
      "   0.27485095 -0.20023885 -0.36406188  0.03054199]\n",
      " [ 0.36747678  0.33545124 -0.12164232 -0.24114666 -0.38138015  0.3134707\n",
      "   0.0719663  -0.1116312  -0.10425172 -0.11404527]]\n"
     ]
    }
   ],
   "source": [
    "# тест для задания 4\n",
    "test_data = np.random.normal(loc=10, scale=1, size=(10,10))\n",
    "get_stats(test_data)"
   ]
  },
  {
   "cell_type": "markdown",
   "metadata": {},
   "source": [
    "\n",
    "**5.** Повторите 100 раз следующий эксперимент: сгенерируйте две матрицы размера 10×10 из стандартного нормального распределения, перемножьте их (как матрицы) и найдите максимальный элемент. Какое среднее значение по экспериментам у максимальных элементов? 95-процентная квантиль?\n",
    "\n",
    "__Квантиль__ — это значение, ниже которого лежит определённое число наблюдений, соответствующих выбранной частоте.\n",
    "\n",
    "__Функция quantile()__ вычисляет q-й квантиль значений элементов массива или элементов вдоль указанной оси.\n",
    "\n",
    "Единственное отличие квантиля от процентиля - диапазон значений параметра q принимает значения в интервале [0, 1].\n",
    "\n",
    "Параметры:\n",
    "\n",
    "* a - массив NumPy или подобный массиву объект.\n",
    "\n",
    "Входные данные.\n",
    "\n",
    "* q - вещественное число, массив NumPy или подобный массиву объект.\n",
    "\n",
    "Квантиль или последовательность квантилей. Допустимые значения находятся в интервале [0, 1]..\n",
    "\n",
    "* axis - целое число или кортеж целых чисел, необязательный параметр.\n",
    "\n",
    "Указывает ось или оси по которым выполняется вычисление. По умолчанию axis = None, что соответствует вычислению квантиля \n",
    "так, словно a сжат до одной оси.\n",
    "\n",
    "* out - массив NumPy, необязательный параметр.\n",
    "\n",
    "Массив в который можно поместить результат функции. Данный массив должен соответствовать форме и типу данных результирующего массива функции (зачастую, тип данных может быть преобразован автоматически). Указание данного параметра, позволяет избежать лишней операции присваивания тем самым немного ускоряя работу вашего кода. Полезный параметр если вы очень часто обращаетесь к функции в цикле.\n",
    "\n",
    "* overwrite_input - True или False, необязательный параметр.\n",
    "\n",
    "Значение True позволяет использовать входной массив a для промежуточных вычислей, что позволяет сэкономит память но приводит к потере данных.\n",
    "\n",
    "* interpolation - {‘linear’, ‘lower’, ‘higher’, ‘midpoint’, ‘nearest’}, необязательный параметр.\n",
    "\n",
    "__Процентиль__ показывает процент наблюдений, лежащих ниже выбранного значения"
   ]
  },
  {
   "cell_type": "code",
   "execution_count": 13,
   "metadata": {},
   "outputs": [
    {
     "name": "stdout",
     "output_type": "stream",
     "text": [
      "среднее значение среди максимальных: 8.18514804872087 \n",
      " 95 процентный квантиль: 10.938435498147813 \n",
      " \n"
     ]
    }
   ],
   "source": [
    "\n",
    "max_value = []\n",
    "\n",
    "for exp_num in range(100):\n",
    "    \n",
    "    MY_MATRIX1 = np.random.normal(loc=0, scale=1, size=(10,10))\n",
    "    MY_MATRIX2 = np.random.normal(loc=0, scale=1, size=(10,10))\n",
    "    MAT_DOT = np.dot(MY_MATRIX1, MY_MATRIX2)\n",
    "    \n",
    "    max_value.append(MAT_DOT.max())\n",
    "    \n",
    "\n",
    "   \n",
    "my_mean = np.mean(max_value)\n",
    "myquantile = np.quantile(max_value, q=0.95)\n",
    "\n",
    "print(\"среднее значение среди максимальных: {} \\n 95 процентный квантиль: {} \\n \".format(my_mean, myquantile))\n",
    "\n"
   ]
  },
  {
   "cell_type": "markdown",
   "metadata": {},
   "source": [
    "### Pandas\n",
    "\n",
    "![](https://metrouk2.files.wordpress.com/2015/10/panda.jpg)\n",
    "\n",
    "#### Ответьте на вопросы о данных по авиарейсам в США за январь-апрель 2008 года.\n",
    "\n",
    "[Данные](https://www.dropbox.com/s/dvfitn93obn0rql/2008.csv?dl=0) и их [описание](http://stat-computing.org/dataexpo/2009/the-data.html)"
   ]
  },
  {
   "cell_type": "markdown",
   "metadata": {},
   "source": [
    "2\tMonth\t1-12\n",
    "\n",
    "3\tDayofMonth\t1-31\n",
    "\n",
    "4\tDayOfWeek\t1 (Monday) - 7 (Sunday)\n",
    "\n",
    "5\tDepTime\tactual departure time (local, hhmm)\n",
    "\n",
    "6\tCRSDepTime\tscheduled departure time (local, hhmm)\n",
    "\n",
    "7\tArrTime\tactual arrival time (local, hhmm)\n",
    "\n",
    "8\tCRSArrTime\tscheduled arrival time (local, hhmm)\n",
    "\n",
    "9\tUniqueCarrier\tunique carrier code\n",
    "\n",
    "10\tFlightNum\tflight number\n",
    "\n",
    "11\tTailNum\tplane tail number\n",
    "\n",
    "12\tActualElapsedTime\tin minutes\n",
    "\n",
    "13\tCRSElapsedTime\tin minutes\n",
    "\n",
    "14\tAirTime -\tin minutes\n",
    "\n",
    "15\tArrDelay - \tarrival delay, in minutes\n",
    "\n",
    "16\tDepDelay - \tdeparture delay, in minutes\n",
    "\n",
    "17\tOrigin\t - origin\n",
    "\n",
    "18\tDest  -\tdestination\n",
    "\n",
    "19\tDistance - \tin miles\n",
    "\n",
    "20\tTaxiIn\ttaxi in time, in minutes\n",
    "\n",
    "21\tTaxiOut\ttaxi out time in minutes\n",
    "\n",
    "22\tCancelled\twas the flight cancelled?\n",
    "\n",
    "23\tCancellationCode\treason for cancellation (A = carrier, B = weather, C = NAS, D = security)\n",
    "\n",
    "24\tDiverted\t1 = yes, 0 = no\n",
    "\n",
    "25\tCarrierDelay\tin minutes\n",
    "\n",
    "26\tWeatherDelay\tin minutes\n",
    "\n",
    "27\tNASDelay\tin minutes\n",
    "\n",
    "28\tSecurityDelay\tin minutes\n",
    "\n",
    "29\tLateAircraftDelay\tin minutes\n"
   ]
  },
  {
   "cell_type": "code",
   "execution_count": 14,
   "metadata": {},
   "outputs": [
    {
     "name": "stdout",
     "output_type": "stream",
     "text": [
      "В таблице (70000, 29) строка, таблица представляет из себя данные по авиарейсам\n"
     ]
    },
    {
     "data": {
      "text/html": [
       "<div>\n",
       "<style scoped>\n",
       "    .dataframe tbody tr th:only-of-type {\n",
       "        vertical-align: middle;\n",
       "    }\n",
       "\n",
       "    .dataframe tbody tr th {\n",
       "        vertical-align: top;\n",
       "    }\n",
       "\n",
       "    .dataframe thead th {\n",
       "        text-align: right;\n",
       "    }\n",
       "</style>\n",
       "<table border=\"1\" class=\"dataframe\">\n",
       "  <thead>\n",
       "    <tr style=\"text-align: right;\">\n",
       "      <th></th>\n",
       "      <th>Year</th>\n",
       "      <th>Month</th>\n",
       "      <th>DayofMonth</th>\n",
       "      <th>DayOfWeek</th>\n",
       "      <th>DepTime</th>\n",
       "      <th>CRSDepTime</th>\n",
       "      <th>ArrTime</th>\n",
       "      <th>CRSArrTime</th>\n",
       "      <th>UniqueCarrier</th>\n",
       "      <th>FlightNum</th>\n",
       "      <th>...</th>\n",
       "      <th>TaxiIn</th>\n",
       "      <th>TaxiOut</th>\n",
       "      <th>Cancelled</th>\n",
       "      <th>CancellationCode</th>\n",
       "      <th>Diverted</th>\n",
       "      <th>CarrierDelay</th>\n",
       "      <th>WeatherDelay</th>\n",
       "      <th>NASDelay</th>\n",
       "      <th>SecurityDelay</th>\n",
       "      <th>LateAircraftDelay</th>\n",
       "    </tr>\n",
       "  </thead>\n",
       "  <tbody>\n",
       "    <tr>\n",
       "      <th>69990</th>\n",
       "      <td>2008</td>\n",
       "      <td>12</td>\n",
       "      <td>23</td>\n",
       "      <td>2</td>\n",
       "      <td>1627.0</td>\n",
       "      <td>1630</td>\n",
       "      <td>1714.0</td>\n",
       "      <td>1715</td>\n",
       "      <td>MQ</td>\n",
       "      <td>3092</td>\n",
       "      <td>...</td>\n",
       "      <td>9.0</td>\n",
       "      <td>12.0</td>\n",
       "      <td>0</td>\n",
       "      <td>NaN</td>\n",
       "      <td>0</td>\n",
       "      <td>NaN</td>\n",
       "      <td>NaN</td>\n",
       "      <td>NaN</td>\n",
       "      <td>NaN</td>\n",
       "      <td>NaN</td>\n",
       "    </tr>\n",
       "    <tr>\n",
       "      <th>69991</th>\n",
       "      <td>2008</td>\n",
       "      <td>4</td>\n",
       "      <td>24</td>\n",
       "      <td>4</td>\n",
       "      <td>914.0</td>\n",
       "      <td>920</td>\n",
       "      <td>1235.0</td>\n",
       "      <td>1231</td>\n",
       "      <td>NW</td>\n",
       "      <td>241</td>\n",
       "      <td>...</td>\n",
       "      <td>11.0</td>\n",
       "      <td>21.0</td>\n",
       "      <td>0</td>\n",
       "      <td>NaN</td>\n",
       "      <td>0</td>\n",
       "      <td>NaN</td>\n",
       "      <td>NaN</td>\n",
       "      <td>NaN</td>\n",
       "      <td>NaN</td>\n",
       "      <td>NaN</td>\n",
       "    </tr>\n",
       "    <tr>\n",
       "      <th>69992</th>\n",
       "      <td>2008</td>\n",
       "      <td>11</td>\n",
       "      <td>4</td>\n",
       "      <td>2</td>\n",
       "      <td>754.0</td>\n",
       "      <td>801</td>\n",
       "      <td>1027.0</td>\n",
       "      <td>1039</td>\n",
       "      <td>UA</td>\n",
       "      <td>885</td>\n",
       "      <td>...</td>\n",
       "      <td>5.0</td>\n",
       "      <td>17.0</td>\n",
       "      <td>0</td>\n",
       "      <td>NaN</td>\n",
       "      <td>0</td>\n",
       "      <td>NaN</td>\n",
       "      <td>NaN</td>\n",
       "      <td>NaN</td>\n",
       "      <td>NaN</td>\n",
       "      <td>NaN</td>\n",
       "    </tr>\n",
       "    <tr>\n",
       "      <th>69993</th>\n",
       "      <td>2008</td>\n",
       "      <td>2</td>\n",
       "      <td>28</td>\n",
       "      <td>4</td>\n",
       "      <td>1410.0</td>\n",
       "      <td>1400</td>\n",
       "      <td>1501.0</td>\n",
       "      <td>1455</td>\n",
       "      <td>MQ</td>\n",
       "      <td>3547</td>\n",
       "      <td>...</td>\n",
       "      <td>5.0</td>\n",
       "      <td>14.0</td>\n",
       "      <td>0</td>\n",
       "      <td>NaN</td>\n",
       "      <td>0</td>\n",
       "      <td>NaN</td>\n",
       "      <td>NaN</td>\n",
       "      <td>NaN</td>\n",
       "      <td>NaN</td>\n",
       "      <td>NaN</td>\n",
       "    </tr>\n",
       "    <tr>\n",
       "      <th>69994</th>\n",
       "      <td>2008</td>\n",
       "      <td>1</td>\n",
       "      <td>26</td>\n",
       "      <td>6</td>\n",
       "      <td>920.0</td>\n",
       "      <td>925</td>\n",
       "      <td>1110.0</td>\n",
       "      <td>1118</td>\n",
       "      <td>OH</td>\n",
       "      <td>5218</td>\n",
       "      <td>...</td>\n",
       "      <td>12.0</td>\n",
       "      <td>13.0</td>\n",
       "      <td>0</td>\n",
       "      <td>NaN</td>\n",
       "      <td>0</td>\n",
       "      <td>NaN</td>\n",
       "      <td>NaN</td>\n",
       "      <td>NaN</td>\n",
       "      <td>NaN</td>\n",
       "      <td>NaN</td>\n",
       "    </tr>\n",
       "    <tr>\n",
       "      <th>69995</th>\n",
       "      <td>2008</td>\n",
       "      <td>5</td>\n",
       "      <td>12</td>\n",
       "      <td>1</td>\n",
       "      <td>1829.0</td>\n",
       "      <td>1840</td>\n",
       "      <td>2137.0</td>\n",
       "      <td>2149</td>\n",
       "      <td>DL</td>\n",
       "      <td>794</td>\n",
       "      <td>...</td>\n",
       "      <td>22.0</td>\n",
       "      <td>20.0</td>\n",
       "      <td>0</td>\n",
       "      <td>NaN</td>\n",
       "      <td>0</td>\n",
       "      <td>NaN</td>\n",
       "      <td>NaN</td>\n",
       "      <td>NaN</td>\n",
       "      <td>NaN</td>\n",
       "      <td>NaN</td>\n",
       "    </tr>\n",
       "    <tr>\n",
       "      <th>69996</th>\n",
       "      <td>2008</td>\n",
       "      <td>5</td>\n",
       "      <td>11</td>\n",
       "      <td>7</td>\n",
       "      <td>1149.0</td>\n",
       "      <td>1125</td>\n",
       "      <td>1336.0</td>\n",
       "      <td>1314</td>\n",
       "      <td>OO</td>\n",
       "      <td>6159</td>\n",
       "      <td>...</td>\n",
       "      <td>4.0</td>\n",
       "      <td>13.0</td>\n",
       "      <td>0</td>\n",
       "      <td>NaN</td>\n",
       "      <td>0</td>\n",
       "      <td>0.0</td>\n",
       "      <td>0.0</td>\n",
       "      <td>0.0</td>\n",
       "      <td>0.0</td>\n",
       "      <td>22.0</td>\n",
       "    </tr>\n",
       "    <tr>\n",
       "      <th>69997</th>\n",
       "      <td>2008</td>\n",
       "      <td>9</td>\n",
       "      <td>24</td>\n",
       "      <td>3</td>\n",
       "      <td>1012.0</td>\n",
       "      <td>1012</td>\n",
       "      <td>1132.0</td>\n",
       "      <td>1132</td>\n",
       "      <td>YV</td>\n",
       "      <td>7058</td>\n",
       "      <td>...</td>\n",
       "      <td>7.0</td>\n",
       "      <td>10.0</td>\n",
       "      <td>0</td>\n",
       "      <td>NaN</td>\n",
       "      <td>0</td>\n",
       "      <td>NaN</td>\n",
       "      <td>NaN</td>\n",
       "      <td>NaN</td>\n",
       "      <td>NaN</td>\n",
       "      <td>NaN</td>\n",
       "    </tr>\n",
       "    <tr>\n",
       "      <th>69998</th>\n",
       "      <td>2008</td>\n",
       "      <td>2</td>\n",
       "      <td>18</td>\n",
       "      <td>1</td>\n",
       "      <td>1906.0</td>\n",
       "      <td>1900</td>\n",
       "      <td>2200.0</td>\n",
       "      <td>2139</td>\n",
       "      <td>NW</td>\n",
       "      <td>641</td>\n",
       "      <td>...</td>\n",
       "      <td>20.0</td>\n",
       "      <td>22.0</td>\n",
       "      <td>0</td>\n",
       "      <td>NaN</td>\n",
       "      <td>0</td>\n",
       "      <td>0.0</td>\n",
       "      <td>0.0</td>\n",
       "      <td>15.0</td>\n",
       "      <td>0.0</td>\n",
       "      <td>6.0</td>\n",
       "    </tr>\n",
       "    <tr>\n",
       "      <th>69999</th>\n",
       "      <td>2008</td>\n",
       "      <td>12</td>\n",
       "      <td>6</td>\n",
       "      <td>6</td>\n",
       "      <td>859.0</td>\n",
       "      <td>900</td>\n",
       "      <td>959.0</td>\n",
       "      <td>1005</td>\n",
       "      <td>WN</td>\n",
       "      <td>510</td>\n",
       "      <td>...</td>\n",
       "      <td>2.0</td>\n",
       "      <td>12.0</td>\n",
       "      <td>0</td>\n",
       "      <td>NaN</td>\n",
       "      <td>0</td>\n",
       "      <td>NaN</td>\n",
       "      <td>NaN</td>\n",
       "      <td>NaN</td>\n",
       "      <td>NaN</td>\n",
       "      <td>NaN</td>\n",
       "    </tr>\n",
       "  </tbody>\n",
       "</table>\n",
       "<p>10 rows × 29 columns</p>\n",
       "</div>"
      ],
      "text/plain": [
       "       Year  Month  DayofMonth  DayOfWeek  DepTime  CRSDepTime  ArrTime  \\\n",
       "69990  2008     12          23          2   1627.0        1630   1714.0   \n",
       "69991  2008      4          24          4    914.0         920   1235.0   \n",
       "69992  2008     11           4          2    754.0         801   1027.0   \n",
       "69993  2008      2          28          4   1410.0        1400   1501.0   \n",
       "69994  2008      1          26          6    920.0         925   1110.0   \n",
       "69995  2008      5          12          1   1829.0        1840   2137.0   \n",
       "69996  2008      5          11          7   1149.0        1125   1336.0   \n",
       "69997  2008      9          24          3   1012.0        1012   1132.0   \n",
       "69998  2008      2          18          1   1906.0        1900   2200.0   \n",
       "69999  2008     12           6          6    859.0         900    959.0   \n",
       "\n",
       "       CRSArrTime UniqueCarrier  FlightNum  ... TaxiIn  TaxiOut  Cancelled  \\\n",
       "69990        1715            MQ       3092  ...    9.0     12.0          0   \n",
       "69991        1231            NW        241  ...   11.0     21.0          0   \n",
       "69992        1039            UA        885  ...    5.0     17.0          0   \n",
       "69993        1455            MQ       3547  ...    5.0     14.0          0   \n",
       "69994        1118            OH       5218  ...   12.0     13.0          0   \n",
       "69995        2149            DL        794  ...   22.0     20.0          0   \n",
       "69996        1314            OO       6159  ...    4.0     13.0          0   \n",
       "69997        1132            YV       7058  ...    7.0     10.0          0   \n",
       "69998        2139            NW        641  ...   20.0     22.0          0   \n",
       "69999        1005            WN        510  ...    2.0     12.0          0   \n",
       "\n",
       "       CancellationCode  Diverted  CarrierDelay WeatherDelay NASDelay  \\\n",
       "69990               NaN         0           NaN          NaN      NaN   \n",
       "69991               NaN         0           NaN          NaN      NaN   \n",
       "69992               NaN         0           NaN          NaN      NaN   \n",
       "69993               NaN         0           NaN          NaN      NaN   \n",
       "69994               NaN         0           NaN          NaN      NaN   \n",
       "69995               NaN         0           NaN          NaN      NaN   \n",
       "69996               NaN         0           0.0          0.0      0.0   \n",
       "69997               NaN         0           NaN          NaN      NaN   \n",
       "69998               NaN         0           0.0          0.0     15.0   \n",
       "69999               NaN         0           NaN          NaN      NaN   \n",
       "\n",
       "       SecurityDelay  LateAircraftDelay  \n",
       "69990            NaN                NaN  \n",
       "69991            NaN                NaN  \n",
       "69992            NaN                NaN  \n",
       "69993            NaN                NaN  \n",
       "69994            NaN                NaN  \n",
       "69995            NaN                NaN  \n",
       "69996            0.0               22.0  \n",
       "69997            NaN                NaN  \n",
       "69998            0.0                6.0  \n",
       "69999            NaN                NaN  \n",
       "\n",
       "[10 rows x 29 columns]"
      ]
     },
     "execution_count": 14,
     "metadata": {},
     "output_type": "execute_result"
    }
   ],
   "source": [
    "import pandas as pd\n",
    "%matplotlib inline\n",
    "\n",
    "frame = pd.read_csv(\"2008.csv\", header=0, sep=',')\n",
    "print(\"В таблице {} строка, таблица представляет из себя данные по авиарейсам\".format(frame.shape))\n",
    "frame.tail(10)"
   ]
  },
  {
   "cell_type": "code",
   "execution_count": 15,
   "metadata": {},
   "outputs": [
    {
     "data": {
      "text/plain": [
       "Year                     0\n",
       "Month                    0\n",
       "DayofMonth               0\n",
       "DayOfWeek                0\n",
       "DepTime               1399\n",
       "CRSDepTime               0\n",
       "ArrTime               1556\n",
       "CRSArrTime               0\n",
       "UniqueCarrier            0\n",
       "FlightNum                0\n",
       "TailNum                820\n",
       "ActualElapsedTime     1582\n",
       "CRSElapsedTime           9\n",
       "AirTime               1582\n",
       "ArrDelay              1582\n",
       "DepDelay              1399\n",
       "Origin                   0\n",
       "Dest                     0\n",
       "Distance                 0\n",
       "TaxiIn                1556\n",
       "TaxiOut               1406\n",
       "Cancelled                0\n",
       "CancellationCode     68589\n",
       "Diverted                 0\n",
       "CarrierDelay         54747\n",
       "WeatherDelay         54747\n",
       "NASDelay             54747\n",
       "SecurityDelay        54747\n",
       "LateAircraftDelay    54747\n",
       "dtype: int64"
      ]
     },
     "execution_count": 15,
     "metadata": {},
     "output_type": "execute_result"
    }
   ],
   "source": [
    "frame.isnull().sum()"
   ]
  },
  {
   "cell_type": "markdown",
   "metadata": {},
   "source": [
    "**6.** Какая из причин отмены рейса (`CancellationCode`) была самой частой? (расшифровки кодов можно найти в описании данных)\n",
    "\n",
    "(A = carrier, B = weather, C = NAS, D = security)"
   ]
  },
  {
   "cell_type": "code",
   "execution_count": 16,
   "metadata": {},
   "outputs": [
    {
     "name": "stdout",
     "output_type": "stream",
     "text": [
      "ОТВЕТ:Наиболее частая отмена рейсов: A - carrier\n"
     ]
    }
   ],
   "source": [
    "cancelled_reason = frame.groupby(\"CancellationCode\")[\"Cancelled\"].sum().idxmax()\n",
    "print(\"ОТВЕТ:Наиболее частая отмена рейсов: {} - carrier\".format(cancelled_reason))\n"
   ]
  },
  {
   "cell_type": "markdown",
   "metadata": {},
   "source": [
    "**7.** Найдите среднее, минимальное и максимальное расстояние, пройденное самолетом."
   ]
  },
  {
   "cell_type": "code",
   "execution_count": 17,
   "metadata": {},
   "outputs": [
    {
     "name": "stdout",
     "output_type": "stream",
     "text": [
      "ОТВЕТ:Масимальное растояние(в милях) пройденное самолетом: 4962 \n",
      " Минимальное расстояние(в милях): 31 \n",
      " Среднее расстояние(в милях): 724.51\n"
     ]
    }
   ],
   "source": [
    "max_dist = frame[\"Distance\"].max()\n",
    "min_dist = frame[\"Distance\"].min()\n",
    "mean_dist = frame[\"Distance\"].mean()\n",
    "\n",
    "print(\"ОТВЕТ:Масимальное растояние(в милях) пройденное самолетом: {} \\n Минимальное расстояние(в милях): {} \\n Среднее расстояние(в милях): {:0.2f}\".format(max_dist, min_dist, mean_dist))"
   ]
  },
  {
   "cell_type": "markdown",
   "metadata": {},
   "source": [
    "**8.** Не выглядит ли подозрительным минимальное пройденное расстояние? В какие дни и на каких рейсах оно было? Какое расстояние было пройдено этими же рейсами в другие дни?"
   ]
  },
  {
   "cell_type": "code",
   "execution_count": 18,
   "metadata": {},
   "outputs": [
    {
     "name": "stdout",
     "output_type": "stream",
     "text": [
      "ОТВЕТ: Номер рейса и день с мин. расстоянием \n",
      "\n",
      "        Month  DayofMonth  FlightNum  Distance\n",
      "1116      12          30         65        31\n",
      "27534      3          11         64        31\n",
      "46082      8           9         65        31\n",
      "48112      2          28         64        31 \n"
     ]
    },
    {
     "data": {
      "text/html": [
       "<div>\n",
       "<style scoped>\n",
       "    .dataframe tbody tr th:only-of-type {\n",
       "        vertical-align: middle;\n",
       "    }\n",
       "\n",
       "    .dataframe tbody tr th {\n",
       "        vertical-align: top;\n",
       "    }\n",
       "\n",
       "    .dataframe thead th {\n",
       "        text-align: right;\n",
       "    }\n",
       "</style>\n",
       "<table border=\"1\" class=\"dataframe\">\n",
       "  <thead>\n",
       "    <tr style=\"text-align: right;\">\n",
       "      <th></th>\n",
       "      <th>FlightNum</th>\n",
       "      <th>Distance</th>\n",
       "    </tr>\n",
       "  </thead>\n",
       "  <tbody>\n",
       "    <tr>\n",
       "      <th>501</th>\n",
       "      <td>64</td>\n",
       "      <td>533</td>\n",
       "    </tr>\n",
       "    <tr>\n",
       "      <th>1116</th>\n",
       "      <td>65</td>\n",
       "      <td>31</td>\n",
       "    </tr>\n",
       "    <tr>\n",
       "      <th>1389</th>\n",
       "      <td>64</td>\n",
       "      <td>680</td>\n",
       "    </tr>\n",
       "    <tr>\n",
       "      <th>1517</th>\n",
       "      <td>65</td>\n",
       "      <td>680</td>\n",
       "    </tr>\n",
       "    <tr>\n",
       "      <th>2619</th>\n",
       "      <td>64</td>\n",
       "      <td>2381</td>\n",
       "    </tr>\n",
       "    <tr>\n",
       "      <th>...</th>\n",
       "      <td>...</td>\n",
       "      <td>...</td>\n",
       "    </tr>\n",
       "    <tr>\n",
       "      <th>66529</th>\n",
       "      <td>65</td>\n",
       "      <td>82</td>\n",
       "    </tr>\n",
       "    <tr>\n",
       "      <th>67172</th>\n",
       "      <td>64</td>\n",
       "      <td>533</td>\n",
       "    </tr>\n",
       "    <tr>\n",
       "      <th>68264</th>\n",
       "      <td>65</td>\n",
       "      <td>386</td>\n",
       "    </tr>\n",
       "    <tr>\n",
       "      <th>68338</th>\n",
       "      <td>65</td>\n",
       "      <td>2454</td>\n",
       "    </tr>\n",
       "    <tr>\n",
       "      <th>69305</th>\n",
       "      <td>65</td>\n",
       "      <td>1005</td>\n",
       "    </tr>\n",
       "  </tbody>\n",
       "</table>\n",
       "<p>75 rows × 2 columns</p>\n",
       "</div>"
      ],
      "text/plain": [
       "       FlightNum  Distance\n",
       "501           64       533\n",
       "1116          65        31\n",
       "1389          64       680\n",
       "1517          65       680\n",
       "2619          64      2381\n",
       "...          ...       ...\n",
       "66529         65        82\n",
       "67172         64       533\n",
       "68264         65       386\n",
       "68338         65      2454\n",
       "69305         65      1005\n",
       "\n",
       "[75 rows x 2 columns]"
      ]
     },
     "execution_count": 18,
     "metadata": {},
     "output_type": "execute_result"
    }
   ],
   "source": [
    "import pandas as pd\n",
    "%matplotlib inline\n",
    "\n",
    "frame = pd.read_csv(\"2008.csv\", header=0, sep=',')\n",
    "\n",
    "# Очищаем от отменённых рейсов\n",
    "frame = frame[(frame[\"Cancelled\"] == 0)]\n",
    "\n",
    "# Только с минимальным пройденнным расстоянием\n",
    "my_frame = frame[frame[\"Distance\"] <= 31][[\"Month\", \"DayofMonth\", \"FlightNum\", \"Distance\"]]\n",
    "print(\"ОТВЕТ: Номер рейса и день с мин. расстоянием \\n\\n {} \".format(my_frame))\n",
    "\n",
    "#Какое расстояние было пройдено этими же рейсами в другие дни?\n",
    "#flight_num = my_frame[\"FlightNum\"].unique()\n",
    "#frame[frame[\"Distance\"] <= 31][ \"FlightNum\"].unique())\n",
    "\n",
    "frame[(frame[\"FlightNum\"] == 65 ) | (frame[\"FlightNum\"] == 64 ) ][[\"FlightNum\",\"Distance\"]]"
   ]
  },
  {
   "cell_type": "markdown",
   "metadata": {},
   "source": [
    "**9.** Из какого аэропорта было произведено больше всего вылетов? В каком городе он находится?"
   ]
  },
  {
   "cell_type": "code",
   "execution_count": 19,
   "metadata": {},
   "outputs": [],
   "source": [
    "import pandas as pd\n",
    "%matplotlib inline\n",
    "\n",
    "frame = pd.read_csv(\"2008.csv\", header=0, sep=',')"
   ]
  },
  {
   "cell_type": "code",
   "execution_count": 20,
   "metadata": {},
   "outputs": [
    {
     "name": "stdout",
     "output_type": "stream",
     "text": [
      "ОТВЕТ: Аэропорта с наибольшем количеством вылетов:\n",
      "ATL    4078\n",
      "Name: Origin, dtype: int64 PS: ATL-Атланта\n"
     ]
    }
   ],
   "source": [
    "# Очищаем от отменённых рейсов\n",
    "frame = frame[(frame[\"Cancelled\"] == 0)]\n",
    "\n",
    "# подсчитываем общее количество вылетов для каждого аэропорта и находим максимальное значение\n",
    "ans = frame[\"Origin\"].value_counts()\n",
    "ans = ans[ans == ans.max()]\n",
    "\n",
    "print(\"ОТВЕТ: Аэропорта с наибольшем количеством вылетов:\\n{}\".format(ans), \"PS: ATL-Атланта\")\n",
    "\n"
   ]
  },
  {
   "cell_type": "markdown",
   "metadata": {},
   "source": [
    "**10.** Найдите для каждого аэропорта среднее время полета (`AirTime`) по всем вылетевшим из него рейсам. Какой аэропорт имеет наибольшее значение этого показателя?"
   ]
  },
  {
   "cell_type": "code",
   "execution_count": 21,
   "metadata": {},
   "outputs": [
    {
     "name": "stdout",
     "output_type": "stream",
     "text": [
      "ОТВЕТ:Cреднее время полета (AirTime) по всем вылетевшем из него рейсам: \n",
      "Origin\n",
      "ABE    88.266667\n",
      "ABI    36.400000\n",
      "ABQ    93.454321\n",
      "ABY    35.714286\n",
      "ACK    50.800000\n",
      "         ...    \n",
      "WRG    18.000000\n",
      "XNA    85.945736\n",
      "YAK    35.900000\n",
      "YKM    79.000000\n",
      "YUM    47.470588\n",
      "Name: AirTime, Length: 296, dtype: float64 \n",
      "\n",
      "\n",
      "ОТВЕТ:Аэропорт с наибольшим значением среднего время полёта:\n",
      "Origin\n",
      "SJU    205.2\n",
      "Name: AirTime, dtype: float64\n"
     ]
    }
   ],
   "source": [
    "import pandas as pd\n",
    "%matplotlib inline\n",
    "\n",
    "frame = pd.read_csv(\"2008.csv\", header=0, sep=',')\n",
    "\n",
    "# Очищаем от отменённых рейсов\n",
    "frame = frame[(frame[\"Cancelled\"] == 0)]\n",
    "\n",
    "# среднее время полета (AirTime) по всем вылетевшем из него рейсам\n",
    "frame1 = frame.groupby(\"Origin\")[\"AirTime\"].mean()\n",
    "\n",
    "# наибольшее значение среднего время полёта соответствуеь (San Juan Airport)\n",
    "frame2 = frame1[frame1==frame1.max()]\n",
    "\n",
    "print(\"ОТВЕТ:Cреднее время полета (AirTime) по всем вылетевшем из него рейсам: \\n{} \\n\\n\".format(frame1))\n",
    "print(\"ОТВЕТ:Аэропорт с наибольшим значением среднего время полёта:\\n{}\".format(frame2))"
   ]
  },
  {
   "cell_type": "markdown",
   "metadata": {},
   "source": [
    "**11.** Найдите аэропорт, у которого наибольшая доля задержанных (`DepDelay > 0`) рейсов. Исключите при этом из рассмотрения аэропорты, из которых было отправлено меньше 1000 рейсов (используйте функцию `filter` после `groupby`).\n",
    "\n"
   ]
  },
  {
   "cell_type": "code",
   "execution_count": 22,
   "metadata": {},
   "outputs": [
    {
     "name": "stdout",
     "output_type": "stream",
     "text": [
      "ОТВЕТ: Аэропорт с наибольшим долей задержанных вылетов \n",
      "\n",
      "Origin\n",
      "EWR    0.511159\n",
      "Name: FlightNum, dtype: float64\n"
     ]
    }
   ],
   "source": [
    "import pandas as pd\n",
    "%matplotlib inline\n",
    "\n",
    "frame = pd.read_csv(\"2008.csv\", header=0, sep=',')\n",
    "\n",
    "\n",
    "#1.Исключим  аэропорты c  отправлением меньше 1000 рейсов\n",
    "fn_flt= frame.groupby('Origin').filter(lambda x: x['Origin'].value_counts() > 1000)\n",
    "\n",
    "#2.сортируем аэропорты где имеется задержка в отправлении DepDelay \n",
    "num_dep_delay = fn_flt[fn_flt[\"DepDelay\"] > 0].groupby(\"Origin\")[\"FlightNum\"].count()\n",
    "num_dep = fn_flt.groupby(\"Origin\")[\"FlightNum\"].count()\n",
    "\n",
    "#3.выбираем аэропортs у которых доля задерженных вылетов наибольшая\n",
    "ans = num_dep_delay.div(num_dep)\n",
    "ans = ans[ans == ans.max()]\n",
    "\n",
    "#print(\"Количестов вылетов с задержкой:\\n\\n \", num_dep_delay, \"\\n\\n Общее количестов вылетов: \", num_dep)\n",
    "print(\"ОТВЕТ: Аэропорт с наибольшим долей задержанных вылетов \\n\\n{}\".format(ans))\n"
   ]
  },
  {
   "cell_type": "markdown",
   "metadata": {},
   "source": [
    "## Линейная регрессия\n",
    "\n",
    "В этой части мы разберемся с линейной регрессией, способами её обучения и измерением качества ее прогнозов. \n",
    "\n",
    "Будем рассматривать датасет из предыдущей части задания для предсказания времени задержки отправления рейса в минутах (DepDelay). Отметим, что под задержкой подразумевается не только опоздание рейса относительно планируемого времени вылета, но и отправление до планируемого времени.\n",
    "\n",
    "### Подготовка данных\n",
    "\n",
    "**12.** Считайте выборку из файла при помощи функции pd.read_csv и ответьте на следующие вопросы:\n",
    "   - Имеются ли в данных пропущенные значения?\n",
    "   - Сколько всего пропущенных элементов в таблице \"объект-признак\"?\n",
    "   - Сколько объектов имеют хотя бы один пропуск?\n",
    "   - Сколько признаков имеют хотя бы одно пропущенное значение?"
   ]
  },
  {
   "cell_type": "code",
   "execution_count": 23,
   "metadata": {
    "scrolled": true
   },
   "outputs": [],
   "source": [
    "import pandas as pd\n",
    "df = pd.read_csv(\"2008.csv\", header=0, sep=',')\n"
   ]
  },
  {
   "cell_type": "markdown",
   "metadata": {},
   "source": [
    "__Результат:__\n",
    "\n",
    "* Имеются ли в данных пропущенные значения? - Да\n",
    "* Сколько всего пропущенных элементов в таблице \"объект-признак\"? - 355215\n",
    "* Сколько объектов имеют хотя бы один пропуск? - 16\n",
    "* Сколько признаков имеют хотя бы одно пропущенное значение? 70000"
   ]
  },
  {
   "cell_type": "code",
   "execution_count": 24,
   "metadata": {},
   "outputs": [
    {
     "data": {
      "text/plain": [
       "Year                     0\n",
       "Month                    0\n",
       "DayofMonth               0\n",
       "DayOfWeek                0\n",
       "DepTime               1399\n",
       "CRSDepTime               0\n",
       "ArrTime               1556\n",
       "CRSArrTime               0\n",
       "UniqueCarrier            0\n",
       "FlightNum                0\n",
       "TailNum                820\n",
       "ActualElapsedTime     1582\n",
       "CRSElapsedTime           9\n",
       "AirTime               1582\n",
       "ArrDelay              1582\n",
       "DepDelay              1399\n",
       "Origin                   0\n",
       "Dest                     0\n",
       "Distance                 0\n",
       "TaxiIn                1556\n",
       "TaxiOut               1406\n",
       "Cancelled                0\n",
       "CancellationCode     68589\n",
       "Diverted                 0\n",
       "CarrierDelay         54747\n",
       "WeatherDelay         54747\n",
       "NASDelay             54747\n",
       "SecurityDelay        54747\n",
       "LateAircraftDelay    54747\n",
       "dtype: int64"
      ]
     },
     "execution_count": 24,
     "metadata": {},
     "output_type": "execute_result"
    }
   ],
   "source": [
    "df.isnull().sum()"
   ]
  },
  {
   "cell_type": "code",
   "execution_count": 25,
   "metadata": {},
   "outputs": [
    {
     "data": {
      "text/plain": [
       "355215"
      ]
     },
     "execution_count": 25,
     "metadata": {},
     "output_type": "execute_result"
    }
   ],
   "source": [
    "df.isnull().sum().sum()"
   ]
  },
  {
   "cell_type": "code",
   "execution_count": 26,
   "metadata": {},
   "outputs": [
    {
     "data": {
      "text/plain": [
       "70000"
      ]
     },
     "execution_count": 26,
     "metadata": {},
     "output_type": "execute_result"
    }
   ],
   "source": [
    "(df.isnull().sum(axis=1) > 0).sum()"
   ]
  },
  {
   "cell_type": "markdown",
   "metadata": {},
   "source": [
    "Как вы понимаете, также не имеет смысла рассматривать при решении поставленной задачи объекты с пропущенным значением целевой переменной. В связи с этим ответьте на следующие вопросы и выполните соответствующие действия:\n",
    "\n",
    "\n",
    "Исключите из выборки объекты **с пропущенным значением целевой переменной и со значением целевой переменной, равным 0**, а также при необходимости исключите признаки в соответствии с вашим ответом на последний вопрос из списка и выделите целевую переменную в отдельный вектор, исключив её из матрицы \"объект-признак\"."
   ]
  },
  {
   "cell_type": "markdown",
   "metadata": {},
   "source": [
    "__Ответ:__\n",
    "\n",
    "__1. Имеются ли пропущенные значения в целевой переменной?__\n",
    "\n",
    "ДА\n",
    "\n",
    "__2. Проанализируйте объекты с пропущенными значениями целевой переменной. Чем вызвано это явление? Что их объединяет? Можно ли в связи с этим, на ваш взгляд, исключить какие-то признаки из рассмотрения? Обоснуйте свою точку зрения.__\n",
    "\n",
    "Предобработать бъекты с пропущенными значениями целевой переменой, можно удалив их из датасета, главное не удалять слишком много, чтобы оставалась возможность провести надежный анализ. Т.К. возможен риск потери ценной информации.  Внашем случае целевая переменная отсутствует в 1399 случаях , это 0.01 % от всех значений целевой переменной, можно заменить на средние. \n",
    " \n",
    " Пропуски в значениях целевой переменной, возможно связанны с пропусками в ключевых признаках.\n",
    " \n",
    " Признаки CarrierDelay, WeatherDelay, NASDelay, SecurityDelay, LateAircraftDelay в дальнейшем рассмотрении будут удалены т.к. имеет наибольшее количество пропущенных значений."
   ]
  },
  {
   "cell_type": "code",
   "execution_count": 27,
   "metadata": {},
   "outputs": [
    {
     "data": {
      "text/plain": [
       "1399"
      ]
     },
     "execution_count": 27,
     "metadata": {},
     "output_type": "execute_result"
    }
   ],
   "source": [
    "df[\"DepDelay\"].isnull().sum()"
   ]
  },
  {
   "cell_type": "code",
   "execution_count": 28,
   "metadata": {},
   "outputs": [
    {
     "data": {
      "text/html": [
       "<div>\n",
       "<style scoped>\n",
       "    .dataframe tbody tr th:only-of-type {\n",
       "        vertical-align: middle;\n",
       "    }\n",
       "\n",
       "    .dataframe tbody tr th {\n",
       "        vertical-align: top;\n",
       "    }\n",
       "\n",
       "    .dataframe thead th {\n",
       "        text-align: right;\n",
       "    }\n",
       "</style>\n",
       "<table border=\"1\" class=\"dataframe\">\n",
       "  <thead>\n",
       "    <tr style=\"text-align: right;\">\n",
       "      <th></th>\n",
       "      <th>Year</th>\n",
       "      <th>Month</th>\n",
       "      <th>DayofMonth</th>\n",
       "      <th>DayOfWeek</th>\n",
       "      <th>DepTime</th>\n",
       "      <th>CRSDepTime</th>\n",
       "      <th>ArrTime</th>\n",
       "      <th>CRSArrTime</th>\n",
       "      <th>UniqueCarrier</th>\n",
       "      <th>FlightNum</th>\n",
       "      <th>...</th>\n",
       "      <th>TaxiIn</th>\n",
       "      <th>TaxiOut</th>\n",
       "      <th>Cancelled</th>\n",
       "      <th>CancellationCode</th>\n",
       "      <th>Diverted</th>\n",
       "      <th>CarrierDelay</th>\n",
       "      <th>WeatherDelay</th>\n",
       "      <th>NASDelay</th>\n",
       "      <th>SecurityDelay</th>\n",
       "      <th>LateAircraftDelay</th>\n",
       "    </tr>\n",
       "  </thead>\n",
       "  <tbody>\n",
       "    <tr>\n",
       "      <th>11</th>\n",
       "      <td>2008</td>\n",
       "      <td>3</td>\n",
       "      <td>6</td>\n",
       "      <td>4</td>\n",
       "      <td>NaN</td>\n",
       "      <td>1605</td>\n",
       "      <td>NaN</td>\n",
       "      <td>1940</td>\n",
       "      <td>AA</td>\n",
       "      <td>484</td>\n",
       "      <td>...</td>\n",
       "      <td>NaN</td>\n",
       "      <td>NaN</td>\n",
       "      <td>1</td>\n",
       "      <td>B</td>\n",
       "      <td>0</td>\n",
       "      <td>NaN</td>\n",
       "      <td>NaN</td>\n",
       "      <td>NaN</td>\n",
       "      <td>NaN</td>\n",
       "      <td>NaN</td>\n",
       "    </tr>\n",
       "    <tr>\n",
       "      <th>78</th>\n",
       "      <td>2008</td>\n",
       "      <td>1</td>\n",
       "      <td>19</td>\n",
       "      <td>6</td>\n",
       "      <td>NaN</td>\n",
       "      <td>750</td>\n",
       "      <td>NaN</td>\n",
       "      <td>930</td>\n",
       "      <td>EV</td>\n",
       "      <td>4772</td>\n",
       "      <td>...</td>\n",
       "      <td>NaN</td>\n",
       "      <td>NaN</td>\n",
       "      <td>1</td>\n",
       "      <td>B</td>\n",
       "      <td>0</td>\n",
       "      <td>NaN</td>\n",
       "      <td>NaN</td>\n",
       "      <td>NaN</td>\n",
       "      <td>NaN</td>\n",
       "      <td>NaN</td>\n",
       "    </tr>\n",
       "    <tr>\n",
       "      <th>103</th>\n",
       "      <td>2008</td>\n",
       "      <td>7</td>\n",
       "      <td>24</td>\n",
       "      <td>4</td>\n",
       "      <td>NaN</td>\n",
       "      <td>1230</td>\n",
       "      <td>NaN</td>\n",
       "      <td>1355</td>\n",
       "      <td>FL</td>\n",
       "      <td>816</td>\n",
       "      <td>...</td>\n",
       "      <td>NaN</td>\n",
       "      <td>NaN</td>\n",
       "      <td>1</td>\n",
       "      <td>A</td>\n",
       "      <td>0</td>\n",
       "      <td>NaN</td>\n",
       "      <td>NaN</td>\n",
       "      <td>NaN</td>\n",
       "      <td>NaN</td>\n",
       "      <td>NaN</td>\n",
       "    </tr>\n",
       "    <tr>\n",
       "      <th>112</th>\n",
       "      <td>2008</td>\n",
       "      <td>2</td>\n",
       "      <td>4</td>\n",
       "      <td>1</td>\n",
       "      <td>NaN</td>\n",
       "      <td>620</td>\n",
       "      <td>NaN</td>\n",
       "      <td>758</td>\n",
       "      <td>NW</td>\n",
       "      <td>1281</td>\n",
       "      <td>...</td>\n",
       "      <td>NaN</td>\n",
       "      <td>NaN</td>\n",
       "      <td>1</td>\n",
       "      <td>B</td>\n",
       "      <td>0</td>\n",
       "      <td>NaN</td>\n",
       "      <td>NaN</td>\n",
       "      <td>NaN</td>\n",
       "      <td>NaN</td>\n",
       "      <td>NaN</td>\n",
       "    </tr>\n",
       "    <tr>\n",
       "      <th>128</th>\n",
       "      <td>2008</td>\n",
       "      <td>1</td>\n",
       "      <td>21</td>\n",
       "      <td>1</td>\n",
       "      <td>NaN</td>\n",
       "      <td>1838</td>\n",
       "      <td>NaN</td>\n",
       "      <td>2005</td>\n",
       "      <td>UA</td>\n",
       "      <td>1251</td>\n",
       "      <td>...</td>\n",
       "      <td>NaN</td>\n",
       "      <td>NaN</td>\n",
       "      <td>1</td>\n",
       "      <td>A</td>\n",
       "      <td>0</td>\n",
       "      <td>NaN</td>\n",
       "      <td>NaN</td>\n",
       "      <td>NaN</td>\n",
       "      <td>NaN</td>\n",
       "      <td>NaN</td>\n",
       "    </tr>\n",
       "    <tr>\n",
       "      <th>...</th>\n",
       "      <td>...</td>\n",
       "      <td>...</td>\n",
       "      <td>...</td>\n",
       "      <td>...</td>\n",
       "      <td>...</td>\n",
       "      <td>...</td>\n",
       "      <td>...</td>\n",
       "      <td>...</td>\n",
       "      <td>...</td>\n",
       "      <td>...</td>\n",
       "      <td>...</td>\n",
       "      <td>...</td>\n",
       "      <td>...</td>\n",
       "      <td>...</td>\n",
       "      <td>...</td>\n",
       "      <td>...</td>\n",
       "      <td>...</td>\n",
       "      <td>...</td>\n",
       "      <td>...</td>\n",
       "      <td>...</td>\n",
       "      <td>...</td>\n",
       "    </tr>\n",
       "    <tr>\n",
       "      <th>69818</th>\n",
       "      <td>2008</td>\n",
       "      <td>6</td>\n",
       "      <td>9</td>\n",
       "      <td>1</td>\n",
       "      <td>NaN</td>\n",
       "      <td>1645</td>\n",
       "      <td>NaN</td>\n",
       "      <td>1800</td>\n",
       "      <td>MQ</td>\n",
       "      <td>3627</td>\n",
       "      <td>...</td>\n",
       "      <td>NaN</td>\n",
       "      <td>NaN</td>\n",
       "      <td>1</td>\n",
       "      <td>C</td>\n",
       "      <td>0</td>\n",
       "      <td>NaN</td>\n",
       "      <td>NaN</td>\n",
       "      <td>NaN</td>\n",
       "      <td>NaN</td>\n",
       "      <td>NaN</td>\n",
       "    </tr>\n",
       "    <tr>\n",
       "      <th>69836</th>\n",
       "      <td>2008</td>\n",
       "      <td>1</td>\n",
       "      <td>25</td>\n",
       "      <td>5</td>\n",
       "      <td>NaN</td>\n",
       "      <td>938</td>\n",
       "      <td>NaN</td>\n",
       "      <td>1030</td>\n",
       "      <td>MQ</td>\n",
       "      <td>3254</td>\n",
       "      <td>...</td>\n",
       "      <td>NaN</td>\n",
       "      <td>NaN</td>\n",
       "      <td>1</td>\n",
       "      <td>B</td>\n",
       "      <td>0</td>\n",
       "      <td>NaN</td>\n",
       "      <td>NaN</td>\n",
       "      <td>NaN</td>\n",
       "      <td>NaN</td>\n",
       "      <td>NaN</td>\n",
       "    </tr>\n",
       "    <tr>\n",
       "      <th>69884</th>\n",
       "      <td>2008</td>\n",
       "      <td>12</td>\n",
       "      <td>26</td>\n",
       "      <td>5</td>\n",
       "      <td>NaN</td>\n",
       "      <td>1935</td>\n",
       "      <td>NaN</td>\n",
       "      <td>2116</td>\n",
       "      <td>NW</td>\n",
       "      <td>1430</td>\n",
       "      <td>...</td>\n",
       "      <td>NaN</td>\n",
       "      <td>NaN</td>\n",
       "      <td>1</td>\n",
       "      <td>B</td>\n",
       "      <td>0</td>\n",
       "      <td>NaN</td>\n",
       "      <td>NaN</td>\n",
       "      <td>NaN</td>\n",
       "      <td>NaN</td>\n",
       "      <td>NaN</td>\n",
       "    </tr>\n",
       "    <tr>\n",
       "      <th>69918</th>\n",
       "      <td>2008</td>\n",
       "      <td>3</td>\n",
       "      <td>1</td>\n",
       "      <td>6</td>\n",
       "      <td>NaN</td>\n",
       "      <td>600</td>\n",
       "      <td>NaN</td>\n",
       "      <td>742</td>\n",
       "      <td>EV</td>\n",
       "      <td>4715</td>\n",
       "      <td>...</td>\n",
       "      <td>NaN</td>\n",
       "      <td>NaN</td>\n",
       "      <td>1</td>\n",
       "      <td>A</td>\n",
       "      <td>0</td>\n",
       "      <td>NaN</td>\n",
       "      <td>NaN</td>\n",
       "      <td>NaN</td>\n",
       "      <td>NaN</td>\n",
       "      <td>NaN</td>\n",
       "    </tr>\n",
       "    <tr>\n",
       "      <th>69949</th>\n",
       "      <td>2008</td>\n",
       "      <td>1</td>\n",
       "      <td>21</td>\n",
       "      <td>1</td>\n",
       "      <td>NaN</td>\n",
       "      <td>1630</td>\n",
       "      <td>NaN</td>\n",
       "      <td>1729</td>\n",
       "      <td>MQ</td>\n",
       "      <td>4198</td>\n",
       "      <td>...</td>\n",
       "      <td>NaN</td>\n",
       "      <td>NaN</td>\n",
       "      <td>1</td>\n",
       "      <td>C</td>\n",
       "      <td>0</td>\n",
       "      <td>NaN</td>\n",
       "      <td>NaN</td>\n",
       "      <td>NaN</td>\n",
       "      <td>NaN</td>\n",
       "      <td>NaN</td>\n",
       "    </tr>\n",
       "  </tbody>\n",
       "</table>\n",
       "<p>1399 rows × 29 columns</p>\n",
       "</div>"
      ],
      "text/plain": [
       "       Year  Month  DayofMonth  DayOfWeek  DepTime  CRSDepTime  ArrTime  \\\n",
       "11     2008      3           6          4      NaN        1605      NaN   \n",
       "78     2008      1          19          6      NaN         750      NaN   \n",
       "103    2008      7          24          4      NaN        1230      NaN   \n",
       "112    2008      2           4          1      NaN         620      NaN   \n",
       "128    2008      1          21          1      NaN        1838      NaN   \n",
       "...     ...    ...         ...        ...      ...         ...      ...   \n",
       "69818  2008      6           9          1      NaN        1645      NaN   \n",
       "69836  2008      1          25          5      NaN         938      NaN   \n",
       "69884  2008     12          26          5      NaN        1935      NaN   \n",
       "69918  2008      3           1          6      NaN         600      NaN   \n",
       "69949  2008      1          21          1      NaN        1630      NaN   \n",
       "\n",
       "       CRSArrTime UniqueCarrier  FlightNum  ... TaxiIn  TaxiOut  Cancelled  \\\n",
       "11           1940            AA        484  ...    NaN      NaN          1   \n",
       "78            930            EV       4772  ...    NaN      NaN          1   \n",
       "103          1355            FL        816  ...    NaN      NaN          1   \n",
       "112           758            NW       1281  ...    NaN      NaN          1   \n",
       "128          2005            UA       1251  ...    NaN      NaN          1   \n",
       "...           ...           ...        ...  ...    ...      ...        ...   \n",
       "69818        1800            MQ       3627  ...    NaN      NaN          1   \n",
       "69836        1030            MQ       3254  ...    NaN      NaN          1   \n",
       "69884        2116            NW       1430  ...    NaN      NaN          1   \n",
       "69918         742            EV       4715  ...    NaN      NaN          1   \n",
       "69949        1729            MQ       4198  ...    NaN      NaN          1   \n",
       "\n",
       "       CancellationCode  Diverted  CarrierDelay WeatherDelay NASDelay  \\\n",
       "11                    B         0           NaN          NaN      NaN   \n",
       "78                    B         0           NaN          NaN      NaN   \n",
       "103                   A         0           NaN          NaN      NaN   \n",
       "112                   B         0           NaN          NaN      NaN   \n",
       "128                   A         0           NaN          NaN      NaN   \n",
       "...                 ...       ...           ...          ...      ...   \n",
       "69818                 C         0           NaN          NaN      NaN   \n",
       "69836                 B         0           NaN          NaN      NaN   \n",
       "69884                 B         0           NaN          NaN      NaN   \n",
       "69918                 A         0           NaN          NaN      NaN   \n",
       "69949                 C         0           NaN          NaN      NaN   \n",
       "\n",
       "       SecurityDelay  LateAircraftDelay  \n",
       "11               NaN                NaN  \n",
       "78               NaN                NaN  \n",
       "103              NaN                NaN  \n",
       "112              NaN                NaN  \n",
       "128              NaN                NaN  \n",
       "...              ...                ...  \n",
       "69818            NaN                NaN  \n",
       "69836            NaN                NaN  \n",
       "69884            NaN                NaN  \n",
       "69918            NaN                NaN  \n",
       "69949            NaN                NaN  \n",
       "\n",
       "[1399 rows x 29 columns]"
      ]
     },
     "execution_count": 28,
     "metadata": {},
     "output_type": "execute_result"
    }
   ],
   "source": [
    "df[df[\"DepDelay\"].isnull()]"
   ]
  },
  {
   "cell_type": "markdown",
   "metadata": {},
   "source": [
    "**13.** Обратите внимание, что признаки DepTime, CRSDepTime, ArrTime, CRSArrTime приведены в формате hhmm, в связи с чем будет не вполне корректно рассматривать их как вещественные.\n",
    "\n",
    "Преобразуйте каждый признак FeatureName из указанных в пару новых признаков FeatureName\\_Hour, FeatureName\\_Minute, разделив каждое из значений на часы и минуты. Не забудьте при этом исключить исходный признак из выборки. В случае, если значение признака отсутствует, значения двух новых признаков, его заменяющих, также должны отсутствовать. \n",
    "\n",
    "Например, признак DepTime необходимо заменить на пару признаков DepTime_Hour, DepTime_Minute. При этом, например, значение 155 исходного признака будет преобразовано в значения 1 и 55 признаков DepTime_Hour, DepTime_Minute соответственно."
   ]
  },
  {
   "cell_type": "code",
   "execution_count": 29,
   "metadata": {},
   "outputs": [],
   "source": [
    "import pandas as pd\n",
    "df = pd.read_csv(\"2008.csv\", header=0, sep=',')\n"
   ]
  },
  {
   "cell_type": "code",
   "execution_count": 30,
   "metadata": {},
   "outputs": [],
   "source": [
    "for feature in [\"DepTime\", \"CRSDepTime\", \"ArrTime\", \"CRSArrTime\", \"ActualElapsedTime\", \"CRSElapsedTime\"]:\n",
    "    \n",
    "    # маска для вещественных значений\n",
    "    features_mask = df[feature].isna()\n",
    "    \n",
    "    \n",
    "    df[\"{}_Hour\".format(feature)] = df[feature][~features_mask] // 100\n",
    "    \n",
    "    df[\"{}_Minute\".format(feature)] = df[feature][~features_mask] % 100\n",
    "    \n",
    "    df.drop([feature], axis=1, inplace=True)\n"
   ]
  },
  {
   "cell_type": "markdown",
   "metadata": {},
   "source": [
    "**14.** Некоторые из признаков, отличных от целевой переменной, могут оказывать чересчур значимое влияние на прогноз, поскольку по своему смыслу содержат большую долю информации о значении целевой переменной. Изучите описание датасета и исключите признаки, сильно коррелирующие с ответами. Ваш выбор признаков для исключения из выборки обоснуйте. Кроме того, исключите признаки TailNum и Year.\n",
    "\n",
    "__Ответ:__ Признаки подлежат исключению, т.к. имеют много пропусков более 70%, практика с заменой не возможна. В противном случае это приведёт к зашумлению и утери полезной информации, связь с целевой переменной потеряется. (\"CancellationCode\",\"CarrierDelay\", \"WeatherDelay\", \"NASDelay \", \"SecurityDelay\", \"LateAircraftDelay\")\n",
    "UniqueCarrier - \n",
    "\n"
   ]
  },
  {
   "cell_type": "code",
   "execution_count": 31,
   "metadata": {},
   "outputs": [],
   "source": [
    "\n",
    "y = df[\"DepDelay\"]\n",
    "y = y.fillna(y.mean())\n",
    "\n",
    "df.drop(['DepDelay', 'TailNum', 'Year', \"CancellationCode\",\n",
    "         \"CarrierDelay\", \"WeatherDelay\",\"NASDelay\",\"SecurityDelay\",\n",
    "         \"LateAircraftDelay\", \"TaxiIn\", \"TaxiOut\"], axis=1,  inplace=True)\n",
    "X = df"
   ]
  },
  {
   "cell_type": "code",
   "execution_count": 32,
   "metadata": {},
   "outputs": [
    {
     "data": {
      "text/plain": [
       "Month                          0\n",
       "DayofMonth                     0\n",
       "DayOfWeek                      0\n",
       "UniqueCarrier                  0\n",
       "FlightNum                      0\n",
       "AirTime                     1582\n",
       "ArrDelay                    1582\n",
       "Origin                         0\n",
       "Dest                           0\n",
       "Distance                       0\n",
       "Cancelled                      0\n",
       "Diverted                       0\n",
       "DepTime_Hour                1399\n",
       "DepTime_Minute              1399\n",
       "CRSDepTime_Hour                0\n",
       "CRSDepTime_Minute              0\n",
       "ArrTime_Hour                1556\n",
       "ArrTime_Minute              1556\n",
       "CRSArrTime_Hour                0\n",
       "CRSArrTime_Minute              0\n",
       "ActualElapsedTime_Hour      1582\n",
       "ActualElapsedTime_Minute    1582\n",
       "CRSElapsedTime_Hour            9\n",
       "CRSElapsedTime_Minute          9\n",
       "dtype: int64"
      ]
     },
     "execution_count": 32,
     "metadata": {},
     "output_type": "execute_result"
    }
   ],
   "source": [
    "X.isnull().sum()"
   ]
  },
  {
   "cell_type": "markdown",
   "metadata": {},
   "source": [
    "**15.** Приведем данные к виду, пригодному для обучения линейных моделей. Для этого вещественные признаки надо отмасштабировать, а категориальные — привести к числовому виду. Также надо устранить пропуски в данных."
   ]
  },
  {
   "cell_type": "markdown",
   "metadata": {},
   "source": [
    "В первую очередь поймем, зачем необходимо применять масштабирование. Следующие ячейки с кодом построят гистограммы для 3 вещественных признаков выборки."
   ]
  },
  {
   "cell_type": "code",
   "execution_count": 33,
   "metadata": {},
   "outputs": [],
   "source": [
    "#1. Пропуски, замена на среднии\n",
    "#2. One-hot кодирование\n",
    "#3. Нормализация\\\\стандартизация"
   ]
  },
  {
   "cell_type": "code",
   "execution_count": 34,
   "metadata": {
    "scrolled": true
   },
   "outputs": [
    {
     "data": {
      "text/plain": [
       "<AxesSubplot:>"
      ]
     },
     "execution_count": 34,
     "metadata": {},
     "output_type": "execute_result"
    },
    {
     "data": {
      "image/png": "[encoded data removed]",
      "text/plain": [
       "<Figure size 432x288 with 1 Axes>"
      ]
     },
     "metadata": {
      "needs_background": "light"
     },
     "output_type": "display_data"
    }
   ],
   "source": [
    "X['DepTime_Hour'].hist(bins=20)"
   ]
  },
  {
   "cell_type": "code",
   "execution_count": 35,
   "metadata": {},
   "outputs": [
    {
     "ename": "KeyError",
     "evalue": "'TaxiIn'",
     "output_type": "error",
     "traceback": [
      "\u001b[1;31m---------------------------------------------------------------------------\u001b[0m",
      "\u001b[1;31mKeyError\u001b[0m                                  Traceback (most recent call last)",
      "\u001b[1;32mc:\\users\\_username_\\appdata\\local\\programs\\python\\python38\\lib\\site-packages\\pandas\\core\\indexes\\base.py\u001b[0m in \u001b[0;36mget_loc\u001b[1;34m(self, key, method, tolerance)\u001b[0m\n\u001b[0;32m   3079\u001b[0m             \u001b[1;32mtry\u001b[0m\u001b[1;33m:\u001b[0m\u001b[1;33m\u001b[0m\u001b[1;33m\u001b[0m\u001b[0m\n\u001b[1;32m-> 3080\u001b[1;33m                 \u001b[1;32mreturn\u001b[0m \u001b[0mself\u001b[0m\u001b[1;33m.\u001b[0m\u001b[0m_engine\u001b[0m\u001b[1;33m.\u001b[0m\u001b[0mget_loc\u001b[0m\u001b[1;33m(\u001b[0m\u001b[0mcasted_key\u001b[0m\u001b[1;33m)\u001b[0m\u001b[1;33m\u001b[0m\u001b[1;33m\u001b[0m\u001b[0m\n\u001b[0m\u001b[0;32m   3081\u001b[0m             \u001b[1;32mexcept\u001b[0m \u001b[0mKeyError\u001b[0m \u001b[1;32mas\u001b[0m \u001b[0merr\u001b[0m\u001b[1;33m:\u001b[0m\u001b[1;33m\u001b[0m\u001b[1;33m\u001b[0m\u001b[0m\n",
      "\u001b[1;32mpandas\\_libs\\index.pyx\u001b[0m in \u001b[0;36mpandas._libs.index.IndexEngine.get_loc\u001b[1;34m()\u001b[0m\n",
      "\u001b[1;32mpandas\\_libs\\index.pyx\u001b[0m in \u001b[0;36mpandas._libs.index.IndexEngine.get_loc\u001b[1;34m()\u001b[0m\n",
      "\u001b[1;32mpandas\\_libs\\hashtable_class_helper.pxi\u001b[0m in \u001b[0;36mpandas._libs.hashtable.PyObjectHashTable.get_item\u001b[1;34m()\u001b[0m\n",
      "\u001b[1;32mpandas\\_libs\\hashtable_class_helper.pxi\u001b[0m in \u001b[0;36mpandas._libs.hashtable.PyObjectHashTable.get_item\u001b[1;34m()\u001b[0m\n",
      "\u001b[1;31mKeyError\u001b[0m: 'TaxiIn'",
      "\nThe above exception was the direct cause of the following exception:\n",
      "\u001b[1;31mKeyError\u001b[0m                                  Traceback (most recent call last)",
      "\u001b[1;32m<ipython-input-35-f05e2c785e37>\u001b[0m in \u001b[0;36m<module>\u001b[1;34m\u001b[0m\n\u001b[1;32m----> 1\u001b[1;33m \u001b[0mX\u001b[0m\u001b[1;33m[\u001b[0m\u001b[1;34m'TaxiIn'\u001b[0m\u001b[1;33m]\u001b[0m\u001b[1;33m.\u001b[0m\u001b[0mhist\u001b[0m\u001b[1;33m(\u001b[0m\u001b[0mbins\u001b[0m\u001b[1;33m=\u001b[0m\u001b[1;36m20\u001b[0m\u001b[1;33m)\u001b[0m\u001b[1;33m\u001b[0m\u001b[1;33m\u001b[0m\u001b[0m\n\u001b[0m",
      "\u001b[1;32mc:\\users\\_username_\\appdata\\local\\programs\\python\\python38\\lib\\site-packages\\pandas\\core\\frame.py\u001b[0m in \u001b[0;36m__getitem__\u001b[1;34m(self, key)\u001b[0m\n\u001b[0;32m   3022\u001b[0m             \u001b[1;32mif\u001b[0m \u001b[0mself\u001b[0m\u001b[1;33m.\u001b[0m\u001b[0mcolumns\u001b[0m\u001b[1;33m.\u001b[0m\u001b[0mnlevels\u001b[0m \u001b[1;33m>\u001b[0m \u001b[1;36m1\u001b[0m\u001b[1;33m:\u001b[0m\u001b[1;33m\u001b[0m\u001b[1;33m\u001b[0m\u001b[0m\n\u001b[0;32m   3023\u001b[0m                 \u001b[1;32mreturn\u001b[0m \u001b[0mself\u001b[0m\u001b[1;33m.\u001b[0m\u001b[0m_getitem_multilevel\u001b[0m\u001b[1;33m(\u001b[0m\u001b[0mkey\u001b[0m\u001b[1;33m)\u001b[0m\u001b[1;33m\u001b[0m\u001b[1;33m\u001b[0m\u001b[0m\n\u001b[1;32m-> 3024\u001b[1;33m             \u001b[0mindexer\u001b[0m \u001b[1;33m=\u001b[0m \u001b[0mself\u001b[0m\u001b[1;33m.\u001b[0m\u001b[0mcolumns\u001b[0m\u001b[1;33m.\u001b[0m\u001b[0mget_loc\u001b[0m\u001b[1;33m(\u001b[0m\u001b[0mkey\u001b[0m\u001b[1;33m)\u001b[0m\u001b[1;33m\u001b[0m\u001b[1;33m\u001b[0m\u001b[0m\n\u001b[0m\u001b[0;32m   3025\u001b[0m             \u001b[1;32mif\u001b[0m \u001b[0mis_integer\u001b[0m\u001b[1;33m(\u001b[0m\u001b[0mindexer\u001b[0m\u001b[1;33m)\u001b[0m\u001b[1;33m:\u001b[0m\u001b[1;33m\u001b[0m\u001b[1;33m\u001b[0m\u001b[0m\n\u001b[0;32m   3026\u001b[0m                 \u001b[0mindexer\u001b[0m \u001b[1;33m=\u001b[0m \u001b[1;33m[\u001b[0m\u001b[0mindexer\u001b[0m\u001b[1;33m]\u001b[0m\u001b[1;33m\u001b[0m\u001b[1;33m\u001b[0m\u001b[0m\n",
      "\u001b[1;32mc:\\users\\_username_\\appdata\\local\\programs\\python\\python38\\lib\\site-packages\\pandas\\core\\indexes\\base.py\u001b[0m in \u001b[0;36mget_loc\u001b[1;34m(self, key, method, tolerance)\u001b[0m\n\u001b[0;32m   3080\u001b[0m                 \u001b[1;32mreturn\u001b[0m \u001b[0mself\u001b[0m\u001b[1;33m.\u001b[0m\u001b[0m_engine\u001b[0m\u001b[1;33m.\u001b[0m\u001b[0mget_loc\u001b[0m\u001b[1;33m(\u001b[0m\u001b[0mcasted_key\u001b[0m\u001b[1;33m)\u001b[0m\u001b[1;33m\u001b[0m\u001b[1;33m\u001b[0m\u001b[0m\n\u001b[0;32m   3081\u001b[0m             \u001b[1;32mexcept\u001b[0m \u001b[0mKeyError\u001b[0m \u001b[1;32mas\u001b[0m \u001b[0merr\u001b[0m\u001b[1;33m:\u001b[0m\u001b[1;33m\u001b[0m\u001b[1;33m\u001b[0m\u001b[0m\n\u001b[1;32m-> 3082\u001b[1;33m                 \u001b[1;32mraise\u001b[0m \u001b[0mKeyError\u001b[0m\u001b[1;33m(\u001b[0m\u001b[0mkey\u001b[0m\u001b[1;33m)\u001b[0m \u001b[1;32mfrom\u001b[0m \u001b[0merr\u001b[0m\u001b[1;33m\u001b[0m\u001b[1;33m\u001b[0m\u001b[0m\n\u001b[0m\u001b[0;32m   3083\u001b[0m \u001b[1;33m\u001b[0m\u001b[0m\n\u001b[0;32m   3084\u001b[0m         \u001b[1;32mif\u001b[0m \u001b[0mtolerance\u001b[0m \u001b[1;32mis\u001b[0m \u001b[1;32mnot\u001b[0m \u001b[1;32mNone\u001b[0m\u001b[1;33m:\u001b[0m\u001b[1;33m\u001b[0m\u001b[1;33m\u001b[0m\u001b[0m\n",
      "\u001b[1;31mKeyError\u001b[0m: 'TaxiIn'"
     ]
    }
   ],
   "source": [
    "X['TaxiIn'].hist(bins=20)"
   ]
  },
  {
   "cell_type": "code",
   "execution_count": 36,
   "metadata": {},
   "outputs": [
    {
     "data": {
      "text/plain": [
       "<AxesSubplot:>"
      ]
     },
     "execution_count": 36,
     "metadata": {},
     "output_type": "execute_result"
    },
    {
     "data": {
      "image/png": "[encoded data removed]",
      "text/plain": [
       "<Figure size 432x288 with 1 Axes>"
      ]
     },
     "metadata": {
      "needs_background": "light"
     },
     "output_type": "display_data"
    }
   ],
   "source": [
    "X['FlightNum'].hist(bins=20)"
   ]
  },
  {
   "cell_type": "markdown",
   "metadata": {},
   "source": [
    "Какую проблему вы наблюдаете на этих графиках? Как масштабирование поможет её исправить?\n",
    "\n",
    "__ОТВЕТ:__ Наблюдаются выбросы, большие отклонения, котоорые будут негативно влиять на предсказание модели), необходимо масштабировать признаки, используя scklearn инструменты StandartScaler/minMaxScaler"
   ]
  },
  {
   "cell_type": "markdown",
   "metadata": {},
   "source": [
    "Некоторые из признаков в нашем датасете являются категориальными. Типичным подходом к работе с ними является бинарное, или [one-hot-кодирование](https://en.wikipedia.org/wiki/One-hot).\n",
    "\n",
    "Реализуйте функцию transform_data, которая принимает на вход DataFrame с признаками и выполняет следующие шаги:\n",
    "1. Замена пропущенных значений на нули для вещественных признаков и на строки 'nan' для категориальных.\n",
    "2. Масштабирование вещественных признаков с помощью [StandardScaler](http://scikit-learn.org/stable/modules/generated/sklearn.preprocessing.StandardScaler.html).\n",
    "3. One-hot-кодирование категориальных признаков с помощью [DictVectorizer](http://scikit-learn.org/stable/modules/generated/sklearn.feature_extraction.DictVectorizer.html) или функции [pd.get_dummies](http://pandas.pydata.org/pandas-docs/stable/generated/pandas.get_dummies.html).\n",
    "\n",
    "get_dummies(drop_first=True). - Необходимо удалить один из столбцов, созданных для каждого признака. Для этого в надо поставить\n",
    "\n",
    "Метод должен возвращать преобразованный DataFrame, который должна состоять из масштабированных вещественных признаков и закодированных категориальных (исходные признаки должны быть исключены из выборки)."
   ]
  },
  {
   "cell_type": "code",
   "execution_count": 37,
   "metadata": {},
   "outputs": [
    {
     "data": {
      "text/plain": [
       "AirTime                     0\n",
       "ArrDelay                    0\n",
       "DepTime_Hour                0\n",
       "DepTime_Minute              0\n",
       "ArrTime_Hour                0\n",
       "ArrTime_Minute              0\n",
       "ActualElapsedTime_Hour      0\n",
       "ActualElapsedTime_Minute    0\n",
       "CRSElapsedTime_Hour         0\n",
       "CRSElapsedTime_Minute       0\n",
       "dtype: int64"
      ]
     },
     "execution_count": 37,
     "metadata": {},
     "output_type": "execute_result"
    }
   ],
   "source": [
    "# заменим пропуски на \"0\" в вещественных признаках\n",
    "X_real = X[X.columns[(X.dtypes==\"float64\")]].fillna(0)\n",
    "X_real.isnull().sum()\n"
   ]
  },
  {
   "cell_type": "code",
   "execution_count": 38,
   "metadata": {},
   "outputs": [
    {
     "data": {
      "text/plain": [
       "Index(['UniqueCarrier', 'Origin', 'Dest'], dtype='object')"
      ]
     },
     "execution_count": 38,
     "metadata": {},
     "output_type": "execute_result"
    }
   ],
   "source": [
    "# заменим пропуски на \"0\" в вещественных признаках\n",
    "X = X.fillna(0)\n",
    "\n",
    "# обратим внимание на категориальные признаки\n",
    "X.columns[(X.dtypes==\"object\").values]"
   ]
  },
  {
   "cell_type": "code",
   "execution_count": 39,
   "metadata": {},
   "outputs": [],
   "source": [
    "from sklearn.preprocessing import MinMaxScaler, StandardScaler\n",
    "\n",
    "def transform_data(data):\n",
    "    #one-hot, так же удалим изначальный столбец drop_first=True\n",
    "    X_dum = pd.get_dummies(data, drop_first=True)\n",
    "\n",
    "    #масштабирование признаков\n",
    "    stander = StandardScaler()\n",
    "    X_stand = stander.fit_transform(X_dum)\n",
    "    X = pd.DataFrame(data=X_stand)\n",
    "    return X"
   ]
  },
  {
   "cell_type": "markdown",
   "metadata": {},
   "source": [
    "Примените функцию transform_data к данным. Сколько признаков получилось после преобразования?"
   ]
  },
  {
   "cell_type": "code",
   "execution_count": 40,
   "metadata": {},
   "outputs": [],
   "source": [
    "X = transform_data(X)\n"
   ]
  },
  {
   "cell_type": "code",
   "execution_count": 41,
   "metadata": {},
   "outputs": [
    {
     "data": {
      "text/html": [
       "<div>\n",
       "<style scoped>\n",
       "    .dataframe tbody tr th:only-of-type {\n",
       "        vertical-align: middle;\n",
       "    }\n",
       "\n",
       "    .dataframe tbody tr th {\n",
       "        vertical-align: top;\n",
       "    }\n",
       "\n",
       "    .dataframe thead th {\n",
       "        text-align: right;\n",
       "    }\n",
       "</style>\n",
       "<table border=\"1\" class=\"dataframe\">\n",
       "  <thead>\n",
       "    <tr style=\"text-align: right;\">\n",
       "      <th></th>\n",
       "      <th>0</th>\n",
       "      <th>1</th>\n",
       "      <th>2</th>\n",
       "      <th>3</th>\n",
       "      <th>4</th>\n",
       "      <th>5</th>\n",
       "      <th>6</th>\n",
       "      <th>7</th>\n",
       "      <th>8</th>\n",
       "      <th>9</th>\n",
       "      <th>...</th>\n",
       "      <th>624</th>\n",
       "      <th>625</th>\n",
       "      <th>626</th>\n",
       "      <th>627</th>\n",
       "      <th>628</th>\n",
       "      <th>629</th>\n",
       "      <th>630</th>\n",
       "      <th>631</th>\n",
       "      <th>632</th>\n",
       "      <th>633</th>\n",
       "    </tr>\n",
       "  </thead>\n",
       "  <tbody>\n",
       "    <tr>\n",
       "      <th>0</th>\n",
       "      <td>-0.111232</td>\n",
       "      <td>0.256159</td>\n",
       "      <td>-0.463891</td>\n",
       "      <td>-1.004665</td>\n",
       "      <td>-0.805728</td>\n",
       "      <td>0.002552</td>\n",
       "      <td>-0.738324</td>\n",
       "      <td>-0.143429</td>\n",
       "      <td>-0.049486</td>\n",
       "      <td>1.627386</td>\n",
       "      <td>...</td>\n",
       "      <td>-0.015586</td>\n",
       "      <td>-0.044926</td>\n",
       "      <td>-0.011953</td>\n",
       "      <td>-0.03072</td>\n",
       "      <td>-0.01134</td>\n",
       "      <td>-0.00756</td>\n",
       "      <td>-0.045402</td>\n",
       "      <td>-0.014144</td>\n",
       "      <td>-0.010001</td>\n",
       "      <td>-0.021718</td>\n",
       "    </tr>\n",
       "    <tr>\n",
       "      <th>1</th>\n",
       "      <td>-0.111232</td>\n",
       "      <td>-1.332282</td>\n",
       "      <td>-0.463891</td>\n",
       "      <td>0.084156</td>\n",
       "      <td>0.096865</td>\n",
       "      <td>-0.157504</td>\n",
       "      <td>0.193626</td>\n",
       "      <td>-0.143429</td>\n",
       "      <td>-0.049486</td>\n",
       "      <td>0.246361</td>\n",
       "      <td>...</td>\n",
       "      <td>-0.015586</td>\n",
       "      <td>-0.044926</td>\n",
       "      <td>-0.011953</td>\n",
       "      <td>-0.03072</td>\n",
       "      <td>-0.01134</td>\n",
       "      <td>-0.00756</td>\n",
       "      <td>-0.045402</td>\n",
       "      <td>-0.014144</td>\n",
       "      <td>-0.010001</td>\n",
       "      <td>-0.021718</td>\n",
       "    </tr>\n",
       "    <tr>\n",
       "      <th>2</th>\n",
       "      <td>0.473737</td>\n",
       "      <td>-1.445742</td>\n",
       "      <td>1.540176</td>\n",
       "      <td>-0.227008</td>\n",
       "      <td>0.344350</td>\n",
       "      <td>-0.717701</td>\n",
       "      <td>0.481876</td>\n",
       "      <td>-0.143429</td>\n",
       "      <td>-0.049486</td>\n",
       "      <td>-0.345507</td>\n",
       "      <td>...</td>\n",
       "      <td>-0.015586</td>\n",
       "      <td>-0.044926</td>\n",
       "      <td>-0.011953</td>\n",
       "      <td>-0.03072</td>\n",
       "      <td>-0.01134</td>\n",
       "      <td>-0.00756</td>\n",
       "      <td>-0.045402</td>\n",
       "      <td>-0.014144</td>\n",
       "      <td>-0.010001</td>\n",
       "      <td>-0.021718</td>\n",
       "    </tr>\n",
       "    <tr>\n",
       "      <th>3</th>\n",
       "      <td>-1.573653</td>\n",
       "      <td>0.823459</td>\n",
       "      <td>-0.463891</td>\n",
       "      <td>0.808339</td>\n",
       "      <td>-0.325316</td>\n",
       "      <td>-0.530969</td>\n",
       "      <td>-0.340433</td>\n",
       "      <td>-0.143429</td>\n",
       "      <td>-0.049486</td>\n",
       "      <td>-0.345507</td>\n",
       "      <td>...</td>\n",
       "      <td>-0.015586</td>\n",
       "      <td>-0.044926</td>\n",
       "      <td>-0.011953</td>\n",
       "      <td>-0.03072</td>\n",
       "      <td>-0.01134</td>\n",
       "      <td>-0.00756</td>\n",
       "      <td>-0.045402</td>\n",
       "      <td>-0.014144</td>\n",
       "      <td>-0.010001</td>\n",
       "      <td>-0.021718</td>\n",
       "    </tr>\n",
       "    <tr>\n",
       "      <th>4</th>\n",
       "      <td>-0.403716</td>\n",
       "      <td>-1.332282</td>\n",
       "      <td>1.540176</td>\n",
       "      <td>-0.924709</td>\n",
       "      <td>0.504488</td>\n",
       "      <td>-0.664349</td>\n",
       "      <td>0.646338</td>\n",
       "      <td>-0.143429</td>\n",
       "      <td>-0.049486</td>\n",
       "      <td>-0.937375</td>\n",
       "      <td>...</td>\n",
       "      <td>-0.015586</td>\n",
       "      <td>-0.044926</td>\n",
       "      <td>-0.011953</td>\n",
       "      <td>-0.03072</td>\n",
       "      <td>-0.01134</td>\n",
       "      <td>-0.00756</td>\n",
       "      <td>-0.045402</td>\n",
       "      <td>-0.014144</td>\n",
       "      <td>-0.010001</td>\n",
       "      <td>-0.021718</td>\n",
       "    </tr>\n",
       "  </tbody>\n",
       "</table>\n",
       "<p>5 rows × 634 columns</p>\n",
       "</div>"
      ],
      "text/plain": [
       "        0         1         2         3         4         5         6    \\\n",
       "0 -0.111232  0.256159 -0.463891 -1.004665 -0.805728  0.002552 -0.738324   \n",
       "1 -0.111232 -1.332282 -0.463891  0.084156  0.096865 -0.157504  0.193626   \n",
       "2  0.473737 -1.445742  1.540176 -0.227008  0.344350 -0.717701  0.481876   \n",
       "3 -1.573653  0.823459 -0.463891  0.808339 -0.325316 -0.530969 -0.340433   \n",
       "4 -0.403716 -1.332282  1.540176 -0.924709  0.504488 -0.664349  0.646338   \n",
       "\n",
       "        7         8         9    ...       624       625       626      627  \\\n",
       "0 -0.143429 -0.049486  1.627386  ... -0.015586 -0.044926 -0.011953 -0.03072   \n",
       "1 -0.143429 -0.049486  0.246361  ... -0.015586 -0.044926 -0.011953 -0.03072   \n",
       "2 -0.143429 -0.049486 -0.345507  ... -0.015586 -0.044926 -0.011953 -0.03072   \n",
       "3 -0.143429 -0.049486 -0.345507  ... -0.015586 -0.044926 -0.011953 -0.03072   \n",
       "4 -0.143429 -0.049486 -0.937375  ... -0.015586 -0.044926 -0.011953 -0.03072   \n",
       "\n",
       "       628      629       630       631       632       633  \n",
       "0 -0.01134 -0.00756 -0.045402 -0.014144 -0.010001 -0.021718  \n",
       "1 -0.01134 -0.00756 -0.045402 -0.014144 -0.010001 -0.021718  \n",
       "2 -0.01134 -0.00756 -0.045402 -0.014144 -0.010001 -0.021718  \n",
       "3 -0.01134 -0.00756 -0.045402 -0.014144 -0.010001 -0.021718  \n",
       "4 -0.01134 -0.00756 -0.045402 -0.014144 -0.010001 -0.021718  \n",
       "\n",
       "[5 rows x 634 columns]"
      ]
     },
     "execution_count": 41,
     "metadata": {},
     "output_type": "execute_result"
    }
   ],
   "source": [
    "X.head()"
   ]
  },
  {
   "cell_type": "markdown",
   "metadata": {},
   "source": [
    "**16. (0.5 балла)** Разбейте выборку и вектор целевой переменной на обучение и контроль в отношении 70/30 (для этого можно использовать, например, функцию [train_test_split](http://scikit-learn.org/stable/modules/generated/sklearn.cross_validation.train_test_split.html)). "
   ]
  },
  {
   "cell_type": "code",
   "execution_count": 42,
   "metadata": {},
   "outputs": [],
   "source": [
    "from sklearn.model_selection import train_test_split, cross_val_score\n",
    "x_train, x_test, y_train, y_test = train_test_split(X, y, test_size=0.3, random_state=42)"
   ]
  },
  {
   "cell_type": "markdown",
   "metadata": {},
   "source": [
    "### Scikit-learn\n",
    "\n",
    "<img src = \"https://pp.vk.me/c4534/u35727827/93547647/x_d31c4463.jpg\">\n",
    "Теперь, когда мы привели данные к пригодному виду, попробуем решить задачу при помощи метода наименьших квадратов. Напомним, что данный метод заключается в оптимизации функционала $MSE$:\n",
    "\n",
    "$$MSE(X, y) = \\frac{1}{l} \\sum_{i=1}^l (<w, x_i> - y_i)^2 \\to \\min_{w},$$\n",
    "\n",
    "где $\\{ (x_i, y_i ) \\}_{i=1}^l$ — обучающая выборка, состоящая из $l$ пар объект-ответ.\n",
    "\n",
    "Заметим, что решение данной задачи уже реализовано в модуле sklearn в виде класса [LinearRegression](http://scikit-learn.org/stable/modules/generated/sklearn.linear_model.LinearRegression.html#sklearn.linear_model.LinearRegression).\n",
    "\n",
    "**17.** Обучите линейную регрессию на 1000 объектах из обучающей выборки и выведите значения $MSE$ и $R^2$ на этой подвыборке и контрольной выборке (итого 4 различных числа). Проинтерпретируйте полученный результат — насколько качественные прогнозы строит полученная модель? Какие проблемы наблюдаются в модели?\n",
    "\n",
    "**Подсказка**: изучите значения полученных коэффициентов $w$, сохраненных в атрибуте coef_ объекта LinearRegression."
   ]
  },
  {
   "cell_type": "code",
   "execution_count": 43,
   "metadata": {},
   "outputs": [
    {
     "name": "stdout",
     "output_type": "stream",
     "text": [
      "R2 for test: -9.043693437966633e+26 \n",
      "\n",
      " R2 for train: 0.9569387342023659 \n",
      "\n",
      " MSE for test: 1.1359157730055437e+30 \n",
      "\n",
      " MSE for train: 43.119784872818215\n"
     ]
    }
   ],
   "source": [
    "from sklearn.linear_model import LinearRegression, RidgeCV, LassoCV\n",
    "from sklearn.metrics import r2_score, mean_squared_error\n",
    "\n",
    "\n",
    "# model fiting w coef\n",
    "lr = LinearRegression()\n",
    "lr_model = lr.fit(x_train.iloc[:1000], y_train.iloc[:1000])\n",
    "\n",
    "# predict y-values for test and train dataset\n",
    "y_test_predict =lr_model.predict(x_test)\n",
    "y_train_predict = lr_model.predict(x_train.iloc[:1000])\n",
    "\n",
    "# r2 scores for model (estimation)\n",
    "r2_test = r2_score(y_test, y_test_predict)\n",
    "r2_train = r2_score(y_train.iloc[:1000], y_train_predict)\n",
    "\n",
    "# mse score for model (estimation)\n",
    "mse_test = mean_squared_error(y_test, y_test_predict)\n",
    "mse_train = mean_squared_error(y_train.iloc[:1000], y_train_predict)\n",
    "\n",
    "\n",
    "print(\"R2 for test: {} \\n\\n R2 for train: {} \\n\\n MSE for test: {} \\n\\n MSE for train: {}\".format(r2_test, r2_train, mse_test, mse_train) )"
   ]
  },
  {
   "cell_type": "markdown",
   "metadata": {},
   "source": [
    "ениваете свою оценку по невидимым данным, что может привести к результатам вне [0,1]. модель еще хуже, чем предполагаемая наихудшая модель  Это может возникнуть, когда прогнозы, которые сравниваются с соответствующими результатами, не были получены из процедуры подгонки модели с использованием этих данных. Даже если была использована процедура подгонки модели, R2 все равно может быть отрицательным, например, когда линейная регрессия проводится без включения перехвата или когда для подгонки данных используется нелинейная функция. В тех случаях, когда возникают отрицательные значения, среднее значение данных обеспечивает лучшее соответствие результатам, чем соответствующие значения функций, в соответствии с этим конкретным критерием/ среднее значение вашего тестового набора сильно отличается от среднего вашего набора тренировок. Это само по себе может вызвать гораздо более высокую поведенческую ошибку в вашем прогнозе, чем просто предсказать среднее значение тестовых данных, что приводит к отрицательной оценке r^2.\n",
    "\n",
    "В худшем случае, если ваши данные вообще не объясняют вашу цель, эти баллы могут стать очень сильно отрицательными."
   ]
  },
  {
   "cell_type": "markdown",
   "metadata": {
    "collapsed": true
   },
   "source": [
    "Для решения описанных вами в предыдущем пункте проблем используем L1- или L2-регуляризацию, тем самым получив Lasso и Ridge регрессии соответственно и изменив оптимизационную задачу одним из следующих образов:\n",
    "$$MSE_{L1}(X, y) = \\frac{1}{l} \\sum_{i=1}^l (<w, x_i> - y_i)^2 + \\alpha ||w||_1 \\to \\min_{w},$$\n",
    "$$MSE_{L2}(X, y) = \\frac{1}{l} \\sum_{i=1}^l (<w, x_i> - y_i)^2 + \\alpha ||w||_2^2 \\to \\min_{w},$$\n",
    "\n",
    "где $\\alpha$ — коэффициент регуляризации. Один из способов его подбора заключается в переборе некоторого количества значений и оценке качества на кросс-валидации для каждого из них, после чего выбирается значение, для которого было получено наилучшее качество.\n",
    "\n",
    "**18.** Обучите линейные регрессии с L1- и L2-регуляризатором, подобрав лучшее значение параметра регуляризации из списка alpha_grid при помощи кросс-валидации c 5 фолдами на тех же 1000 объектах, что и в п.17. Выведите значения $MSE$ и $R^2$ на обучающей и контрольной выборках. Удалось ли решить указанные вами ранее проблемы?\n",
    "\n",
    "Для выполнения данного задания вам могут понадобиться реализованные в библиотеке объекты [LassoCV](http://scikit-learn.org/stable/modules/generated/sklearn.linear_model.LassoCV.html), [RidgeCV](http://scikit-learn.org/stable/modules/generated/sklearn.linear_model.RidgeCV.html) и [KFold](http://scikit-learn.org/stable/modules/generated/sklearn.cross_validation.KFold.html).\n"
   ]
  },
  {
   "cell_type": "code",
   "execution_count": 44,
   "metadata": {},
   "outputs": [
    {
     "name": "stderr",
     "output_type": "stream",
     "text": [
      "c:\\users\\_username_\\appdata\\local\\programs\\python\\python38\\lib\\site-packages\\sklearn\\linear_model\\_coordinate_descent.py:526: ConvergenceWarning: Objective did not converge. You might want to increase the number of iterations. Duality gap: 594.2053206847177, tolerance: 61.90742161649644\n",
      "  model = cd_fast.enet_coordinate_descent_gram(\n",
      "c:\\users\\_username_\\appdata\\local\\programs\\python\\python38\\lib\\site-packages\\sklearn\\linear_model\\_coordinate_descent.py:526: ConvergenceWarning: Objective did not converge. You might want to increase the number of iterations. Duality gap: 374.17111295105315, tolerance: 72.10848521922168\n",
      "  model = cd_fast.enet_coordinate_descent_gram(\n",
      "c:\\users\\_username_\\appdata\\local\\programs\\python\\python38\\lib\\site-packages\\sklearn\\linear_model\\_coordinate_descent.py:526: ConvergenceWarning: Objective did not converge. You might want to increase the number of iterations. Duality gap: 1084.529135054141, tolerance: 41.05422634612183\n",
      "  model = cd_fast.enet_coordinate_descent_gram(\n",
      "c:\\users\\_username_\\appdata\\local\\programs\\python\\python38\\lib\\site-packages\\sklearn\\linear_model\\_coordinate_descent.py:526: ConvergenceWarning: Objective did not converge. You might want to increase the number of iterations. Duality gap: 210.33608853676924, tolerance: 70.98701047190326\n",
      "  model = cd_fast.enet_coordinate_descent_gram(\n",
      "c:\\users\\_username_\\appdata\\local\\programs\\python\\python38\\lib\\site-packages\\sklearn\\linear_model\\_coordinate_descent.py:526: ConvergenceWarning: Objective did not converge. You might want to increase the number of iterations. Duality gap: 620.3088346377699, tolerance: 71.12716603884108\n",
      "  model = cd_fast.enet_coordinate_descent_gram(\n",
      "c:\\users\\_username_\\appdata\\local\\programs\\python\\python38\\lib\\site-packages\\sklearn\\linear_model\\_coordinate_descent.py:526: ConvergenceWarning: Objective did not converge. You might want to increase the number of iterations. Duality gap: 501.7810798635237, tolerance: 64.38420748543422\n",
      "  model = cd_fast.enet_coordinate_descent_gram(\n",
      "c:\\users\\_username_\\appdata\\local\\programs\\python\\python38\\lib\\site-packages\\sklearn\\linear_model\\_coordinate_descent.py:526: ConvergenceWarning: Objective did not converge. You might want to increase the number of iterations. Duality gap: 79.79892947970984, tolerance: 72.19571921853742\n",
      "  model = cd_fast.enet_coordinate_descent_gram(\n",
      "c:\\users\\_username_\\appdata\\local\\programs\\python\\python38\\lib\\site-packages\\sklearn\\linear_model\\_coordinate_descent.py:526: ConvergenceWarning: Objective did not converge. You might want to increase the number of iterations. Duality gap: 86.74553546300012, tolerance: 43.66294031339524\n",
      "  model = cd_fast.enet_coordinate_descent_gram(\n",
      "c:\\users\\_username_\\appdata\\local\\programs\\python\\python38\\lib\\site-packages\\sklearn\\linear_model\\_coordinate_descent.py:526: ConvergenceWarning: Objective did not converge. You might want to increase the number of iterations. Duality gap: 349.32344394335087, tolerance: 72.12688627405551\n",
      "  model = cd_fast.enet_coordinate_descent_gram(\n",
      "c:\\users\\_username_\\appdata\\local\\programs\\python\\python38\\lib\\site-packages\\sklearn\\linear_model\\_coordinate_descent.py:526: ConvergenceWarning: Objective did not converge. You might want to increase the number of iterations. Duality gap: 136.22732221212755, tolerance: 71.91464070320963\n",
      "  model = cd_fast.enet_coordinate_descent_gram(\n",
      "c:\\users\\_username_\\appdata\\local\\programs\\python\\python38\\lib\\site-packages\\sklearn\\linear_model\\_coordinate_descent.py:526: ConvergenceWarning: Objective did not converge. You might want to increase the number of iterations. Duality gap: 70.84008746569998, tolerance: 51.69979416278018\n",
      "  model = cd_fast.enet_coordinate_descent_gram(\n",
      "c:\\users\\_username_\\appdata\\local\\programs\\python\\python38\\lib\\site-packages\\sklearn\\linear_model\\_coordinate_descent.py:526: ConvergenceWarning: Objective did not converge. You might want to increase the number of iterations. Duality gap: 91.11358402790938, tolerance: 81.3750682844252\n",
      "  model = cd_fast.enet_coordinate_descent_gram(\n",
      "c:\\users\\_username_\\appdata\\local\\programs\\python\\python38\\lib\\site-packages\\sklearn\\linear_model\\_coordinate_descent.py:526: ConvergenceWarning: Objective did not converge. You might want to increase the number of iterations. Duality gap: 221.91832357894236, tolerance: 43.57361232840297\n",
      "  model = cd_fast.enet_coordinate_descent_gram(\n",
      "c:\\users\\_username_\\appdata\\local\\programs\\python\\python38\\lib\\site-packages\\sklearn\\linear_model\\_coordinate_descent.py:526: ConvergenceWarning: Objective did not converge. You might want to increase the number of iterations. Duality gap: 1087.3469128824017, tolerance: 43.36335185696306\n",
      "  model = cd_fast.enet_coordinate_descent_gram(\n",
      "c:\\users\\_username_\\appdata\\local\\programs\\python\\python38\\lib\\site-packages\\sklearn\\linear_model\\_coordinate_descent.py:526: ConvergenceWarning: Objective did not converge. You might want to increase the number of iterations. Duality gap: 83.41975878052472, tolerance: 52.55847803001928\n",
      "  model = cd_fast.enet_coordinate_descent_gram(\n",
      "c:\\users\\_username_\\appdata\\local\\programs\\python\\python38\\lib\\site-packages\\sklearn\\linear_model\\_coordinate_descent.py:526: ConvergenceWarning: Objective did not converge. You might want to increase the number of iterations. Duality gap: 59.07594985119067, tolerance: 51.85953420067889\n",
      "  model = cd_fast.enet_coordinate_descent_gram(\n",
      "c:\\users\\_username_\\appdata\\local\\programs\\python\\python38\\lib\\site-packages\\sklearn\\linear_model\\_coordinate_descent.py:526: ConvergenceWarning: Objective did not converge. You might want to increase the number of iterations. Duality gap: 1255.5226265554993, tolerance: 52.886815748978755\n",
      "  model = cd_fast.enet_coordinate_descent_gram(\n",
      "c:\\users\\_username_\\appdata\\local\\programs\\python\\python38\\lib\\site-packages\\sklearn\\linear_model\\_coordinate_descent.py:530: ConvergenceWarning: Objective did not converge. You might want to increase the number of iterations. Duality gap: 196.87490044309743, tolerance: 61.078486237550415\n",
      "  model = cd_fast.enet_coordinate_descent(\n",
      "c:\\users\\_username_\\appdata\\local\\programs\\python\\python38\\lib\\site-packages\\sklearn\\linear_model\\_coordinate_descent.py:526: ConvergenceWarning: Objective did not converge. You might want to increase the number of iterations. Duality gap: 397.2254920908199, tolerance: 71.16473527383425\n",
      "  model = cd_fast.enet_coordinate_descent_gram(\n",
      "c:\\users\\_username_\\appdata\\local\\programs\\python\\python38\\lib\\site-packages\\sklearn\\linear_model\\_coordinate_descent.py:526: ConvergenceWarning: Objective did not converge. You might want to increase the number of iterations. Duality gap: 104.74711754656892, tolerance: 70.95397574874559\n",
      "  model = cd_fast.enet_coordinate_descent_gram(\n",
      "c:\\users\\_username_\\appdata\\local\\programs\\python\\python38\\lib\\site-packages\\sklearn\\linear_model\\_coordinate_descent.py:526: ConvergenceWarning: Objective did not converge. You might want to increase the number of iterations. Duality gap: 83.38064286080407, tolerance: 75.31087287373153\n",
      "  model = cd_fast.enet_coordinate_descent_gram(\n",
      "c:\\users\\_username_\\appdata\\local\\programs\\python\\python38\\lib\\site-packages\\sklearn\\linear_model\\_coordinate_descent.py:526: ConvergenceWarning: Objective did not converge. You might want to increase the number of iterations. Duality gap: 1233.696386744341, tolerance: 57.01022557498466\n",
      "  model = cd_fast.enet_coordinate_descent_gram(\n",
      "c:\\users\\_username_\\appdata\\local\\programs\\python\\python38\\lib\\site-packages\\sklearn\\linear_model\\_coordinate_descent.py:526: ConvergenceWarning: Objective did not converge. You might want to increase the number of iterations. Duality gap: 471.3791518301405, tolerance: 79.31888947385711\n",
      "  model = cd_fast.enet_coordinate_descent_gram(\n",
      "c:\\users\\_username_\\appdata\\local\\programs\\python\\python38\\lib\\site-packages\\sklearn\\linear_model\\_coordinate_descent.py:526: ConvergenceWarning: Objective did not converge. You might want to increase the number of iterations. Duality gap: 553.7440391169512, tolerance: 61.078486237550415\n",
      "  model = cd_fast.enet_coordinate_descent_gram(\n",
      "c:\\users\\_username_\\appdata\\local\\programs\\python\\python38\\lib\\site-packages\\sklearn\\linear_model\\_coordinate_descent.py:526: ConvergenceWarning: Objective did not converge. You might want to increase the number of iterations. Duality gap: 92.31236503842229, tolerance: 88.65491864371315\n",
      "  model = cd_fast.enet_coordinate_descent_gram(\n"
     ]
    },
    {
     "name": "stdout",
     "output_type": "stream",
     "text": [
      "R2 for KFold Ridge: [0.9260746  0.91207205 0.83715167 0.94405083 0.88474608] \n",
      " R2_for KFold Lasoo:[0.89700805 0.91273939 0.85389618 0.94380948 0.90483719] \n",
      "\n",
      "\n",
      "Best ridge alpha: 0.1 \n",
      " MSE for RidgeTest: 66.00853706750851 \n",
      " MSE for RidgeTrain: 32.034919505610915 \n",
      " R2 for Ridgetest: 0.9474467220445674 \n",
      " R2 for Ridgetrain: 0.9680085559864073 \n",
      "\n",
      "\n",
      "\n",
      "Best lasso alpha: 0.001 \n",
      " MSE for LassoTest: 65.86775787221688 \n",
      " MSE for LassoTrain: 32.01384943842093 \n",
      " R2 for Lassotest: 0.9475588046403828 \n",
      " R2 for Lassotrain: 0.9680295974588153\n"
     ]
    },
    {
     "name": "stderr",
     "output_type": "stream",
     "text": [
      "c:\\users\\_username_\\appdata\\local\\programs\\python\\python38\\lib\\site-packages\\sklearn\\linear_model\\_coordinate_descent.py:530: ConvergenceWarning: Objective did not converge. You might want to increase the number of iterations. Duality gap: 354.4312650254142, tolerance: 100.13589724802584\n",
      "  model = cd_fast.enet_coordinate_descent(\n"
     ]
    }
   ],
   "source": [
    "from sklearn.linear_model import LinearRegression, RidgeCV, LassoCV\n",
    "from sklearn.metrics import r2_score, mean_squared_error\n",
    "from sklearn.model_selection import KFold, StratifiedKFold, cross_val_score\n",
    "\n",
    "x_train = x_train.iloc[:1000]\n",
    "y_train = y_train.iloc[:1000]\n",
    "\n",
    "kfold = KFold(n_splits=5).split(x_train)\n",
    "\n",
    "ridge_regression = RidgeCV(alphas=[0.001, 0.1, 1, 10])\n",
    "lasso_regression = LassoCV(alphas=[0.001, 0.1])\n",
    "\n",
    "#kfold for l1 l2 model\n",
    "score_ridge = cross_val_score(ridge_regression, x_train, y_train, scoring=\"r2\", cv=5)\n",
    "score_lasso = cross_val_score(lasso_regression, x_train, y_train, scoring=\"r2\", cv=5)\n",
    "\n",
    "#fiting model ridge L2-reg    \n",
    "ridge_model = ridge_regression.fit(x_train, y_train)\n",
    "\n",
    "#fiting model lasso L1-reg \n",
    "lasso_model = lasso_regression.fit(x_train, y_train)\n",
    "\n",
    "# predict y-values ridge\n",
    "y_train_predict = ridge_model.predict(x_train)\n",
    "y_test_predict = ridge_model.predict(x_test)\n",
    "\n",
    "#r2 score for model ridge\n",
    "r2_train = r2_score(y_train, y_train_predict)\n",
    "r2_test = r2_score(y_test, y_test_predict)\n",
    "\n",
    "#mse score for model ridge\n",
    "mse_train = mean_squared_error(y_train, y_train_predict)\n",
    "mse_test = mean_squared_error(y_test, y_test_predict)\n",
    "\n",
    "\n",
    "# predict y-values lasso\n",
    "y_train_predict_lasso = lasso_model.predict(x_train)\n",
    "y_test_predict_lasso = lasso_model.predict(x_test)\n",
    "\n",
    "#r2 score for model lasso\n",
    "r2_train_lasso = r2_score(y_train, y_train_predict_lasso)\n",
    "r2_test_lasso = r2_score(y_test, y_test_predict_lasso)\n",
    "\n",
    "#mse score for model lasso\n",
    "mse_train_lasso = mean_squared_error(y_train, y_train_predict_lasso)\n",
    "mse_test_lasso = mean_squared_error(y_test, y_test_predict_lasso)\n",
    "\n",
    "\n",
    "print(\"R2 for KFold Ridge: {} \\n R2_for KFold Lasoo:{} \\n\\n\".format(score_ridge, score_lasso))\n",
    "print(\"Best ridge alpha: {} \\n MSE for RidgeTest: {} \\n MSE for RidgeTrain: {} \\n R2 for Ridgetest: {} \\n R2 for Ridgetrain: {} \\n\\n\\n\".format(ridge_model.alpha_, mse_test, mse_train, r2_test, r2_train ))\n",
    "print(\"Best lasso alpha: {} \\n MSE for LassoTest: {} \\n MSE for LassoTrain: {} \\n R2 for Lassotest: {} \\n R2 for Lassotrain: {}\".format(lasso_model.alpha_, mse_test_lasso, mse_train_lasso, r2_test_lasso, r2_train_lasso ))\n"
   ]
  },
  {
   "cell_type": "markdown",
   "metadata": {},
   "source": [
    "Удалось ли решить указанные вами ранее проблемы? Да результаты лучше."
   ]
  },
  {
   "cell_type": "markdown",
   "metadata": {},
   "source": [
    "### Градиентный спуск\n",
    "\n",
    "В предыдущем разделе мы использовали существующие реализации методов обучения линейной регрессии с регуляризацией и без. Тем не менее, подобные реализации, как правило, имеются лишь для ограниченного набора стандартных методов. В частности, при выходе функционала качества за пределы стандартного множества необходимо самостоятельно реализовывать составляющие процесса решения оптимизационной задачи. Именно этому и посвящен данный раздел задания.\n",
    "\n",
    "__!!!Важно!!__ Утверждение о том, что изменение функции равно произведению градиента на вектор весов (перемещения), справедливо,если вектор весов(перемещения) достаточно мал. Если вектор весов большой, приближение будет не точным.\n",
    "Что будет, если шаг обучения большой, перескочит локальный минимум, но также может случиться, что мы также перескочим и глобальныый минимум.Т.е. процесс обучения никогда не остановиться и будет перескакивать, пропуская точку сходимости.\n",
    "\n",
    "$$\\delta J = $$\n",
    "\n",
    "Пусть необходимо минимизировать следующий функционал (Mean Square Percentage Error — модифицированный [RMSPE](https://www.kaggle.com/c/rossmann-store-sales/details/evaluation)):\n",
    "$$MSPE(\\{x_i, y_i\\}_{i=1}^l, \\, w) = \\frac{1}{l}\\sum_{i=1}^l \\left( \\frac{y_i - \\langle w, x_i \\rangle }{y_i} \\right)^2,$$\n",
    "\n",
    "где $\\{x_i, y_i\\}_{i=1}^l$ — обучающая выборка, $w$ — вектор весов линейной модели. Будем также рассматривать функционал $MSPE$ с L2-регуляризацией:\n",
    "\n",
    "$$MSPE(\\{x_i, y_i\\}_{i=1}^l, \\, w) = \\frac{1}{l}\\sum_{i=1}^l \\left( \\frac{y_i - \\langle w, x_i \\rangle }{y_i} \\right)^2 + ||w||_2^2.$$\n",
    "\n",
    "$$\n",
    "\\textrm{RMSPE} = \\sqrt{\\frac{1}{n} \\sum_{i=1}^{n} \\left(\\frac{y_i - \\hat{y}_i}{y_i}\\right)^2},\n",
    "$$\n",
    "\n",
    "**19.** Добавьте к объектам обеих выборок из п. 16 единичный признак.\n",
    "\n"
   ]
  },
  {
   "cell_type": "code",
   "execution_count": 45,
   "metadata": {},
   "outputs": [
    {
     "name": "stderr",
     "output_type": "stream",
     "text": [
      "<ipython-input-45-d0f23a277692>:2: SettingWithCopyWarning: \n",
      "A value is trying to be set on a copy of a slice from a DataFrame.\n",
      "Try using .loc[row_indexer,col_indexer] = value instead\n",
      "\n",
      "See the caveats in the documentation: https://pandas.pydata.org/pandas-docs/stable/user_guide/indexing.html#returning-a-view-versus-a-copy\n",
      "  x_test[635] = 1\n"
     ]
    }
   ],
   "source": [
    "x_train[635] = 1\n",
    "x_test[635] = 1"
   ]
  },
  {
   "cell_type": "markdown",
   "metadata": {},
   "source": [
    "**20.** Реализуйте функции, которые вычисляют:\n",
    " * прогнозы линейной модели;\n",
    " * функционал $MSPE$ и его градиент;\n",
    " * регуляризованный $MSPE$ и его градиент."
   ]
  },
  {
   "cell_type": "code",
   "execution_count": 46,
   "metadata": {},
   "outputs": [],
   "source": [
    "import numpy as np\n",
    "\n",
    "\n",
    "class LossAndDerivatives:\n",
    "    @staticmethod\n",
    "    def mse(X, Y, w):\n",
    "\n",
    "        return np.mean((X.dot(w) - Y)**2)\n",
    "\n",
    "    @staticmethod\n",
    "    def mae(X, Y, w):\n",
    "\n",
    "        # YOUR CODE HERE    \n",
    "        return np.mean(abs(X.dot(w) - Y))\n",
    "\n",
    "    @staticmethod\n",
    "    def l2_reg(w):\n",
    "        \n",
    "        return  np.sum(w**2)\n",
    "\n",
    "    @staticmethod\n",
    "    def l1_reg(w):\n",
    "        \n",
    "        return np.sum(abs(w))\n",
    "    \n",
    "    @staticmethod\n",
    "    def mse_derivative(X, Y, w):\n",
    "\n",
    "        return  np.mean(X.T.dot((Y - X.dot(w)))) * 2\n",
    "\n",
    "    @staticmethod\n",
    "    def mae_derivative(X, Y, w):\n",
    "\n",
    "        # YOUR CODE HERE\n",
    "        return \n",
    "\n",
    "    @staticmethod\n",
    "    def l2_reg_derivative(w):\n",
    "\n",
    "        \n",
    "        return np.sum(2 * w)\n",
    "\n",
    "    @staticmethod\n",
    "    def l1_reg_derivative(w):\n",
    "\n",
    "        return np.ones_like(w)\n",
    "    \n",
    "    @staticmethod\n",
    "    def no_reg(w):\n",
    "\n",
    "        return 0.\n",
    "    \n",
    "\n",
    "    @staticmethod\n",
    "    def no_reg_derivative(w):\n",
    "\n",
    "        return np.zeros_like(w)\n",
    "        \n",
    "    @staticmethod\n",
    "    def mpse(X, y, w):\n",
    "        pred = X.dot(w)\n",
    "        ans = np.mean( ( (pred - (y + np.random.normal(1e-9)) ) / (y + np.random.normal(1e-9)) ) **2 ) \n",
    "        return ans\n",
    "\n",
    "    @staticmethod\n",
    "    def mpse_derivative(X, y, w):\n",
    "        pred = X.dot(w)\n",
    "        return ( ( ((pred - y) / (y + np.random.normal(1e-9)) / (y + np.random.normal(1e-9))).dot(X) ) * 2 ) / X.shape[0]"
   ]
  },
  {
   "cell_type": "markdown",
   "metadata": {},
   "source": [
    "**21.** Реализуйте метод градиентного спуска для описанных функционалов ($MSPE$ и его регуляризованный вариант). Функция должна принимать следующие параметры:\n",
    " - X — матрица \"объект-признак\";\n",
    " - y — вектор целевой переменной;\n",
    " - w0 — начальное значение вектора весов;\n",
    " - step_size — значение темпа обучения;\n",
    " - max_iter — максимальное число итераций;\n",
    " - eps — значение, используемое в критерии останова;\n",
    " - is_reg — бинарный параметр, принимает значение True в случае наличия регуляризации функционала, False — в противном случае.\n",
    " \n",
    "Процесс должен быть остановлен, если выполнено хотя бы одно из следующих условий:\n",
    " - было выполнено заданное количество итераций max_iter;\n",
    " - евклидова норма разности векторов $w$ на соседних итерациях стала меньше, чем eps.\n",
    "\n",
    "Функция должна возвращать полученный в результате оптимизации вектор $w$ и список значений функционала на каждой итерации."
   ]
  },
  {
   "cell_type": "code",
   "execution_count": 47,
   "metadata": {},
   "outputs": [],
   "source": [
    "def get_w_by_grad(X, Y, w_0, lr, loss_mode='mse', reg_mode=None,  n_steps=100, reg_coeff=0.05):\n",
    "    if loss_mode == 'mse':\n",
    "        loss_function = LossAndDerivatives.mse\n",
    "        loss_derivative = LossAndDerivatives.mse_derivative\n",
    "    elif loss_mode == 'mae':\n",
    "        loss_function = LossAndDerivatives.mae\n",
    "        loss_derivative = LossAndDerivatives.mae_derivative\n",
    "    elif loss_mode == \"mpse\":\n",
    "        loss_function = LossAndDerivatives.mpse\n",
    "        loss_derivative = LossAndDerivatives.mpse_derivative\n",
    "    else:\n",
    "        raise ValueError('Unknown loss function. Available loss functions: `mse`, `mae`')\n",
    "    \n",
    "    if reg_mode is None:\n",
    "        reg_function = LossAndDerivatives.no_reg\n",
    "        reg_derivative = LossAndDerivatives.no_reg_derivative # lambda w: np.zeros_like(w)\n",
    "    elif reg_mode == 'l2':\n",
    "        reg_function = LossAndDerivatives.l2_reg\n",
    "        reg_derivative = LossAndDerivatives.l2_reg_derivative\n",
    "    elif reg_mode == 'l1':\n",
    "        reg_function = LossAndDerivatives.l1_reg\n",
    "        reg_derivative = LossAndDerivatives.l1_reg_derivative\n",
    "    else:\n",
    "        raise ValueError('Unknown regularization mode. Available modes: `l1`, `l2`, None')\n",
    "    \n",
    "    \n",
    "    w = w_0.copy()\n",
    "    hist_loss = []\n",
    "    for i in range(n_steps):\n",
    "        empirical_risk = loss_function(X, Y, w) + reg_coeff * reg_function(w)\n",
    "        gradient = loss_derivative(X, Y, w) + reg_coeff * reg_derivative(w)\n",
    "        gradient_norm = np.linalg.norm(gradient)\n",
    "        hist_loss.append(empirical_risk)\n",
    "        \n",
    "        if gradient_norm > 5.:\n",
    "            gradient = gradient / gradient_norm * 5.\n",
    "        w -= lr * gradient\n",
    "        \n",
    "        #if i % 25 == 0:\n",
    "            #print('Step={}, loss={},\\ngradient values={}\\n'.format(i, empirical_risk, gradient))\n",
    "    return w, hist_loss\n"
   ]
  },
  {
   "cell_type": "markdown",
   "metadata": {},
   "source": [
    "Обучите линейную регрессию с функционалом $MSPE$ на обучающей выборке при помощи метода градиентного спуска и изобразите кривые зависимости значения функционала от номера итерации для различных:\n",
    " * значений размера шага из набора [0.001, 1, 10];\n",
    " * способов начальной инициализации вектора весов (нули, случайные веса).\n",
    "\n",
    "Проанализируйте полученные результаты — влияют ли данные параметры на скорость сходимости и итоговое качество? Если да, то как?"
   ]
  },
  {
   "cell_type": "code",
   "execution_count": 48,
   "metadata": {},
   "outputs": [
    {
     "name": "stdout",
     "output_type": "stream",
     "text": [
      "Step_size:  0.001\n",
      "loss_mpse: 0.9280909328261273\n",
      "Step_size:  1\n",
      "loss_mpse: 0.9343147948142732\n",
      "Step_size:  10\n",
      "loss_mpse: 0.9216102312428877\n"
     ]
    }
   ],
   "source": [
    "# градиентный спуск mpse(не регуляризованный) инициализации вектора весов (нули)\n",
    "for lr in [0.001, 1 , 10]:\n",
    "    print(\"Step_size: \", lr)\n",
    "    w0 = np.zeros(x_train.shape[1])\n",
    "    ww, hist_loss1 = get_w_by_grad(x_train /100, y_train, w0, lr, loss_mode='mpse', reg_mode=None,n_steps=50, reg_coeff=0.05)\n",
    "    \n",
    "    if lr == 0.001:\n",
    "        pred_plot1 = hist_loss1.copy()\n",
    "    print(\"loss_mpse:\",min(hist_loss1))"
   ]
  },
  {
   "cell_type": "code",
   "execution_count": 49,
   "metadata": {},
   "outputs": [
    {
     "name": "stdout",
     "output_type": "stream",
     "text": [
      "Step_size:  0.001\n",
      "loss_mpse: 0.9246549358970858\n",
      "Step_size:  1\n",
      "loss_mpse: 0.9196656721825627\n",
      "Step_size:  10\n",
      "loss_mpse: 0.9233089832549235\n"
     ]
    }
   ],
   "source": [
    "# градиентный спуcк mpse (не регуляризованный) нициализации вектора весов (случайные веса)\n",
    "for lr in [0.001, 1 , 10]:\n",
    "    print(\"Step_size: \", lr)\n",
    "    w0 = np.random.rand( x_train.shape[1])\n",
    "    ww, hist_loss2 = get_w_by_grad(x_train / 100, y_train, w0, lr, loss_mode='mpse', reg_mode=None,  n_steps=50, reg_coeff=0.05)\n",
    "\n",
    "    if lr == 0.001:\n",
    "        pred_plot2 = hist_loss2.copy()\n",
    "    print(\"loss_mpse:\",min(hist_loss2))"
   ]
  },
  {
   "cell_type": "code",
   "execution_count": 50,
   "metadata": {},
   "outputs": [
    {
     "data": {
      "image/png": "[encoded data removed]",
      "text/plain": [
       "<Figure size 432x288 with 1 Axes>"
      ]
     },
     "metadata": {
      "needs_background": "light"
     },
     "output_type": "display_data"
    }
   ],
   "source": [
    "import matplotlib.pyplot as plt\n",
    "\n",
    "\n",
    "\n",
    "plt.plot(np.arange(len(pred_plot1)),pred_plot1, label=\"zero_step_0.001\")\n",
    "plt.plot(np.arange(len(pred_plot2)),pred_plot2, label=\"random_step_0.001\")  \n",
    "\n",
    "plt.legend()\n",
    "plt.grid()\n",
    "plt.ylim([0, 200])\n",
    "plt.xlim([0, 40])\n",
    "\n",
    "plt.show()\n"
   ]
  },
  {
   "cell_type": "markdown",
   "metadata": {},
   "source": [
    "**22.** Обучите линейную регрессию с функционалом MSPE и его регуляризованным вариантом на обучающей выборке при помощи метода градиентного спуска и изобразите кривые зависимости значения функционала от номера итерации. Исследуйте зависимость скорости сходимости от наличия регуляризации. Обоснуйте, почему так происходит."
   ]
  },
  {
   "cell_type": "markdown",
   "metadata": {},
   "source": [
    "__ОТВЕТ:__ Число обусловленности матрицы X существенно влияет на скорость сходимости градиентного спуска: чем более вытянуты линии уровня функции потерь, тем хуже\n",
    "\n",
    "Темп обучения α тоже сильно влияет на поведение градиентного спуска; вообще говоря, он является гиперпараметром алгоритма, и его, возможно, придётся подбирать отдельно. Другими гиперпараметрами являются максимальное число итераций S и/или порог tolerance\n",
    "\n",
    "Решение может быть не уникальным и сколь угодно большим по модулю, что создаёт вычислительные трудности (малые погрешности признаков сильно возрастают при предсказании ответа, а в градиентном спуске накапливается погрешность из-за операций со слишком большими числами).\n",
    "\n",
    "Редко бывает так, что признаки строго линейно зависимы, а вот быть приближённо линейно зависимыми они вполне могут быть (такая ситуация называется мультиколлинеарностью).\n",
    " \n",
    "В случае, когда несколько признаков «почти» линейно независимы, веса  𝑤𝑖  при них теряют физический смысл. Может даже оказаться, что вес признака, с ростом которого таргет, казалось бы, должен увеличиваться, станет отрицательным. Это делает модель не только неточной, но и принципиально не интерпретируемой. Вообще, неадекватность знаков или величины весов – хорошее указание на мультиколлинеарность.\n",
    "\n",
    "Для того, чтобы справиться с этой проблемой, задачу обычно регуляризуют, то есть добавляют к ней дополнительное ограничение на величину вектора весов. "
   ]
  },
  {
   "cell_type": "code",
   "execution_count": 51,
   "metadata": {},
   "outputs": [],
   "source": [
    "w0 = np.random.rand( x_train.shape[1])\n",
    "ww, hist_loss1 = get_w_by_grad(x_train/100, y_train, w0, lr=0.005, loss_mode='mpse', reg_mode=None,n_steps=50, reg_coeff=0.05)"
   ]
  },
  {
   "cell_type": "code",
   "execution_count": 52,
   "metadata": {},
   "outputs": [],
   "source": [
    "w0 = np.random.rand( x_train.shape[1])\n",
    "ww, hist_loss_l2 = get_w_by_grad(x_train/100, y_train, w0, lr=0.005, loss_mode='mpse', reg_mode=\"l2\",n_steps=50, reg_coeff=0.005)\n"
   ]
  },
  {
   "cell_type": "code",
   "execution_count": 53,
   "metadata": {},
   "outputs": [
    {
     "data": {
      "image/png": "[encoded data removed]",
      "text/plain": [
       "<Figure size 432x288 with 1 Axes>"
      ]
     },
     "metadata": {
      "needs_background": "light"
     },
     "output_type": "display_data"
    }
   ],
   "source": [
    "import matplotlib.pyplot as plt\n",
    "plt.plot(np.arange(len(hist_loss1)),hist_loss1, label=\"random_step_0.005\")\n",
    "plt.plot(np.arange(len(hist_loss_l2)),hist_loss_l2, label=\"reg_random__step_0.005\")  \n",
    "\n",
    "plt.legend()\n",
    "plt.grid()\n",
    "plt.ylim([0, 250])\n",
    "plt.xlim([0, 40])\n",
    "\n",
    "plt.show()\n"
   ]
  },
  {
   "cell_type": "markdown",
   "metadata": {},
   "source": [
    "Метод градиентного спуска может быть весьма трудозатратен в случае большого размера обучающей выборки. Поэтому часто используют метод стохастического градиентного спуска, где на каждой итерации выбирается случайный объект из обучающей выборки и обновление весов происходит только по этому объекту. \n",
    "\n",
    "**23.**  Реализуйте метод стохастического градиентного спуска (SGD) для описанных функционалов ($MSPE$ и его регуляризованный вариант). Функция должна иметь параметры и возвращаемое значение, аналогичные оным функции grad\\_descent из п.21. Кроме того, должен использоваться аналогичный критерий останова."
   ]
  },
  {
   "cell_type": "code",
   "execution_count": 54,
   "metadata": {},
   "outputs": [],
   "source": [
    "# возвращает вектор прогнозов линейной модели с вектором весов w для выборки X\n",
    "def make_pred(X, w):\n",
    "    return X.dot(w)"
   ]
  },
  {
   "cell_type": "code",
   "execution_count": 55,
   "metadata": {},
   "outputs": [],
   "source": [
    "import numpy as np\n",
    "# возвращает значение функционала MSPE для выборки (X, y) и вектора весов w\n",
    "def get_func_mspe(w, X, y):\n",
    "    \n",
    "    # добавим к y шум, чтобы не делить на ноль\n",
    "    pred = X.dot(w)\n",
    "    ans = np.mean( ( (pred - y ) / (y + np.random.normal(1e-7)) ) **2 ) \n",
    "    return ans"
   ]
  },
  {
   "cell_type": "code",
   "execution_count": 56,
   "metadata": {},
   "outputs": [],
   "source": [
    "# возвращает градиент функционала MSPE для выборки (X, y) и вектора весов w\n",
    "def get_grad(w, X, y):\n",
    "    pred = X.dot(w)\n",
    "    return ( ( ((pred - y) / (y + np.random.normal(1e-7)) / (y + np.random.normal(1e-7))).dot(X) ) * 2 ) / X.shape[0]"
   ]
  },
  {
   "cell_type": "code",
   "execution_count": 57,
   "metadata": {},
   "outputs": [],
   "source": [
    "# возвращает значение регуляризованного функционала MSPE для выборки (X, y) и вектора весов w\n",
    "def get_reg_func(w, X, y):\n",
    "    pred = X.dot(w)\n",
    "    \n",
    "    \n",
    "    #l1 = np.mean( np.true_divide( (X.dot(w) - Y), X.dot(w)) **2 ) + np.sum(abs(w))\n",
    "    l = np.mean( ( (pred - y ) / (y + np.random.normal(1e-7)) ) **2 )  + np.sum(w * 0.5) \n",
    "    \n",
    "    return l\n",
    "    "
   ]
  },
  {
   "cell_type": "code",
   "execution_count": 58,
   "metadata": {},
   "outputs": [],
   "source": [
    "# возвращает градиент регуляризованного функционала MSPE для выборки (X, y) и вектора весов w\n",
    "def get_reg_grad(w, X, y):\n",
    "    pred = X.dot(w)\n",
    "    return (( (X.T.dot((pred - y) / (y + np.random.normal(1e-7)) ** 2 )) ) * 2 ) / X.shape[0]  + (2 * w / X.shape[0])"
   ]
  },
  {
   "cell_type": "code",
   "execution_count": 59,
   "metadata": {},
   "outputs": [],
   "source": [
    "def sgd(X, y, w0, step_size_0, max_iter, eps, is_reg):\n",
    "    \n",
    "    w = w0.copy()\n",
    "    iterat = 0\n",
    "    w_list = list([w])\n",
    "    history_pred = []\n",
    "    \n",
    "    if is_reg == True:\n",
    "        \n",
    "        gradient = get_reg_grad\n",
    "        func = get_reg_func\n",
    "   \n",
    "    else:\n",
    "        \n",
    "        gradient = get_grad\n",
    "        func = get_func_mspe\n",
    "         \n",
    "    while iterat < max_iter :\n",
    "        \n",
    "        for indx in np.random.choice(X.shape[0] - 1, 5):\n",
    "    \n",
    "            iterat += 1\n",
    "            step_size = step_size_0 / ((iterat+1)**0.51)\n",
    "\n",
    "            #отбираем батч\n",
    "            X_batch = X.iloc[:indx]\n",
    "            Y_batch = y.iloc[:indx]\n",
    "\n",
    "            #ошибка и значение\n",
    "            predict = func(w, X_batch, Y_batch)\n",
    "            history_pred.append(predict)\n",
    "\n",
    "            # посчитать градиент\n",
    "            grad = gradient(w, X_batch, Y_batch)\n",
    "\n",
    "            #обновить веса\n",
    "            w_pre = w.copy()\n",
    "            w = w - step_size * grad\n",
    "            w_list.append(w)\n",
    "\n",
    "            # расчет евклидовой нормы между соседними векторами\n",
    "            dist = np.linalg.norm( w_pre - w)\n",
    "        \n",
    "\n",
    "        #print(\"Проход:{}, вес:  \\n\\n Евклид:{}\\n\\n MSPE:{} \\n\\n\".format(iterat, dist, predict))\n",
    "        \n",
    "        #if dist < eps or predict > 10000:\n",
    "            \n",
    "            #print(\"Выполнилось условие остановки  \\n\\n\")\n",
    "            #break\n",
    "        #else:\n",
    "            #continue\n",
    "     \n",
    "    return  w, history_pred"
   ]
  },
  {
   "cell_type": "markdown",
   "metadata": {},
   "source": [
    "Обучите линейную регрессию с функционалом $MSPE$ и его регуляризованным вариантом на обучающей выборке при помощи метода стохастического градиентного спуска, подобрав при этом размер шага, при котором метод будет сходиться. Нарисуйте график сходимости. Выведите значения $MSPE, MSE, R^2$ на контрольной выборке."
   ]
  },
  {
   "cell_type": "code",
   "execution_count": 60,
   "metadata": {},
   "outputs": [],
   "source": [
    "w0 = np.random.rand( x_train.shape[1])\n",
    "w, pred_sgd = sgd(x_train, y_train, w0, 0.0001, 40, 1e-3, False)\n"
   ]
  },
  {
   "cell_type": "code",
   "execution_count": 61,
   "metadata": {},
   "outputs": [],
   "source": [
    "w0 = np.random.rand( x_train.shape[1])\n",
    "w, pred_reg_sgd = sgd(x_train, y_train, w0, 0.0001, 40, 1e-2, True)\n"
   ]
  },
  {
   "cell_type": "code",
   "execution_count": 62,
   "metadata": {},
   "outputs": [
    {
     "data": {
      "image/png": "[encoded data removed]",
      "text/plain": [
       "<Figure size 432x288 with 1 Axes>"
      ]
     },
     "metadata": {
      "needs_background": "light"
     },
     "output_type": "display_data"
    }
   ],
   "source": [
    "plt.plot(np.arange(len(pred_sgd)),pred_sgd, label=\"sgd_random_step_0.0001\")\n",
    "plt.plot(np.arange(len(pred_reg_sgd)),pred_reg_sgd, label=\"sgd_reg_random_step_0.0001\")  \n",
    "\n",
    "plt.legend()\n",
    "plt.grid()\n",
    "plt.ylim([0, 5000])\n",
    "plt.xlim([0, 40])\n",
    "\n",
    "plt.show()\n"
   ]
  },
  {
   "cell_type": "code",
   "execution_count": 63,
   "metadata": {},
   "outputs": [
    {
     "name": "stdout",
     "output_type": "stream",
     "text": [
      "MSE for test: 1439.4874268298065\n",
      "MPSE for test:50.16852554032468\n",
      "R2 score: -10.835778715832358\n"
     ]
    }
   ],
   "source": [
    "\n",
    "print(\"MSE for test: {}\".format(mean_squared_error(make_pred(x_test,w), y_test)))\n",
    "print(\"MPSE for test:{}\".format(get_func_mspe(w, x_test, y_test)))\n",
    "print(\"R2 score: {}\".format(r2_score(make_pred( x_test, w), y_test)))"
   ]
  },
  {
   "cell_type": "markdown",
   "metadata": {},
   "source": [
    "**24.** Аналогично п.22 исследуйте зависимость скорости сходимости метода SGD от наличия регуляризации. Обоснуйте, почему так происходит."
   ]
  },
  {
   "cell_type": "markdown",
   "metadata": {
    "collapsed": true
   },
   "source": [
    "__ОТВЕТ:__ \n",
    "Шаги стохастического градиентного спуска заметно более шумные, но их значительно быстрее считать. И в итоге они тоже сходятся к оптимальному значению (ппо крайней мере для хорошо подобранных коэффициентов темпа обучения в случае выпуклого функционала качества) из-за того, что матожидание оценки градиента на батче равно самому градиенту.\n",
    "    \n",
    "  Для сложных моделей и лоссов стохастический градиентный спуск может сходиться плохо или застревать в локальных минимумах, поэтому придумано множество его улучшений."
   ]
  },
  {
   "cell_type": "markdown",
   "metadata": {},
   "source": [
    "**25.** Обучите стандартную линейную регрессию с функционалом качества MSE на обучающей выборке и выведите значение MSPE полученного решения на контрольной выборке. Как оно соотносится с аналогичным результатом для решения, полученного в п.22? Почему?"
   ]
  },
  {
   "cell_type": "code",
   "execution_count": 1255,
   "metadata": {},
   "outputs": [],
   "source": [
    "import numpy as np\n",
    "# возвращает значение функционала MSPE для выборки (X, y) и вектора весов w\n",
    "def get_func_mspe(w, X, y):\n",
    "    \n",
    "    # добавим к y шум, чтобы не делить на ноль\n",
    "    pred = X.dot(w)\n",
    "    ans = np.mean( ( (pred - y ) / (y + np.random.normal(1e-7)) ) **2 ) \n",
    "    return ans"
   ]
  },
  {
   "cell_type": "code",
   "execution_count": 1168,
   "metadata": {},
   "outputs": [
    {
     "name": "stdout",
     "output_type": "stream",
     "text": [
      " MSPE for test:1.0869957064532028e+30 \n",
      " MSPE for train:3.033109690072993e+26\n"
     ]
    }
   ],
   "source": [
    "from sklearn.linear_model import LinearRegression, RidgeCV, LassoCV\n",
    "from sklearn.metrics import r2_score, mean_squared_error\n",
    "\n",
    "\n",
    "# model fiting w coef\n",
    "lr = LinearRegression()\n",
    "lr_model = lr.fit(x_train.iloc[:1000], y_train.iloc[:1000])\n",
    "\n",
    "# mspe score\n",
    "mspe_test = get_func_mspe(lr_model.coef_, x_test, y_test )\n",
    "mspe_train = get_func_mspe(lr_model.coef_, x_train, y_train )\n",
    "\n",
    "print(\" MSPE for test:{} \\n MSPE for train:{}\".format(mspe_test, mspe_train))"
   ]
  },
  {
   "cell_type": "markdown",
   "metadata": {},
   "source": [
    "__ОТВЕТ:__\n",
    "Самописная MPSE for test:2300.3130925348282  точнее чем для линейной регрессии из коробки, т.к.инструмент LinearRegression из sklearn  решает оптимизационную задачу для mean squared error"
   ]
  }
 ],
 "metadata": {
  "kernelspec": {
   "display_name": "Python 3",
   "language": "python",
   "name": "python3"
  },
  "language_info": {
   "codemirror_mode": {
    "name": "ipython",
    "version": 3
   },
   "file_extension": ".py",
   "mimetype": "text/x-python",
   "name": "python",
   "nbconvert_exporter": "python",
   "pygments_lexer": "ipython3",
   "version": "3.8.1"
  }
 },
 "nbformat": 4,
 "nbformat_minor": 1
}
