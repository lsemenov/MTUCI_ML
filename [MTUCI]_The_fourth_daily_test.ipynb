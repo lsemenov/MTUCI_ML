{
 "cells": [
  {
   "cell_type": "markdown",
   "metadata": {},
   "source": [
    "### Интеллектуальные системы, МТУСИ\n",
    "\n",
    "#### Лабораторная работа 3\n",
    "\n",
    "#### Выполнил :   Семенов А.И.\n",
    "\n",
    "#### Группа:   ЗМБД2032"
   ]
  },
  {
   "cell_type": "markdown",
   "metadata": {},
   "source": [
    "### 1、Import tensorflow and use tensorflow to define a constant."
   ]
  },
  {
   "cell_type": "code",
   "execution_count": 3,
   "metadata": {},
   "outputs": [
    {
     "data": {
      "text/plain": [
       "<tf.Tensor: shape=(), dtype=int32, numpy=1>"
      ]
     },
     "execution_count": 3,
     "metadata": {},
     "output_type": "execute_result"
    }
   ],
   "source": [
    "import tensorflow as tf\n",
    "\n",
    "# определим константу не изменяемый объект tensorflow\n",
    "a = tf.constant((1))"
   ]
  },
  {
   "cell_type": "markdown",
   "metadata": {},
   "source": [
    "### 2、Use tensorflow to print 'Welcome to Huawei'."
   ]
  },
  {
   "cell_type": "code",
   "execution_count": 13,
   "metadata": {},
   "outputs": [
    {
     "name": "stdout",
     "output_type": "stream",
     "text": [
      "Welcom to Huawei\r\n"
     ]
    }
   ],
   "source": [
    "tf.print(\"Welcom to Huawei\")"
   ]
  },
  {
   "cell_type": "markdown",
   "metadata": {},
   "source": [
    "### 3、Use tensorflow to define two numeric constants,then calculate them and print the result."
   ]
  },
  {
   "cell_type": "code",
   "execution_count": 6,
   "metadata": {},
   "outputs": [
    {
     "name": "stdout",
     "output_type": "stream",
     "text": [
      "tf.Tensor(200, shape=(), dtype=int32)\n",
      "\n",
      "tf.Tensor(-2, shape=(), dtype=int32)\n",
      "\n",
      "tf.Tensor(9999, shape=(), dtype=int32)\n"
     ]
    }
   ],
   "source": [
    "a = tf.constant((99))\n",
    "b = tf.constant((101))\n",
    "\n",
    "# суммирвоание двух элементов\n",
    "summ = tf.add(a, b)\n",
    "\n",
    "# поээлементное вычитание\n",
    "sub = tf.subtract(a, b)\n",
    "\n",
    "# поэлементное поумножение\n",
    "mul = tf.multiply(a, b)\n",
    "\n",
    "print(summ, sub, mul, sep=\"\\n\\n\")"
   ]
  },
  {
   "cell_type": "markdown",
   "metadata": {},
   "source": [
    "### 4、Randomly generate two matrices using tensorflow, calculate and print the result of their multiplication."
   ]
  },
  {
   "cell_type": "code",
   "execution_count": 12,
   "metadata": {},
   "outputs": [
    {
     "name": "stdout",
     "output_type": "stream",
     "text": [
      "tf.Tensor(\n",
      "[[0.42807722 0.91979337 0.00341403 0.6038108  0.07613647]\n",
      " [0.7046541  0.11620831 0.30488586 0.24092042 0.8126371 ]\n",
      " [0.26759815 0.7102696  0.88526    0.4318354  0.14802003]\n",
      " [0.5068618  0.6124631  0.8144386  0.3047055  0.36973286]\n",
      " [0.08235705 0.6889653  0.98445857 0.3900634  0.69066787]], shape=(5, 5), dtype=float32)\n",
      "\n",
      "tf.Tensor(\n",
      "[[0.7879926  0.64187455 0.54418004 0.82562065 0.3143654 ]\n",
      " [0.24928379 0.56802905 0.74859536 0.12356091 0.59280133]\n",
      " [0.9969219  0.08905613 0.8364558  0.8546679  0.4016813 ]\n",
      " [0.2795682  0.9496794  0.5491767  0.1272496  0.99870384]\n",
      " [0.40686035 0.45352972 0.2512908  0.7305695  0.41577768]], shape=(5, 5), dtype=float32)\n",
      "\n",
      "tf.Tensor(\n",
      "[[0.33732167 0.59039193 0.00185785 0.49851865 0.02393467]\n",
      " [0.17565885 0.0660097  0.22823614 0.02976835 0.48173234]\n",
      " [0.26677445 0.06325386 0.74048084 0.36907586 0.05945688]\n",
      " [0.14170244 0.5816436  0.4472707  0.03877365 0.36925364]\n",
      " [0.03350782 0.31246623 0.24738538 0.2849684  0.2871643 ]], shape=(5, 5), dtype=float32)\n"
     ]
    }
   ],
   "source": [
    "# создаём два рандомных тензора\n",
    "m1 = tf.random.uniform(shape=(5,5))\n",
    "m2 = tf.random.uniform(shape=(5,5))\n",
    "\n",
    "# поэлементное умножение \n",
    "mul = tf.multiply(m1, m2)\n",
    "\n",
    "print(m1 , m2 , mul, sep=\"\\n\\n\")"
   ]
  },
  {
   "cell_type": "markdown",
   "metadata": {},
   "source": [
    "### 5、Try to use your own handwriting number to do image recognition"
   ]
  },
  {
   "cell_type": "code",
   "execution_count": 49,
   "metadata": {},
   "outputs": [],
   "source": [
    "import tensorflow as tf\n",
    "import matplotlib.pyplot as plt\n",
    "import numpy as np"
   ]
  },
  {
   "cell_type": "code",
   "execution_count": 24,
   "metadata": {},
   "outputs": [],
   "source": [
    "# загружаем данные \n",
    "mnist = tf.keras.datasets.mnist\n",
    "\n",
    "# делим данные на выборки\n",
    "(x_train, y_train), (x_test, y_test) = mnist.load_data()"
   ]
  },
  {
   "cell_type": "code",
   "execution_count": 25,
   "metadata": {},
   "outputs": [
    {
     "data": {
      "image/png": "[encoded data removed]",
      "text/plain": [
       "<Figure size 432x288 with 1 Axes>"
      ]
     },
     "metadata": {
      "needs_background": "light"
     },
     "output_type": "display_data"
    }
   ],
   "source": [
    "# визуализируем данные \n",
    "plt.imshow(x_train[99], cmap=\"gray\")\n",
    "plt.show()"
   ]
  },
  {
   "cell_type": "code",
   "execution_count": 26,
   "metadata": {},
   "outputs": [],
   "source": [
    "# необходимо нормализовать данные характеризующие пиксели \n",
    "x_train = x_train / 255.0\n",
    "x_test = x_test /255.0"
   ]
  },
  {
   "cell_type": "markdown",
   "metadata": {},
   "source": [
    "__Модель__\n",
    " \n",
    " - Sequential, последовательно представленная сеть\n",
    "\n",
    "- Flatten, входной слой 28*28 превращает в одномерный набор. Первый слой в вашей сети должен иметь ту же форму, что и  данные.\n",
    "- Dense, полносвязный слой нейронов\n",
    "- Dense, выходной слой 10 нейронов - соответсвующий  кол-ву классов\n",
    "\n",
    "Каждому слою нужна функция активации, чтобы сообщить когда активироваться.\n",
    "- Relu,- функции активации, RelU -усечённое линейное преобразование , возвращает входное значение , если оно больше нуля, иначе возращает 0.\n",
    "\n",
    "- Softmax - функция активации, выбирающая наибольшее число в наборе, выставляя его в единицу каккатегорию. А остальные в ноль.\n",
    "-  metrics='accuracyэ, метрика при компиляции модели. Точность, отношение правильно предсказаных классов к общему количетсву предсказаний."
   ]
  },
  {
   "cell_type": "code",
   "execution_count": 29,
   "metadata": {},
   "outputs": [],
   "source": [
    "# архитектура нецросети 3 слоя, последовательный тип\n",
    "\n",
    "model = tf.keras.Sequential([\n",
    "    tf.keras.layers.Flatten(input_shape=(28,28)),\n",
    "    tf.keras.layers.Dense(128, activation=tf.nn.relu),\n",
    "    tf.keras.layers.Dense(10,activation=tf.nn.softmax)\n",
    "])\n"
   ]
  },
  {
   "cell_type": "markdown",
   "metadata": {},
   "source": [
    "__Компиляция модели__\n",
    "\n",
    "Необходимо определить функцию оптимизации и функцию потерь функцию потерь."
   ]
  },
  {
   "cell_type": "code",
   "execution_count": 30,
   "metadata": {},
   "outputs": [],
   "source": [
    "# определяем функцию оптимизации, главная функция в обучении нейросети, т.к. с её помощью подбираются гиперпараметры\n",
    "# определяем функцию потерь, измеряет на сколько хороши//плохи промежуточные результаты\n",
    "\n",
    "model.compile(optimizer=tf.compat.v1.train.AdamOptimizer(),\n",
    "              loss='sparse_categorical_crossentropy',\n",
    "              metrics='accuracy')"
   ]
  },
  {
   "cell_type": "markdown",
   "metadata": {},
   "source": [
    "__Обучение модели__\n",
    "\n",
    "Выполняется подгонка гиперпараметров под тренирововчную выборку"
   ]
  },
  {
   "cell_type": "code",
   "execution_count": 39,
   "metadata": {},
   "outputs": [
    {
     "name": "stdout",
     "output_type": "stream",
     "text": [
      "Epoch 1/5\n",
      "1875/1875 [==============================] - 2s 910us/step - loss: 0.0137 - accuracy: 0.9958\n",
      "Epoch 2/5\n",
      "1875/1875 [==============================] - 2s 889us/step - loss: 0.0108 - accuracy: 0.9966\n",
      "Epoch 3/5\n",
      "1875/1875 [==============================] - 2s 891us/step - loss: 0.0112 - accuracy: 0.9967\n",
      "Epoch 4/5\n",
      "1875/1875 [==============================] - 2s 898us/step - loss: 0.0089 - accuracy: 0.9971\n",
      "Epoch 5/5\n",
      "1875/1875 [==============================] - 2s 914us/step - loss: 0.0093 - accuracy: 0.9970\n"
     ]
    },
    {
     "data": {
      "text/plain": [
       "<tensorflow.python.keras.callbacks.History at 0x2b18672d2b0>"
      ]
     },
     "execution_count": 39,
     "metadata": {},
     "output_type": "execute_result"
    }
   ],
   "source": [
    "model.fit(x_train, y_train, epochs=5)\n"
   ]
  },
  {
   "cell_type": "markdown",
   "metadata": {},
   "source": [
    "__Оценка работы модели__"
   ]
  },
  {
   "cell_type": "code",
   "execution_count": 40,
   "metadata": {},
   "outputs": [
    {
     "name": "stdout",
     "output_type": "stream",
     "text": [
      "313/313 [==============================] - 0s 626us/step - loss: 0.0986 - accuracy: 0.9790\n"
     ]
    }
   ],
   "source": [
    "loss, acc = model.evaluate(x_test, y_test)\n"
   ]
  },
  {
   "cell_type": "markdown",
   "metadata": {},
   "source": [
    "__Вывод:__ После завершения обучения , точность сети 0.979. Говорит о том, что в 97% нейронная сеть правильно классифицирует обучающие данные. Т.е. сеть обнаружила закономерности в данных между изображениями и классами."
   ]
  },
  {
   "cell_type": "markdown",
   "metadata": {},
   "source": [
    "__Предсказания__\n"
   ]
  },
  {
   "cell_type": "code",
   "execution_count": 44,
   "metadata": {},
   "outputs": [
    {
     "data": {
      "text/plain": [
       "array([[8.15868843e-14, 4.82908687e-15, 9.84735557e-11, ...,\n",
       "        1.00000000e+00, 2.78619901e-13, 1.10956895e-11],\n",
       "       [2.53959007e-12, 6.03833442e-11, 1.00000000e+00, ...,\n",
       "        4.51774921e-24, 9.17144088e-16, 1.26979781e-29],\n",
       "       [1.66269984e-10, 9.99761760e-01, 1.25409802e-04, ...,\n",
       "        6.29763827e-06, 1.05973282e-04, 3.42533113e-10],\n",
       "       ...,\n",
       "       [4.37092346e-25, 2.29728477e-19, 4.86255150e-20, ...,\n",
       "        3.67148369e-12, 1.87463621e-14, 5.20819565e-09],\n",
       "       [9.95161116e-16, 4.66425740e-14, 1.32179723e-17, ...,\n",
       "        2.40614820e-14, 2.17644401e-06, 5.45504835e-17],\n",
       "       [5.29556698e-15, 6.11767375e-19, 3.91638495e-16, ...,\n",
       "        8.26298287e-23, 1.73113367e-19, 2.47716865e-22]], dtype=float32)"
      ]
     },
     "execution_count": 44,
     "metadata": {},
     "output_type": "execute_result"
    }
   ],
   "source": [
    "predict = model.predict(x_test)"
   ]
  },
  {
   "cell_type": "code",
   "execution_count": 52,
   "metadata": {},
   "outputs": [
    {
     "name": "stdout",
     "output_type": "stream",
     "text": [
      "9 9\n"
     ]
    },
    {
     "data": {
      "text/plain": [
       "<matplotlib.image.AxesImage at 0x2b186847700>"
      ]
     },
     "execution_count": 52,
     "metadata": {},
     "output_type": "execute_result"
    },
    {
     "data": {
      "image/png": "[encoded data removed]",
      "text/plain": [
       "<Figure size 432x288 with 1 Axes>"
      ]
     },
     "metadata": {
      "needs_background": "light"
     },
     "output_type": "display_data"
    }
   ],
   "source": [
    "print( np.argmax(predict[999]), y_test[999], )\n",
    "\n",
    "plt.imshow(x_test[999])"
   ]
  }
 ],
 "metadata": {
  "kernelspec": {
   "display_name": "Python 3",
   "language": "python",
   "name": "python3"
  },
  "language_info": {
   "codemirror_mode": {
    "name": "ipython",
    "version": 3
   },
   "file_extension": ".py",
   "mimetype": "text/x-python",
   "name": "python",
   "nbconvert_exporter": "python",
   "pygments_lexer": "ipython3",
   "version": "3.8.1"
  }
 },
 "nbformat": 4,
 "nbformat_minor": 4
}
