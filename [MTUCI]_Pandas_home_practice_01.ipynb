{
 "cells": [
  {
   "cell_type": "markdown",
   "metadata": {},
   "source": [
    "# Машинное обучение, МТУСИ\n",
    "\n",
    "## Практическое задание 1\n",
    "\n",
    "### Общая информация\n",
    "Дата выдачи: 03.04.2021 \n",
    "\n",
    "Мягкий дедлайн: 07:59MSK 10.04.2021\n",
    "\n",
    "Жесткий дедлайн: 23:59MSK 10.04.2021  "
   ]
  },
  {
   "cell_type": "markdown",
   "metadata": {},
   "source": [
    "### О задании\n",
    "\n",
    "Задание состоит из двух разделов, посвященных работе с табличными данными с помощью библиотеки pandas и визуализации с помощью matplotlib. В каждом разделе вам предлагается выполнить несколько заданий. Баллы даются за выполнение отдельных пунктов. Задачи в рамках одного раздела рекомендуется решать в том порядке, в котором они даны в задании.\n",
    "\n",
    "Задание направлено на освоение jupyter notebook (будет использоваться в дальнейших заданиях), библиотекам pandas и matplotlib.\n",
    "\n",
    "### Оценивание и штрафы\n",
    "Каждая из задач имеет определенную «стоимость» (указана в скобках около задачи). Максимально допустимая оценка за работу — 10 баллов.\n",
    "\n",
    "Сдавать задание после указанного срока сдачи нельзя. При выставлении неполного балла за задание в связи с наличием ошибок на усмотрение проверяющего предусмотрена возможность исправить работу на указанных в ответном письме условиях.\n",
    "\n",
    "Задание выполняется самостоятельно. «Похожие» решения считаются плагиатом и все задействованные студенты (в том числе те, у кого списали) не могут получить за него больше 0 баллов (подробнее о плагиате см. на странице курса). Если вы нашли решение какого-то из заданий (или его часть) в открытом источнике, необходимо указать ссылку на этот источник в отдельном блоке в конце вашей работы (скорее всего вы будете не единственным, кто это нашел, поэтому чтобы исключить подозрение в плагиате, необходима ссылка на источник).\n",
    "\n",
    "### Формат сдачи\n",
    "Задания сдаются через систему Anytask. Инвайт можно найти на странице курса. Присылать необходимо ноутбук с выполненным заданием. \n",
    "\n",
    "Для удобства проверки самостоятельно посчитайте свою максимальную оценку (исходя из набора решенных задач) и укажите ниже.\n",
    "\n",
    "Оценка: xx."
   ]
  },
  {
   "cell_type": "markdown",
   "metadata": {},
   "source": [
    "## 0. Введение"
   ]
  },
  {
   "cell_type": "markdown",
   "metadata": {
    "collapsed": true
   },
   "source": [
    "Сейчас мы находимся в jupyter-ноутбуке (или ipython-ноутбуке). Это удобная среда для написания кода, проведения экспериментов, изучения данных, построения визуализаций и других нужд, не связанных с написаем production-кода. \n",
    "\n",
    "Ноутбук состоит из ячеек, каждая из которых может быть либо ячейкой с кодом, либо ячейкой с текстом размеченным и неразмеченным. Текст поддерживает markdown-разметку и формулы в Latex.\n",
    "\n",
    "Для работы с содержимым ячейки используется *режим редактирования* (*Edit mode*, включается нажатием клавиши **Enter** после выбора ячейки), а для навигации между ячейками искользуется *командный режим* (*Command mode*, включается нажатием клавиши **Esc**). Тип ячейки можно задать в командном режиме либо с помощью горячих клавиш (**y** to code, **m** to markdown, **r** to edit raw text), либо в меню *Cell -> Cell type*. \n",
    "\n",
    "После заполнения ячейки нужно нажать *Shift + Enter*, эта команда обработает содержимое ячейки: проинтерпретирует код или сверстает размеченный текст."
   ]
  },
  {
   "cell_type": "code",
   "execution_count": 1,
   "metadata": {},
   "outputs": [
    {
     "data": {
      "text/plain": [
       "4"
      ]
     },
     "execution_count": 1,
     "metadata": {},
     "output_type": "execute_result"
    }
   ],
   "source": [
    "# ячейка с кодом, при выполнении которой появится output\n",
    "2 + 2"
   ]
  },
  {
   "cell_type": "markdown",
   "metadata": {},
   "source": [
    "А это ___ячейка с текстом___."
   ]
  },
  {
   "cell_type": "raw",
   "metadata": {},
   "source": [
    "Ячейка с неразмеченыным текстом."
   ]
  },
  {
   "cell_type": "markdown",
   "metadata": {},
   "source": [
    "Попробуйте создать свои ячейки, написать какой-нибудь код и текст какой-нибудь формулой."
   ]
  },
  {
   "cell_type": "code",
   "execution_count": 2,
   "metadata": {},
   "outputs": [
    {
     "name": "stdout",
     "output_type": "stream",
     "text": [
      "Ура все работает!\n"
     ]
    }
   ],
   "source": [
    "import pandas\n",
    "import matplotlib\n",
    "print(\"Ура все работает!\")"
   ]
  },
  {
   "cell_type": "markdown",
   "metadata": {},
   "source": [
    "[Здесь](https://athena.brynmawr.edu/jupyter/hub/dblank/public/Jupyter%20Notebook%20Users%20Manual.ipynb) находится <s>не</s>большая заметка о используемом языке разметки Markdown. Он позволяет:\n",
    "\n",
    "0. Составлять упорядоченные списки\n",
    "1. #Делать \n",
    "##заголовки \n",
    "###разного уровня\n",
    "3. Выделять *текст* <s>при</s> **необходимости**\n",
    "4. Добавлять [ссылки](http://imgs.xkcd.com/comics/the_universal_label.png)\n",
    "\n",
    "\n",
    "* Составлять неупорядоченные списки\n",
    "\n",
    "Делать вставки с помощью LaTex:\n",
    "    \n",
    "$\n",
    "\\left\\{\n",
    "\\begin{array}{ll}\n",
    "x = 16 \\sin^3 (t) \\\\ \n",
    "y = 13 \\cos (t) - 5 \\cos (2t) - 2 \\cos (3t) - \\cos (4t) \\\\\n",
    "t \\in [0, 2 \\pi]\n",
    "\\end{array}\n",
    "\\right.$"
   ]
  },
  {
   "cell_type": "markdown",
   "metadata": {},
   "source": [
    "## 1. Табличные данные и Pandas"
   ]
  },
  {
   "cell_type": "markdown",
   "metadata": {},
   "source": [
    "Pandas — удобная библиотека для работы с табличными данными в Python, если данных не слишком много и они помещаются в оперативную память вашего компьютера. Несмотря на неэффективность реализации и некоторые проблемы, библиотека стала стандартом в анализе данных. С этой библиотекой мы сейчас и познакомимся.\n",
    "\n",
    "Основной объект в pandas это DataFrame, представляющий собой таблицу с именованными колонками различных типов, индексом (может быть многоуровневым). DataFrame можно создавать, считывая таблицу из файла или задавая вручную из других объектов.\n",
    "\n",
    "В этой части потребуется выполнить несколько небольших заданий. Можно пойти двумя путями: сначала изучить материалы, а потом приступить к заданиям, или же разбираться \"по ходу\". Выбирайте сами.\n",
    "\n",
    "Материалы:\n",
    "1. [Pandas за 10 минут из официального руководства](http://pandas.pydata.org/pandas-docs/stable/10min.html)\n",
    "2. [Документация](http://pandas.pydata.org/pandas-docs/stable/index.html) (стоит обращаться, если не понятно, как вызывать конкретный метод)\n",
    "3. [Примеры использования функционала](http://nbviewer.jupyter.org/github/justmarkham/pandas-videos/blob/master/pandas.ipynb)\n",
    "\n",
    "Многие из заданий можно выполнить несколькими способами. Не существуют единственно верного, но попробуйте максимально задействовать арсенал pandas и ориентируйтесь на простоту и понятность вашего кода. Мы не будем подсказывать, что нужно использовать для решения конкретной задачи, попробуйте находить необходимый функционал сами (название метода чаще всего очевидно). В помощь вам документация, поиск и stackoverflow.\n",
    "\n",
    "\n",
    "Все строки во фрейме данных pandas имеют уникальное индексное значение. По\n",
    "умолчанию этот индекс является целым числом, указывающим на положение строки\n",
    "во фрейме данных; однако это не обязательно. Индексы фреймов могут быть\n",
    "уникальными буквенно-цифровыми строковыми значениями или номерами клиентов.\n",
    "Для выбора отдельных строк и срезов строк библиотека pandas предоставляет\n",
    "два метода:\n",
    "♦ метод 1ос полезен, когда индекс фрейма является меткой (например, строковым\n",
    "значением);\n",
    "♦ метод Н о с работает, отыскивая позицию во фрейме данных; например, iioc[0]\n",
    "вернет первую строку независимо от того, является ли индекс целым числом или\n",
    "меткой."
   ]
  },
  {
   "cell_type": "code",
   "execution_count": 4,
   "metadata": {},
   "outputs": [],
   "source": [
    "import pandas as pd"
   ]
  },
  {
   "cell_type": "markdown",
   "metadata": {},
   "source": [
    "Данные можно скачать [отсюда](https://www.dropbox.com/s/5qq94wzmbw4e54r/data.csv?dl=0)."
   ]
  },
  {
   "cell_type": "markdown",
   "metadata": {},
   "source": [
    "#### 1. [0.5 баллов] Откройте файл с таблицей (не забудьте про её формат). Выведите последние 10 строк.\n",
    "\n",
    "Посмотрите на данные и скажите, что они из себя представляют, сколько в таблице строк, какие столбцы?\n",
    "- df.head() -  view the top \n",
    "- df.tail() - view the bottom"
   ]
  },
  {
   "cell_type": "code",
   "execution_count": 35,
   "metadata": {},
   "outputs": [
    {
     "name": "stdout",
     "output_type": "stream",
     "text": [
      "В таблице (4622, 5) строка, таблица представляет из себя заказы с описанием\n"
     ]
    },
    {
     "data": {
      "text/html": [
       "<div>\n",
       "<style scoped>\n",
       "    .dataframe tbody tr th:only-of-type {\n",
       "        vertical-align: middle;\n",
       "    }\n",
       "\n",
       "    .dataframe tbody tr th {\n",
       "        vertical-align: top;\n",
       "    }\n",
       "\n",
       "    .dataframe thead th {\n",
       "        text-align: right;\n",
       "    }\n",
       "</style>\n",
       "<table border=\"1\" class=\"dataframe\">\n",
       "  <thead>\n",
       "    <tr style=\"text-align: right;\">\n",
       "      <th></th>\n",
       "      <th>order_id</th>\n",
       "      <th>quantity</th>\n",
       "      <th>item_name</th>\n",
       "      <th>choice_description</th>\n",
       "      <th>item_price</th>\n",
       "    </tr>\n",
       "  </thead>\n",
       "  <tbody>\n",
       "    <tr>\n",
       "      <th>4612</th>\n",
       "      <td>1831</td>\n",
       "      <td>1</td>\n",
       "      <td>Carnitas Bowl</td>\n",
       "      <td>[Fresh Tomato Salsa, [Fajita Vegetables, Rice,...</td>\n",
       "      <td>$9.25</td>\n",
       "    </tr>\n",
       "    <tr>\n",
       "      <th>4613</th>\n",
       "      <td>1831</td>\n",
       "      <td>1</td>\n",
       "      <td>Chips</td>\n",
       "      <td>NaN</td>\n",
       "      <td>$2.15</td>\n",
       "    </tr>\n",
       "    <tr>\n",
       "      <th>4614</th>\n",
       "      <td>1831</td>\n",
       "      <td>1</td>\n",
       "      <td>Bottled Water</td>\n",
       "      <td>NaN</td>\n",
       "      <td>$1.50</td>\n",
       "    </tr>\n",
       "    <tr>\n",
       "      <th>4615</th>\n",
       "      <td>1832</td>\n",
       "      <td>1</td>\n",
       "      <td>Chicken Soft Tacos</td>\n",
       "      <td>[Fresh Tomato Salsa, [Rice, Cheese, Sour Cream]]</td>\n",
       "      <td>$8.75</td>\n",
       "    </tr>\n",
       "    <tr>\n",
       "      <th>4616</th>\n",
       "      <td>1832</td>\n",
       "      <td>1</td>\n",
       "      <td>Chips and Guacamole</td>\n",
       "      <td>NaN</td>\n",
       "      <td>$4.45</td>\n",
       "    </tr>\n",
       "    <tr>\n",
       "      <th>4617</th>\n",
       "      <td>1833</td>\n",
       "      <td>1</td>\n",
       "      <td>Steak Burrito</td>\n",
       "      <td>[Fresh Tomato Salsa, [Rice, Black Beans, Sour ...</td>\n",
       "      <td>$11.75</td>\n",
       "    </tr>\n",
       "    <tr>\n",
       "      <th>4618</th>\n",
       "      <td>1833</td>\n",
       "      <td>1</td>\n",
       "      <td>Steak Burrito</td>\n",
       "      <td>[Fresh Tomato Salsa, [Rice, Sour Cream, Cheese...</td>\n",
       "      <td>$11.75</td>\n",
       "    </tr>\n",
       "    <tr>\n",
       "      <th>4619</th>\n",
       "      <td>1834</td>\n",
       "      <td>1</td>\n",
       "      <td>Chicken Salad Bowl</td>\n",
       "      <td>[Fresh Tomato Salsa, [Fajita Vegetables, Pinto...</td>\n",
       "      <td>$11.25</td>\n",
       "    </tr>\n",
       "    <tr>\n",
       "      <th>4620</th>\n",
       "      <td>1834</td>\n",
       "      <td>1</td>\n",
       "      <td>Chicken Salad Bowl</td>\n",
       "      <td>[Fresh Tomato Salsa, [Fajita Vegetables, Lettu...</td>\n",
       "      <td>$8.75</td>\n",
       "    </tr>\n",
       "    <tr>\n",
       "      <th>4621</th>\n",
       "      <td>1834</td>\n",
       "      <td>1</td>\n",
       "      <td>Chicken Salad Bowl</td>\n",
       "      <td>[Fresh Tomato Salsa, [Fajita Vegetables, Pinto...</td>\n",
       "      <td>$8.75</td>\n",
       "    </tr>\n",
       "  </tbody>\n",
       "</table>\n",
       "</div>"
      ],
      "text/plain": [
       "      order_id  quantity            item_name  \\\n",
       "4612      1831         1        Carnitas Bowl   \n",
       "4613      1831         1                Chips   \n",
       "4614      1831         1        Bottled Water   \n",
       "4615      1832         1   Chicken Soft Tacos   \n",
       "4616      1832         1  Chips and Guacamole   \n",
       "4617      1833         1        Steak Burrito   \n",
       "4618      1833         1        Steak Burrito   \n",
       "4619      1834         1   Chicken Salad Bowl   \n",
       "4620      1834         1   Chicken Salad Bowl   \n",
       "4621      1834         1   Chicken Salad Bowl   \n",
       "\n",
       "                                     choice_description item_price  \n",
       "4612  [Fresh Tomato Salsa, [Fajita Vegetables, Rice,...     $9.25   \n",
       "4613                                                NaN     $2.15   \n",
       "4614                                                NaN     $1.50   \n",
       "4615   [Fresh Tomato Salsa, [Rice, Cheese, Sour Cream]]     $8.75   \n",
       "4616                                                NaN     $4.45   \n",
       "4617  [Fresh Tomato Salsa, [Rice, Black Beans, Sour ...    $11.75   \n",
       "4618  [Fresh Tomato Salsa, [Rice, Sour Cream, Cheese...    $11.75   \n",
       "4619  [Fresh Tomato Salsa, [Fajita Vegetables, Pinto...    $11.25   \n",
       "4620  [Fresh Tomato Salsa, [Fajita Vegetables, Lettu...     $8.75   \n",
       "4621  [Fresh Tomato Salsa, [Fajita Vegetables, Pinto...     $8.75   "
      ]
     },
     "execution_count": 35,
     "metadata": {},
     "output_type": "execute_result"
    }
   ],
   "source": [
    "import pandas as pd\n",
    "frame = pd.read_csv(\"F:\\Jupyter project\\data_mtuci.csv\", header=0, sep=',')\n",
    "print(\"В таблице {} строка, таблица представляет из себя заказы с описанием\".format(frame.shape))\n",
    "frame.tail(10)"
   ]
  },
  {
   "cell_type": "markdown",
   "metadata": {},
   "source": [
    "#### 2. [0.25 баллов] Ответьте на вопросы:\n",
    "1. Сколько заказов попало в выборку?\n",
    "\n",
    "2. Сколько уникальных категорий товара было куплено? (item_name)\n",
    " - метод describe,  можно получить описательную статистику для любых числовых столбцов\n",
    " - pd.unique возвращает уникальные значения из входного массива или столбца или индекса DataFrame."
   ]
  },
  {
   "cell_type": "code",
   "execution_count": 36,
   "metadata": {},
   "outputs": [
    {
     "name": "stdout",
     "output_type": "stream",
     "text": [
      "Сколько заказов попало в выборку? : 1834 заказов в выборке\n",
      "Сколько уникальных категорий товара было куплено? : 50 уникальных категорий товара было куплено\n"
     ]
    },
    {
     "data": {
      "text/html": [
       "<div>\n",
       "<style scoped>\n",
       "    .dataframe tbody tr th:only-of-type {\n",
       "        vertical-align: middle;\n",
       "    }\n",
       "\n",
       "    .dataframe tbody tr th {\n",
       "        vertical-align: top;\n",
       "    }\n",
       "\n",
       "    .dataframe thead th {\n",
       "        text-align: right;\n",
       "    }\n",
       "</style>\n",
       "<table border=\"1\" class=\"dataframe\">\n",
       "  <thead>\n",
       "    <tr style=\"text-align: right;\">\n",
       "      <th></th>\n",
       "      <th>item_name</th>\n",
       "      <th>choice_description</th>\n",
       "      <th>item_price</th>\n",
       "    </tr>\n",
       "  </thead>\n",
       "  <tbody>\n",
       "    <tr>\n",
       "      <th>count</th>\n",
       "      <td>4622</td>\n",
       "      <td>3376</td>\n",
       "      <td>4622</td>\n",
       "    </tr>\n",
       "    <tr>\n",
       "      <th>unique</th>\n",
       "      <td>50</td>\n",
       "      <td>1043</td>\n",
       "      <td>78</td>\n",
       "    </tr>\n",
       "    <tr>\n",
       "      <th>top</th>\n",
       "      <td>Chicken Bowl</td>\n",
       "      <td>[Diet Coke]</td>\n",
       "      <td>$8.75</td>\n",
       "    </tr>\n",
       "    <tr>\n",
       "      <th>freq</th>\n",
       "      <td>726</td>\n",
       "      <td>134</td>\n",
       "      <td>730</td>\n",
       "    </tr>\n",
       "  </tbody>\n",
       "</table>\n",
       "</div>"
      ],
      "text/plain": [
       "           item_name choice_description item_price\n",
       "count           4622               3376       4622\n",
       "unique            50               1043         78\n",
       "top     Chicken Bowl        [Diet Coke]     $8.75 \n",
       "freq             726                134        730"
      ]
     },
     "execution_count": 36,
     "metadata": {},
     "output_type": "execute_result"
    }
   ],
   "source": [
    "import pandas as pd\n",
    "frame = pd.read_csv(\"F:\\Jupyter project\\data_mtuci.csv\", header=0, sep=',')\n",
    "\n",
    "print(\"Сколько заказов попало в выборку?\", \":\" ,\"{} заказов в выборке\".format(len(frame[\"order_id\"].unique() ) ) )\n",
    "print(\"Сколько уникальных категорий товара было куплено?\", \":\", \"50 уникальных категорий товара было куплено\" )\n",
    "frame.describe(include=['object'])\n"
   ]
  },
  {
   "cell_type": "markdown",
   "metadata": {},
   "source": [
    "#### 3. [0.25 баллов] Есть ли в данных пропуски? В каких колонках? \n",
    "\n",
    "- Количество пропущенных значений:\n",
    "  - Для подсчёта количества пропущенных значений можно использовать .isnull() и .sum()"
   ]
  },
  {
   "cell_type": "code",
   "execution_count": 37,
   "metadata": {},
   "outputs": [
    {
     "data": {
      "text/plain": [
       "order_id                 0\n",
       "quantity                 0\n",
       "item_name                0\n",
       "choice_description    1246\n",
       "item_price               0\n",
       "dtype: int64"
      ]
     },
     "execution_count": 37,
     "metadata": {},
     "output_type": "execute_result"
    }
   ],
   "source": [
    "import pandas as pd\n",
    "frame = pd.read_csv(\"F:\\Jupyter project\\data_mtuci.csv\", header=0, sep=',')\n",
    "frame.isnull().sum()"
   ]
  },
  {
   "cell_type": "markdown",
   "metadata": {},
   "source": [
    "Заполните пропуски пустой строкой для строковых колонок и нулём для числовых.\n",
    "- Метод replace библиотеки pandas — это простой способ найти и заменить значения.\n",
    " - вызываем функцию fillna() .Заполняет  значения NA / NaN. Если сделать inplace=True,  пропущенные значения будут заменены на месте и перезапишут ваш исходный фрейм данных.\n"
   ]
  },
  {
   "cell_type": "code",
   "execution_count": 38,
   "metadata": {},
   "outputs": [
    {
     "data": {
      "text/html": [
       "<div>\n",
       "<style scoped>\n",
       "    .dataframe tbody tr th:only-of-type {\n",
       "        vertical-align: middle;\n",
       "    }\n",
       "\n",
       "    .dataframe tbody tr th {\n",
       "        vertical-align: top;\n",
       "    }\n",
       "\n",
       "    .dataframe thead th {\n",
       "        text-align: right;\n",
       "    }\n",
       "</style>\n",
       "<table border=\"1\" class=\"dataframe\">\n",
       "  <thead>\n",
       "    <tr style=\"text-align: right;\">\n",
       "      <th></th>\n",
       "      <th>order_id</th>\n",
       "      <th>quantity</th>\n",
       "      <th>item_name</th>\n",
       "      <th>choice_description</th>\n",
       "      <th>item_price</th>\n",
       "    </tr>\n",
       "  </thead>\n",
       "  <tbody>\n",
       "    <tr>\n",
       "      <th>4612</th>\n",
       "      <td>1831</td>\n",
       "      <td>1</td>\n",
       "      <td>Carnitas Bowl</td>\n",
       "      <td>[Fresh Tomato Salsa, [Fajita Vegetables, Rice,...</td>\n",
       "      <td>$9.25</td>\n",
       "    </tr>\n",
       "    <tr>\n",
       "      <th>4613</th>\n",
       "      <td>1831</td>\n",
       "      <td>1</td>\n",
       "      <td>Chips</td>\n",
       "      <td></td>\n",
       "      <td>$2.15</td>\n",
       "    </tr>\n",
       "    <tr>\n",
       "      <th>4614</th>\n",
       "      <td>1831</td>\n",
       "      <td>1</td>\n",
       "      <td>Bottled Water</td>\n",
       "      <td></td>\n",
       "      <td>$1.50</td>\n",
       "    </tr>\n",
       "    <tr>\n",
       "      <th>4615</th>\n",
       "      <td>1832</td>\n",
       "      <td>1</td>\n",
       "      <td>Chicken Soft Tacos</td>\n",
       "      <td>[Fresh Tomato Salsa, [Rice, Cheese, Sour Cream]]</td>\n",
       "      <td>$8.75</td>\n",
       "    </tr>\n",
       "    <tr>\n",
       "      <th>4616</th>\n",
       "      <td>1832</td>\n",
       "      <td>1</td>\n",
       "      <td>Chips and Guacamole</td>\n",
       "      <td></td>\n",
       "      <td>$4.45</td>\n",
       "    </tr>\n",
       "    <tr>\n",
       "      <th>4617</th>\n",
       "      <td>1833</td>\n",
       "      <td>1</td>\n",
       "      <td>Steak Burrito</td>\n",
       "      <td>[Fresh Tomato Salsa, [Rice, Black Beans, Sour ...</td>\n",
       "      <td>$11.75</td>\n",
       "    </tr>\n",
       "    <tr>\n",
       "      <th>4618</th>\n",
       "      <td>1833</td>\n",
       "      <td>1</td>\n",
       "      <td>Steak Burrito</td>\n",
       "      <td>[Fresh Tomato Salsa, [Rice, Sour Cream, Cheese...</td>\n",
       "      <td>$11.75</td>\n",
       "    </tr>\n",
       "    <tr>\n",
       "      <th>4619</th>\n",
       "      <td>1834</td>\n",
       "      <td>1</td>\n",
       "      <td>Chicken Salad Bowl</td>\n",
       "      <td>[Fresh Tomato Salsa, [Fajita Vegetables, Pinto...</td>\n",
       "      <td>$11.25</td>\n",
       "    </tr>\n",
       "    <tr>\n",
       "      <th>4620</th>\n",
       "      <td>1834</td>\n",
       "      <td>1</td>\n",
       "      <td>Chicken Salad Bowl</td>\n",
       "      <td>[Fresh Tomato Salsa, [Fajita Vegetables, Lettu...</td>\n",
       "      <td>$8.75</td>\n",
       "    </tr>\n",
       "    <tr>\n",
       "      <th>4621</th>\n",
       "      <td>1834</td>\n",
       "      <td>1</td>\n",
       "      <td>Chicken Salad Bowl</td>\n",
       "      <td>[Fresh Tomato Salsa, [Fajita Vegetables, Pinto...</td>\n",
       "      <td>$8.75</td>\n",
       "    </tr>\n",
       "  </tbody>\n",
       "</table>\n",
       "</div>"
      ],
      "text/plain": [
       "      order_id  quantity            item_name  \\\n",
       "4612      1831         1        Carnitas Bowl   \n",
       "4613      1831         1                Chips   \n",
       "4614      1831         1        Bottled Water   \n",
       "4615      1832         1   Chicken Soft Tacos   \n",
       "4616      1832         1  Chips and Guacamole   \n",
       "4617      1833         1        Steak Burrito   \n",
       "4618      1833         1        Steak Burrito   \n",
       "4619      1834         1   Chicken Salad Bowl   \n",
       "4620      1834         1   Chicken Salad Bowl   \n",
       "4621      1834         1   Chicken Salad Bowl   \n",
       "\n",
       "                                     choice_description item_price  \n",
       "4612  [Fresh Tomato Salsa, [Fajita Vegetables, Rice,...     $9.25   \n",
       "4613                                                        $2.15   \n",
       "4614                                                        $1.50   \n",
       "4615   [Fresh Tomato Salsa, [Rice, Cheese, Sour Cream]]     $8.75   \n",
       "4616                                                        $4.45   \n",
       "4617  [Fresh Tomato Salsa, [Rice, Black Beans, Sour ...    $11.75   \n",
       "4618  [Fresh Tomato Salsa, [Rice, Sour Cream, Cheese...    $11.75   \n",
       "4619  [Fresh Tomato Salsa, [Fajita Vegetables, Pinto...    $11.25   \n",
       "4620  [Fresh Tomato Salsa, [Fajita Vegetables, Lettu...     $8.75   \n",
       "4621  [Fresh Tomato Salsa, [Fajita Vegetables, Pinto...     $8.75   "
      ]
     },
     "execution_count": 38,
     "metadata": {},
     "output_type": "execute_result"
    }
   ],
   "source": [
    "frame.fillna('', inplace=True) # заменяем пропуски пустой строкой\n",
    "frame.tail(10)\n"
   ]
  },
  {
   "cell_type": "markdown",
   "metadata": {},
   "source": [
    "#### 4. [0.5 баллов] Посмотрите внимательнее на колонку с ценой товара. Какого она типа? Создайте новую колонку так, чтобы в ней цена была числом.\n",
    "\n",
    "Для этого попробуйте применить функцию-преобразование к каждой строке вашей таблицы (для этого есть соответствующая функция).\n",
    "- определить типы столбцов, используя df.dtypes\n",
    "- infer_objects() для преобразования столбцов DataFrame, имеющих тип данных объекта, в более конкретный тип (мягкие преобразования)., вы можете изменить тип столбца 'a' на int64:\n",
    "- astype(float), изменить любой тип столбца\n",
    "- to_numeric() - предоставляет функциональные возможности для безопасного преобразования нечисловых типов (например, строк) в подходящий числовой тип.\n"
   ]
  },
  {
   "cell_type": "code",
   "execution_count": 39,
   "metadata": {},
   "outputs": [
    {
     "name": "stdout",
     "output_type": "stream",
     "text": [
      "Столбец с ценной (item_price) имеет тип: Object\n"
     ]
    }
   ],
   "source": [
    "frame[\"item_price\"].dtypes\n",
    "print(\"Столбец с ценной (item_price) имеет тип: Object\")"
   ]
  },
  {
   "cell_type": "code",
   "execution_count": 40,
   "metadata": {},
   "outputs": [
    {
     "name": "stdout",
     "output_type": "stream",
     "text": [
      "4612     9.25\n",
      "4613     2.15\n",
      "4614     1.50\n",
      "4615     8.75\n",
      "4616     4.45\n",
      "4617    11.75\n",
      "4618    11.75\n",
      "4619    11.25\n",
      "4620     8.75\n",
      "4621     8.75\n",
      "Name: item_price2, dtype: float64\n",
      "float64\n"
     ]
    }
   ],
   "source": [
    "# создали новый столбец с ценнами без знака доллар и с типпом данных float\n",
    "\n",
    "frame[\"item_price2\"] = frame[\"item_price\"].replace({'\\$':''}, regex = True).astype(float)\n",
    "\n",
    "# создадим новый столбец с ценной на товар  за один заказ\n",
    "frame[\"item_price_personal\"] = frame[\"item_price2\"] / frame[\"quantity\"]\n",
    "print(frame[\"item_price2\"].tail(10))\n",
    "print(frame[\"item_price2\"].dtypes)"
   ]
  },
  {
   "cell_type": "markdown",
   "metadata": {},
   "source": [
    "Какая средняя/минимальная/максимальная цена у товара? "
   ]
  },
  {
   "cell_type": "code",
   "execution_count": 253,
   "metadata": {},
   "outputs": [
    {
     "name": "stdout",
     "output_type": "stream",
     "text": [
      "Средняя цена товара: 7.084424491562094\n",
      "Минимальная цена товара: 1.09\n",
      "Максимальная цена товара: 11.89\n"
     ]
    }
   ],
   "source": [
    "print(\"Средняя цена товара:\", frame[\"item_price_personal\"].mean())\n",
    "print(\"Минимальная цена товара:\", frame[\"item_price_personal\"].min())\n",
    "print(\"Максимальная цена товара:\", frame[\"item_price_personal\"].max())"
   ]
  },
  {
   "cell_type": "markdown",
   "metadata": {},
   "source": [
    "__Удалите старую колонку с ценой.__\n",
    " - Лучший способ удалить столбец — применить метод drop с параметром axis=l (т. е. с осью столбцов),\n",
    " - Альтернативный метод — del dataframe[ 'Age' ], (вызывается внутри библиотеки pandas ()\n",
    "\n",
    "Многие методы pandas включают параметр inpiace, который\n",
    "при равенстве True редактирует объект DataFrame напрямую. Это может привести\n",
    "к проблемам в более сложных конвейерах обработки данных, потому что в этом\n",
    "случае фреймы данных рассматриваются как мутирующие объекты (которыми они\n",
    "технически являются). Настоятельно рекомендуется рассматривать фреймы данных\n",
    "как немутирующие объекты."
   ]
  },
  {
   "cell_type": "code",
   "execution_count": 41,
   "metadata": {},
   "outputs": [
    {
     "data": {
      "text/html": [
       "<div>\n",
       "<style scoped>\n",
       "    .dataframe tbody tr th:only-of-type {\n",
       "        vertical-align: middle;\n",
       "    }\n",
       "\n",
       "    .dataframe tbody tr th {\n",
       "        vertical-align: top;\n",
       "    }\n",
       "\n",
       "    .dataframe thead th {\n",
       "        text-align: right;\n",
       "    }\n",
       "</style>\n",
       "<table border=\"1\" class=\"dataframe\">\n",
       "  <thead>\n",
       "    <tr style=\"text-align: right;\">\n",
       "      <th></th>\n",
       "      <th>order_id</th>\n",
       "      <th>quantity</th>\n",
       "      <th>item_name</th>\n",
       "      <th>choice_description</th>\n",
       "      <th>item_price2</th>\n",
       "      <th>item_price_personal</th>\n",
       "    </tr>\n",
       "  </thead>\n",
       "  <tbody>\n",
       "    <tr>\n",
       "      <th>0</th>\n",
       "      <td>1</td>\n",
       "      <td>1</td>\n",
       "      <td>Chips and Fresh Tomato Salsa</td>\n",
       "      <td></td>\n",
       "      <td>2.39</td>\n",
       "      <td>2.39</td>\n",
       "    </tr>\n",
       "    <tr>\n",
       "      <th>1</th>\n",
       "      <td>1</td>\n",
       "      <td>1</td>\n",
       "      <td>Izze</td>\n",
       "      <td>[Clementine]</td>\n",
       "      <td>3.39</td>\n",
       "      <td>3.39</td>\n",
       "    </tr>\n",
       "    <tr>\n",
       "      <th>2</th>\n",
       "      <td>1</td>\n",
       "      <td>1</td>\n",
       "      <td>Nantucket Nectar</td>\n",
       "      <td>[Apple]</td>\n",
       "      <td>3.39</td>\n",
       "      <td>3.39</td>\n",
       "    </tr>\n",
       "    <tr>\n",
       "      <th>3</th>\n",
       "      <td>1</td>\n",
       "      <td>1</td>\n",
       "      <td>Chips and Tomatillo-Green Chili Salsa</td>\n",
       "      <td></td>\n",
       "      <td>2.39</td>\n",
       "      <td>2.39</td>\n",
       "    </tr>\n",
       "    <tr>\n",
       "      <th>4</th>\n",
       "      <td>2</td>\n",
       "      <td>2</td>\n",
       "      <td>Chicken Bowl</td>\n",
       "      <td>[Tomatillo-Red Chili Salsa (Hot), [Black Beans...</td>\n",
       "      <td>16.98</td>\n",
       "      <td>8.49</td>\n",
       "    </tr>\n",
       "  </tbody>\n",
       "</table>\n",
       "</div>"
      ],
      "text/plain": [
       "   order_id  quantity                              item_name  \\\n",
       "0         1         1           Chips and Fresh Tomato Salsa   \n",
       "1         1         1                                   Izze   \n",
       "2         1         1                       Nantucket Nectar   \n",
       "3         1         1  Chips and Tomatillo-Green Chili Salsa   \n",
       "4         2         2                           Chicken Bowl   \n",
       "\n",
       "                                  choice_description  item_price2  \\\n",
       "0                                                            2.39   \n",
       "1                                       [Clementine]         3.39   \n",
       "2                                            [Apple]         3.39   \n",
       "3                                                            2.39   \n",
       "4  [Tomatillo-Red Chili Salsa (Hot), [Black Beans...        16.98   \n",
       "\n",
       "   item_price_personal  \n",
       "0                 2.39  \n",
       "1                 3.39  \n",
       "2                 3.39  \n",
       "3                 2.39  \n",
       "4                 8.49  "
      ]
     },
     "execution_count": 41,
     "metadata": {},
     "output_type": "execute_result"
    }
   ],
   "source": [
    "frame.drop(\"item_price\", axis = 1, inplace = True )\n",
    "frame.head(5)"
   ]
  },
  {
   "cell_type": "markdown",
   "metadata": {},
   "source": [
    "#### 5. [0.25 баллов] Какие 5 товаров были самыми дешёвыми и самыми дорогими? (по choice_description)\n",
    "\n",
    "Для этого будет удобно избавиться от дубликатов и отсортировать товары. Не забудьте про количество товара."
   ]
  },
  {
   "cell_type": "markdown",
   "metadata": {},
   "source": [
    "  __a) избавляемся от дубликатов__\n",
    "        - Использовать метод drop duplicates,\n",
    "     \n",
    "метод drop duplicates по умолчанию отбрасывает только те\n",
    "строки, которые идеально совпадают по всем столбцам. При этом условии каждая\n",
    "строка в нашем фрейме данных dataframe на самом деле уникальна. Вместе с тем,\n",
    "для того чтобы выполнить проверку на наличие повторяющихся строк, нередко\n",
    "требуется рассмотреть только подмножество столбцов. Это можно сделать с помощью\n",
    "параметра subset.\n",
    "метод drop duplicates по умолчанию\n",
    "сохраняет первое появление повторяющейся строки и удаляет остальные"
   ]
  },
  {
   "cell_type": "code",
   "execution_count": 260,
   "metadata": {},
   "outputs": [
    {
     "data": {
      "text/html": [
       "<div>\n",
       "<style scoped>\n",
       "    .dataframe tbody tr th:only-of-type {\n",
       "        vertical-align: middle;\n",
       "    }\n",
       "\n",
       "    .dataframe tbody tr th {\n",
       "        vertical-align: top;\n",
       "    }\n",
       "\n",
       "    .dataframe thead th {\n",
       "        text-align: right;\n",
       "    }\n",
       "</style>\n",
       "<table border=\"1\" class=\"dataframe\">\n",
       "  <thead>\n",
       "    <tr style=\"text-align: right;\">\n",
       "      <th></th>\n",
       "      <th>order_id</th>\n",
       "      <th>quantity</th>\n",
       "      <th>item_name</th>\n",
       "      <th>choice_description</th>\n",
       "      <th>item_price</th>\n",
       "      <th>item_price2</th>\n",
       "      <th>item_price_personal</th>\n",
       "    </tr>\n",
       "  </thead>\n",
       "  <tbody>\n",
       "    <tr>\n",
       "      <th>0</th>\n",
       "      <td>1</td>\n",
       "      <td>1</td>\n",
       "      <td>Chips and Fresh Tomato Salsa</td>\n",
       "      <td>NaN</td>\n",
       "      <td>$2.39</td>\n",
       "      <td>2.39</td>\n",
       "      <td>2.39</td>\n",
       "    </tr>\n",
       "    <tr>\n",
       "      <th>1</th>\n",
       "      <td>1</td>\n",
       "      <td>1</td>\n",
       "      <td>Izze</td>\n",
       "      <td>[Clementine]</td>\n",
       "      <td>$3.39</td>\n",
       "      <td>3.39</td>\n",
       "      <td>3.39</td>\n",
       "    </tr>\n",
       "    <tr>\n",
       "      <th>2</th>\n",
       "      <td>1</td>\n",
       "      <td>1</td>\n",
       "      <td>Nantucket Nectar</td>\n",
       "      <td>[Apple]</td>\n",
       "      <td>$3.39</td>\n",
       "      <td>3.39</td>\n",
       "      <td>3.39</td>\n",
       "    </tr>\n",
       "    <tr>\n",
       "      <th>3</th>\n",
       "      <td>1</td>\n",
       "      <td>1</td>\n",
       "      <td>Chips and Tomatillo-Green Chili Salsa</td>\n",
       "      <td>NaN</td>\n",
       "      <td>$2.39</td>\n",
       "      <td>2.39</td>\n",
       "      <td>2.39</td>\n",
       "    </tr>\n",
       "    <tr>\n",
       "      <th>4</th>\n",
       "      <td>2</td>\n",
       "      <td>2</td>\n",
       "      <td>Chicken Bowl</td>\n",
       "      <td>[Tomatillo-Red Chili Salsa (Hot), [Black Beans...</td>\n",
       "      <td>$16.98</td>\n",
       "      <td>16.98</td>\n",
       "      <td>8.49</td>\n",
       "    </tr>\n",
       "  </tbody>\n",
       "</table>\n",
       "</div>"
      ],
      "text/plain": [
       "   order_id  quantity                              item_name  \\\n",
       "0         1         1           Chips and Fresh Tomato Salsa   \n",
       "1         1         1                                   Izze   \n",
       "2         1         1                       Nantucket Nectar   \n",
       "3         1         1  Chips and Tomatillo-Green Chili Salsa   \n",
       "4         2         2                           Chicken Bowl   \n",
       "\n",
       "                                  choice_description item_price  item_price2  \\\n",
       "0                                                NaN     $2.39          2.39   \n",
       "1                                       [Clementine]     $3.39          3.39   \n",
       "2                                            [Apple]     $3.39          3.39   \n",
       "3                                                NaN     $2.39          2.39   \n",
       "4  [Tomatillo-Red Chili Salsa (Hot), [Black Beans...    $16.98         16.98   \n",
       "\n",
       "   item_price_personal  \n",
       "0                 2.39  \n",
       "1                 3.39  \n",
       "2                 3.39  \n",
       "3                 2.39  \n",
       "4                 8.49  "
      ]
     },
     "execution_count": 260,
     "metadata": {},
     "output_type": "execute_result"
    }
   ],
   "source": [
    "frame.drop_duplicates(subset=['item_name'], inplace= True)\n",
    "frame.head(5)"
   ]
  },
  {
   "cell_type": "markdown",
   "metadata": {},
   "source": [
    "__б) группируем item_price и item_name // сортируем__\n",
    " - Метод group \n",
    " - sort_values метод сортирует значения столбца\n",
    " метод groupby должен идти в паре с некоторой операцией, которую мы хотим применить к каждой\n",
    "группе, в частности с вычислением агрегированного статистического показателя\n",
    "(например, среднего арифметического, медианы, суммы).\n"
   ]
  },
  {
   "cell_type": "code",
   "execution_count": 261,
   "metadata": {},
   "outputs": [
    {
     "name": "stdout",
     "output_type": "stream",
     "text": [
      "5 самых дешёвых товаров:              item_name  item_price_personal\n",
      "34       Bottled Water                 1.09\n",
      "18         Canned Soda                 1.09\n",
      "263  Canned Soft Drink                 1.25\n",
      "6        Side of Chips                 1.69\n",
      "40               Chips                 2.15\n",
      "5 самых дорогих товаров:                   item_name  item_price_personal\n",
      "7             Steak Burrito                11.75\n",
      "168   Barbacoa Crispy Tacos                11.75\n",
      "1132    Carnitas Salad Bowl                11.89\n",
      "1229    Barbacoa Salad Bowl                11.89\n",
      "281        Steak Salad Bowl                11.89\n"
     ]
    }
   ],
   "source": [
    "print(\"5 самых дешёвых товаров:\", frame[[\"item_name\",\"item_price_personal\"]].sort_values([\"item_price_personal\"]).head(5))\n",
    "print(\"5 самых дорогих товаров:\", frame[[\"item_name\",\"item_price_personal\"]].sort_values([\"item_price_personal\"]).tail(5))\n"
   ]
  },
  {
   "cell_type": "markdown",
   "metadata": {},
   "source": [
    "#### 6. [0.5 баллов] Сколько раз клиенты покупали больше 1 Chicken Bowl (item_name)?"
   ]
  },
  {
   "cell_type": "markdown",
   "metadata": {},
   "source": [
    " - Конструкция dataframe['Sex'] == 'female' — это наше условное выражение; обернув его\n",
    "в dataframen, мы поручаем библиотеке pandas \"выбрать все строки во фрейме, где\n",
    "значение dataframe['Sex'] равняется 'female'\".\n",
    " - Операторы or и and python требуют значений truth. Для pandas они считаются неоднозначными, поэтому вы должны использовать операции \"bitwise\" | (или) или & (и) :\n",
    " - .shape метод для получения количества строк DataFrame\n",
    " - .len(DataFrame.index) быстрейший метод получения количества строк в Pandas\n",
    " - dataframe.apply() для подсчета строк, удовлетворяющих условию в Pandas"
   ]
  },
  {
   "cell_type": "code",
   "execution_count": 2,
   "metadata": {},
   "outputs": [
    {
     "name": "stdout",
     "output_type": "stream",
     "text": [
      "Количество того, сколько раз клиенты покупали Chiken Bowl больше  раза: 33\n"
     ]
    }
   ],
   "source": [
    "import pandas as pd\n",
    "frame = pd.read_csv(\"F:\\Jupyter project\\data_mtuci.csv\", header=0, sep=',')\n",
    "\n",
    "print(\"Количество того, сколько раз клиенты покупали Chiken Bowl больше  раза:\", len( frame[(frame[\"quantity\"] > 1)  & (frame[\"item_name\"] == \"Chicken Bowl\")].index ) )\n",
    "\n"
   ]
  },
  {
   "cell_type": "markdown",
   "metadata": {},
   "source": [
    "#### 7. [0.5 баллов] Какой средний чек у заказа? Сколько в среднем товаров покупают?\n",
    "\n",
    "Если необходимо провести вычисления в терминах заказов, то будет удобно сгруппировать строки по заказам и посчитать необходимые статистики."
   ]
  },
  {
   "cell_type": "code",
   "execution_count": 3,
   "metadata": {},
   "outputs": [],
   "source": [
    "frame.fillna('', inplace=True)\n",
    "frame[\"item_price2\"] = frame[\"item_price\"].replace({'\\$':''}, regex = True).astype(float)\n",
    "frame.drop(\"item_price\", axis = 1, inplace = True )\n"
   ]
  },
  {
   "cell_type": "markdown",
   "metadata": {},
   "source": [
    "__a) Вычислим средний чек у заказа__\n",
    "  1. сгруппировать по  столбцу order_id `frame.groupby(\"order_id\")[\"item_price2\"]`\n",
    "  2. Вычислить общий чек к заказу  `frame.groupby(\"order_id\")[\"item_price2\"].sum()`\n",
    "  3. Посчитать средний чек для всех заказов `frame.groupby(\"order_id\")[\"item_price2\"].sum().mean()`\n"
   ]
  },
  {
   "cell_type": "code",
   "execution_count": 282,
   "metadata": {},
   "outputs": [
    {
     "name": "stdout",
     "output_type": "stream",
     "text": [
      " Средний чек заказа: 18.811428571428568 $\n"
     ]
    }
   ],
   "source": [
    "print(\" Средний чек заказа:\", frame.groupby(\"order_id\")[\"item_price2\"].sum().mean(), \"$\" )"
   ]
  },
  {
   "cell_type": "markdown",
   "metadata": {},
   "source": [
    "__б) Определим среднее количество товаров в чеке__\n",
    " - "
   ]
  },
  {
   "cell_type": "code",
   "execution_count": 283,
   "metadata": {},
   "outputs": [
    {
     "name": "stdout",
     "output_type": "stream",
     "text": [
      " Среднее количество товара в заказе: 2.711014176663032\n"
     ]
    }
   ],
   "source": [
    "print(\" Среднее количество товара в заказе:\", frame.groupby(\"order_id\")[\"quantity\"].sum().mean() )"
   ]
  },
  {
   "cell_type": "markdown",
   "metadata": {},
   "source": [
    "#### 8. [0.25 баллов] Сколько заказов содержали ровно 1 товар?"
   ]
  },
  {
   "cell_type": "code",
   "execution_count": 28,
   "metadata": {},
   "outputs": [
    {
     "name": "stdout",
     "output_type": "stream",
     "text": [
      "Количеcтво заказов с одиночным товаром 56\n"
     ]
    }
   ],
   "source": [
    "from collections import Counter\n",
    "\n",
    "array = frame.groupby(\"order_id\")[\"quantity\"].sum().values\n",
    "\n",
    "# Подсчитаем количество вхождений в список единичных заказов\n",
    "c = Counter(array)\n",
    "\n",
    "print(\"Количеcтво заказов с одиночным товаром {}\".format(c[1]))\n"
   ]
  },
  {
   "cell_type": "markdown",
   "metadata": {},
   "source": [
    "#### 9. [0.25 баллов] Какая самая популярная категория товара? \n",
    "1. Сгруппирвоать по item_name , \n",
    "2. Посчитать количество заказов для каждого товара\n",
    "3. Извлеч наиболее популярный товар\n",
    "4. Или можно посчитать количество упминаний товара, тогда заказы с двумя заказми не учтуться\n",
    "\n",
    "Конструктор класса Series выглядит следующим образом:\n",
    "\n",
    "pandas.Series(data=None, index=None, dtype=None, name=None, copy=False, fastpath=False)\n",
    "data – массив, словарь или скалярное значение, на базе которого будет построен Series;\n",
    "\n",
    "index – список меток, который будет использоваться для доступа к элементам Series. Длина списка должна быть равна длине data;\n",
    "\n",
    "dtype – объект numpy.dtype, определяющий тип данных;\n",
    "\n",
    "copy – создает копию массива данных, если параметр равен True в ином случае ничего не делает.\n",
    "\n",
    "Для доступа к элементам Series, в данном случае, можно использовать только положительные целые числа – левый столбец чисел, начинающийся с нуля – это как раз и есть индексы элементов структуры, которые представлены в правом столбце\n",
    "- idxmax() метод возвращающий "
   ]
  },
  {
   "cell_type": "code",
   "execution_count": 285,
   "metadata": {},
   "outputs": [
    {
     "name": "stdout",
     "output_type": "stream",
     "text": [
      "Самый популярный товар Chicken Bowl, его купили 761\n"
     ]
    }
   ],
   "source": [
    "print(\"Самый популярный товар {}, его купили 761\".format(frame.groupby(\"item_name\")[\"quantity\"].sum().idxmax()))"
   ]
  },
  {
   "cell_type": "markdown",
   "metadata": {},
   "source": [
    "#### 10. [0.5 баллов] Какие виды Burrito существуют? Какой из них чаще всего покупают? Какой из них самый дорогой? \n",
    " - Поиск частичного совпадения строк в столбце фрейма данных\n",
    " - присоединив свой список слов к созданию регулярного выражения и используя str.contains"
   ]
  },
  {
   "cell_type": "markdown",
   "metadata": {},
   "source": [
    "__a) Отфильтруем датасет и вернём все Буррито какое есть, затем удаляем дубликаты ( или найдём все уникальные значения)__"
   ]
  },
  {
   "cell_type": "code",
   "execution_count": 286,
   "metadata": {},
   "outputs": [
    {
     "name": "stdout",
     "output_type": "stream",
     "text": [
      "Все виды Буррито:\n"
     ]
    },
    {
     "data": {
      "text/plain": [
       "7         Steak Burrito\n",
       "16      Chicken Burrito\n",
       "21     Barbacoa Burrito\n",
       "27     Carnitas Burrito\n",
       "57       Veggie Burrito\n",
       "510             Burrito\n",
       "Name: item_name, dtype: object"
      ]
     },
     "execution_count": 286,
     "metadata": {},
     "output_type": "execute_result"
    }
   ],
   "source": [
    "print(\"Все виды Буррито:\")\n",
    "frame[frame[\"item_name\"].str.contains(\"Burrito\")].drop_duplicates(subset = \"item_name\")[\"item_name\"]"
   ]
  },
  {
   "cell_type": "markdown",
   "metadata": {},
   "source": [
    "__б) Найдём Буррито который чаще всего покупают__\n",
    " 1. Вычленим все разновидности Буррито\n",
    " 2. Сгруппируем по item_name\n",
    " 3. Посчитаем количество заказов для каждого вида Буррито"
   ]
  },
  {
   "cell_type": "code",
   "execution_count": 290,
   "metadata": {},
   "outputs": [
    {
     "name": "stdout",
     "output_type": "stream",
     "text": [
      "Буррито который чаще всего покупают это:Chicken Burrito, купили 591 раз\n"
     ]
    }
   ],
   "source": [
    "print(\"Буррито который чаще всего покупают это:{}, купили 591 раз\".format(frame[frame[\"item_name\"].str.contains(\"Burrito\")].groupby(\"item_name\")[\"quantity\"].sum().idxmax() ))\n",
    "\n",
    "\n"
   ]
  },
  {
   "cell_type": "markdown",
   "metadata": {},
   "source": [
    "__в)Самый дорогой Буррито__\n",
    " 1. Выбирим все единичные заказы Буррито \n",
    " 2. Отсортируем по цене\n",
    " 3. Возратим строку из конца фрейма"
   ]
  },
  {
   "cell_type": "code",
   "execution_count": 309,
   "metadata": {},
   "outputs": [
    {
     "name": "stdout",
     "output_type": "stream",
     "text": [
      "Самый дорогой Буррито: Steak Burrito\n"
     ]
    }
   ],
   "source": [
    "frame[\"item_price_personal\"] = frame[\"item_price2\"] / frame[\"quantity\"]\n",
    "\n",
    "print(\"Самый дорогой Буррито: {}\".format(frame[frame[\"item_name\"].str.contains(\"Burrito\")].groupby(\"item_name\")[\"item_price_personal\"].mean().idxmax()) )\n"
   ]
  },
  {
   "cell_type": "markdown",
   "metadata": {
    "collapsed": true
   },
   "source": [
    "### 11. [0.75 баллов] В каком количестве заказов есть товар, который стоит более 40% от суммы всего чека?\n",
    "\n",
    "Возможно, будет удобно посчитать отдельно средний чек, добавить его в исходные данные и сделать необходимые проверки.\n",
    " - Series.nunique .Возвращает  количество уникальных элементов в объекте."
   ]
  },
  {
   "cell_type": "code",
   "execution_count": 57,
   "metadata": {},
   "outputs": [
    {
     "name": "stdout",
     "output_type": "stream",
     "text": [
      " Количество заказов в которых один! товар стоиn более 40% от чека: 1589 \n"
     ]
    }
   ],
   "source": [
    "import pandas as pd\n",
    "frame = pd.read_csv(\"F:\\Jupyter project\\data_mtuci.csv\", header=0, sep=',')\n",
    "frame.isnull().sum()\n",
    "\n",
    "# создали новый столбец с ценнами без знака доллар и с типпом данных float\n",
    "frame[\"item_price2\"] = frame[\"item_price\"].replace({'\\$':''}, regex = True).astype(float)\n",
    "\n",
    "# создадим новый столбец с ценной на товар  за один заказ\n",
    "frame[\"item_price_personal\"] = frame[\"item_price2\"] / frame[\"quantity\"]\n",
    "\n",
    "# посчитаем суммы чеков всех заказов и выберем те в которых товар стоит более 40 % от чека.\n",
    "check = frame.groupby(\"order_id\")[\"item_price2\"].sum() # сумма чека состоит из суммы за всю позицию заказа( т.к.товара может быть2)\n",
    "frame[\"check\"] = frame[\"order_id\"].map(check)\n",
    "\n",
    "# проверяем именно ценну за один товар в заказе\n",
    "a = frame[frame[\"item_price_personal\"] > 0.4 * frame[\"check\"]][\"order_id\"].nunique()\n",
    "print(\" Количество заказов в которых один! товар стоиn более 40% от чека: {} \".format(a))"
   ]
  },
  {
   "cell_type": "markdown",
   "metadata": {},
   "source": [
    "### 12. [0.75 баллов] Предположим, что в данных была ошибка и Diet Coke (choice_description), который стоил $1.25, должен был стоить 1.35. Скорректируйте данные в таблицы и посчитайте, на какой процент больше денег было заработано с этого товара. Не забывайте, что количество товара не всегда равно 1.\n",
    "\n",
    " 1. Выбираем Diet Cola которая стоила 1.25\n",
    " 2. Заменяем значение в колонке item_price2, c 1.25 на 1.35\n",
    " 3. Вычисляяем зарабаток для двух ценн\n",
    " 4. Рассчитываем проценнтную разницу\n",
    " \n",
    " `Процентная разница = | (a — b) / [ (a + b) / 2 ] | * 100%`"
   ]
  },
  {
   "cell_type": "code",
   "execution_count": 313,
   "metadata": {},
   "outputs": [
    {
     "name": "stdout",
     "output_type": "stream",
     "text": [
      "-7.407407407407289\n",
      "На 7.6923076923075655 % больше денег было заработана после изменение ценны\n"
     ]
    }
   ],
   "source": [
    "cola_frame = frame[(frame[\"choice_description\"] == \"[Diet Coke]\") & (frame[\"item_price2\"] == 1.25)].replace(1.25, 1.35)\n",
    "\n",
    "# 1. Рассчёт общего заработка с продаж по цене 1.35\n",
    "new_income = cola_frame.groupby([\"choice_description\"])[\"item_price2\"].sum().max()\n",
    "\n",
    "# 2. Рассчёт общего заработка с продаж по цене 1.25\n",
    "old_income = frame[(frame[\"choice_description\"] == \"[Diet Coke]\") & (frame[\"item_price2\"] == 1.25)].groupby([\"choice_description\"])[\"item_price2\"].sum().max()\n",
    "\n",
    "# 3. Вычисляем разницу в прибыли\n",
    "proc = ( (new_income - old_income) / ((new_income + old_income) / 2) ) * 100\n",
    "proc1 = (old_income - new_income) / new_income * 100  # ДОДЕЛАТЬ!!!\n",
    "print(proc1)\n",
    "print(\"На {} % больше денег было заработана после изменение ценны\".format(proc))"
   ]
  },
  {
   "cell_type": "markdown",
   "metadata": {},
   "source": [
    "#### 13. [0.75 баллов] Создайте новый DateFrame из матрицы, созданной ниже. Назовите колонки index, column1, column2 и сделайте первую колонку индексом.\n",
    "- создание пустого фрейма данных с помощью конструктора DataFrame, а затем определение каждого столбца по отдельности\n",
    "- Переименовать столбцы с помощью метода rename\n",
    "- df.index для добавления индекса в качестве нового столбца\n",
    "- reset_index с rename_axis для переименования имени текущего столбца индекса\n",
    "- метод set_index для преобразования столбца в индекс"
   ]
  },
  {
   "cell_type": "code",
   "execution_count": 112,
   "metadata": {},
   "outputs": [
    {
     "name": "stdout",
     "output_type": "stream",
     "text": [
      "           column1   column2\n",
      "index                       \n",
      "0.690614  0.135784  0.078804\n",
      "0.327613  0.685061  0.640615\n",
      "0.239806  0.726720  0.948011\n",
      "0.480034  0.265279  0.816838\n",
      "0.409248  0.107830  0.930765\n",
      "0.415895  0.377284  0.901232\n",
      "0.864444  0.005538  0.825211\n",
      "0.962530  0.008866  0.533533\n",
      "0.227889  0.174988  0.759546\n",
      "0.899210  0.082047  0.534464\n"
     ]
    }
   ],
   "source": [
    "import numpy as np\n",
    "data = np.random.rand(10, 3)\n",
    "\n",
    "# Создаём датафрейм\n",
    "df = pd.DataFrame(data, columns = [\"index\", \"column1\", \"column2\"])\n",
    "\n",
    "# Используем метод set_index() для преобразования колонки в index\n",
    "df = df.set_index(\"index\")\n",
    "print(df)"
   ]
  },
  {
   "cell_type": "markdown",
   "metadata": {},
   "source": [
    " Сохраните DataFrame на диск в формате csv без индексов и названий столбцов.\n",
    " \n",
    " - The corresponding writer functions are object methods that are accessed like DataFrame.to_csv()"
   ]
  },
  {
   "cell_type": "code",
   "execution_count": 113,
   "metadata": {},
   "outputs": [],
   "source": [
    "df.to_csv(\"done_dataset.csv\")"
   ]
  },
  {
   "cell_type": "markdown",
   "metadata": {},
   "source": [
    "## 2. Визуализации и matplotlib"
   ]
  },
  {
   "cell_type": "markdown",
   "metadata": {},
   "source": [
    "При работе с данными часто неудобно делать какие-то выводы, если смотреть на таблицу и числа в частности, поэтому важно уметь визуализировать данные. В этом разделе мы этим и займёмся.\n",
    "\n",
    "У matplotlib, конечно, же есть [документация](https://matplotlib.org/users/index.html) с большим количеством [примеров](https://matplotlib.org/examples/), но для начала достаточно знать про несколько основных типов графиков:\n",
    "- plot — обычный поточечный график, которым можно изображать кривые или отдельные точки;\n",
    "- hist — гистограмма, показывающая распределение некоторое величины;\n",
    "- scatter — график, показывающий взаимосвязь двух величин;\n",
    "- bar — столбцовый график, показывающий взаимосвязь количественной величины от категориальной.\n",
    "\n",
    "В этом задании вы попробуете построить каждый из них. Не менее важно усвоить базовые принципы визуализаций:\n",
    "- на графиках должны быть подписаны оси;\n",
    "- у визуализации должно быть название;\n",
    "- если изображено несколько графиков, то необходима поясняющая легенда;\n",
    "- все линии на графиках должны быть чётко видны (нет похожих цветов или цветов, сливающихся с фоном);\n",
    "- если отображена величина, имеющая очевидный диапазон значений (например, проценты могут быть от 0 до 100), то желательно масштабировать ось на весь диапазон значений (исключением является случай, когда вам необходимо показать малое отличие, которое незаметно в таких масштабах)."
   ]
  },
  {
   "cell_type": "code",
   "execution_count": 116,
   "metadata": {},
   "outputs": [],
   "source": [
    "# нужно для отображения графиков внутри ноутбука\n",
    "%matplotlib inline  \n",
    "\n",
    "import matplotlib.pyplot as plt"
   ]
  },
  {
   "cell_type": "markdown",
   "metadata": {},
   "source": [
    "На самом деле мы уже импортировали matplotlib внутри %pylab inline в начале задания.\n",
    "\n",
    "Работать мы будем с той же выборкой покупкок. Добавим новую колонку с датой покупки."
   ]
  },
  {
   "cell_type": "code",
   "execution_count": 30,
   "metadata": {},
   "outputs": [
    {
     "name": "stdout",
     "output_type": "stream",
     "text": [
      "2018-01-01 00:00:00\n",
      "2592000\n",
      "Empty DataFrame\n",
      "Columns: []\n",
      "Index: [1, 2, 3, 4, 5, 6, 7, 8, 9, 10, 11, 12, 13, 14, 15, 16, 17, 18, 19, 20, 21, 22, 23, 24, 25, 26, 27, 28, 29, 30, 31, 32, 33, 34, 35, 36, 37, 38, 39, 40, 41, 42, 43, 44, 45, 46, 47, 48, 49, 50, 51, 52, 53, 54, 55, 56, 57, 58, 59, 60, 61, 62, 63, 64, 65, 66, 67, 68, 69, 70, 71, 72, 73, 74, 75, 76, 77, 78, 79, 80, 81, 82, 83, 84, 85, 86, 87, 88, 89, 90, 91, 92, 93, 94, 95, 96, 97, 98, 99, 100, ...]\n",
      "\n",
      "[1834 rows x 0 columns]\n"
     ]
    },
    {
     "data": {
      "text/html": [
       "<div>\n",
       "<style scoped>\n",
       "    .dataframe tbody tr th:only-of-type {\n",
       "        vertical-align: middle;\n",
       "    }\n",
       "\n",
       "    .dataframe tbody tr th {\n",
       "        vertical-align: top;\n",
       "    }\n",
       "\n",
       "    .dataframe thead th {\n",
       "        text-align: right;\n",
       "    }\n",
       "</style>\n",
       "<table border=\"1\" class=\"dataframe\">\n",
       "  <thead>\n",
       "    <tr style=\"text-align: right;\">\n",
       "      <th></th>\n",
       "      <th>order_id</th>\n",
       "      <th>quantity</th>\n",
       "      <th>item_name</th>\n",
       "      <th>choice_description</th>\n",
       "      <th>item_price2</th>\n",
       "      <th>date</th>\n",
       "    </tr>\n",
       "  </thead>\n",
       "  <tbody>\n",
       "    <tr>\n",
       "      <th>0</th>\n",
       "      <td>1</td>\n",
       "      <td>1</td>\n",
       "      <td>Chips and Fresh Tomato Salsa</td>\n",
       "      <td></td>\n",
       "      <td>2.39</td>\n",
       "      <td>2018-01-06</td>\n",
       "    </tr>\n",
       "    <tr>\n",
       "      <th>1</th>\n",
       "      <td>1</td>\n",
       "      <td>1</td>\n",
       "      <td>Izze</td>\n",
       "      <td>[Clementine]</td>\n",
       "      <td>3.39</td>\n",
       "      <td>2018-01-06</td>\n",
       "    </tr>\n",
       "    <tr>\n",
       "      <th>2</th>\n",
       "      <td>1</td>\n",
       "      <td>1</td>\n",
       "      <td>Nantucket Nectar</td>\n",
       "      <td>[Apple]</td>\n",
       "      <td>3.39</td>\n",
       "      <td>2018-01-06</td>\n",
       "    </tr>\n",
       "    <tr>\n",
       "      <th>3</th>\n",
       "      <td>1</td>\n",
       "      <td>1</td>\n",
       "      <td>Chips and Tomatillo-Green Chili Salsa</td>\n",
       "      <td></td>\n",
       "      <td>2.39</td>\n",
       "      <td>2018-01-06</td>\n",
       "    </tr>\n",
       "    <tr>\n",
       "      <th>4</th>\n",
       "      <td>2</td>\n",
       "      <td>2</td>\n",
       "      <td>Chicken Bowl</td>\n",
       "      <td>[Tomatillo-Red Chili Salsa (Hot), [Black Beans...</td>\n",
       "      <td>16.98</td>\n",
       "      <td>2018-01-09</td>\n",
       "    </tr>\n",
       "    <tr>\n",
       "      <th>5</th>\n",
       "      <td>3</td>\n",
       "      <td>1</td>\n",
       "      <td>Chicken Bowl</td>\n",
       "      <td>[Fresh Tomato Salsa (Mild), [Rice, Cheese, Sou...</td>\n",
       "      <td>10.98</td>\n",
       "      <td>2018-01-29</td>\n",
       "    </tr>\n",
       "    <tr>\n",
       "      <th>6</th>\n",
       "      <td>3</td>\n",
       "      <td>1</td>\n",
       "      <td>Side of Chips</td>\n",
       "      <td></td>\n",
       "      <td>1.69</td>\n",
       "      <td>2018-01-29</td>\n",
       "    </tr>\n",
       "    <tr>\n",
       "      <th>7</th>\n",
       "      <td>4</td>\n",
       "      <td>1</td>\n",
       "      <td>Steak Burrito</td>\n",
       "      <td>[Tomatillo Red Chili Salsa, [Fajita Vegetables...</td>\n",
       "      <td>11.75</td>\n",
       "      <td>2018-01-02</td>\n",
       "    </tr>\n",
       "    <tr>\n",
       "      <th>8</th>\n",
       "      <td>4</td>\n",
       "      <td>1</td>\n",
       "      <td>Steak Soft Tacos</td>\n",
       "      <td>[Tomatillo Green Chili Salsa, [Pinto Beans, Ch...</td>\n",
       "      <td>9.25</td>\n",
       "      <td>2018-01-02</td>\n",
       "    </tr>\n",
       "    <tr>\n",
       "      <th>9</th>\n",
       "      <td>5</td>\n",
       "      <td>1</td>\n",
       "      <td>Steak Burrito</td>\n",
       "      <td>[Fresh Tomato Salsa, [Rice, Black Beans, Pinto...</td>\n",
       "      <td>9.25</td>\n",
       "      <td>2018-01-23</td>\n",
       "    </tr>\n",
       "    <tr>\n",
       "      <th>10</th>\n",
       "      <td>5</td>\n",
       "      <td>1</td>\n",
       "      <td>Chips and Guacamole</td>\n",
       "      <td></td>\n",
       "      <td>4.45</td>\n",
       "      <td>2018-01-23</td>\n",
       "    </tr>\n",
       "    <tr>\n",
       "      <th>11</th>\n",
       "      <td>6</td>\n",
       "      <td>1</td>\n",
       "      <td>Chicken Crispy Tacos</td>\n",
       "      <td>[Roasted Chili Corn Salsa, [Fajita Vegetables,...</td>\n",
       "      <td>8.75</td>\n",
       "      <td>2018-01-16</td>\n",
       "    </tr>\n",
       "    <tr>\n",
       "      <th>12</th>\n",
       "      <td>6</td>\n",
       "      <td>1</td>\n",
       "      <td>Chicken Soft Tacos</td>\n",
       "      <td>[Roasted Chili Corn Salsa, [Rice, Black Beans,...</td>\n",
       "      <td>8.75</td>\n",
       "      <td>2018-01-16</td>\n",
       "    </tr>\n",
       "    <tr>\n",
       "      <th>13</th>\n",
       "      <td>7</td>\n",
       "      <td>1</td>\n",
       "      <td>Chicken Bowl</td>\n",
       "      <td>[Fresh Tomato Salsa, [Fajita Vegetables, Rice,...</td>\n",
       "      <td>11.25</td>\n",
       "      <td>2018-01-18</td>\n",
       "    </tr>\n",
       "    <tr>\n",
       "      <th>14</th>\n",
       "      <td>7</td>\n",
       "      <td>1</td>\n",
       "      <td>Chips and Guacamole</td>\n",
       "      <td></td>\n",
       "      <td>4.45</td>\n",
       "      <td>2018-01-18</td>\n",
       "    </tr>\n",
       "    <tr>\n",
       "      <th>15</th>\n",
       "      <td>8</td>\n",
       "      <td>1</td>\n",
       "      <td>Chips and Tomatillo-Green Chili Salsa</td>\n",
       "      <td></td>\n",
       "      <td>2.39</td>\n",
       "      <td>2018-01-02</td>\n",
       "    </tr>\n",
       "    <tr>\n",
       "      <th>16</th>\n",
       "      <td>8</td>\n",
       "      <td>1</td>\n",
       "      <td>Chicken Burrito</td>\n",
       "      <td>[Tomatillo-Green Chili Salsa (Medium), [Pinto ...</td>\n",
       "      <td>8.49</td>\n",
       "      <td>2018-01-02</td>\n",
       "    </tr>\n",
       "    <tr>\n",
       "      <th>17</th>\n",
       "      <td>9</td>\n",
       "      <td>1</td>\n",
       "      <td>Chicken Burrito</td>\n",
       "      <td>[Fresh Tomato Salsa (Mild), [Black Beans, Rice...</td>\n",
       "      <td>8.49</td>\n",
       "      <td>2018-01-18</td>\n",
       "    </tr>\n",
       "    <tr>\n",
       "      <th>18</th>\n",
       "      <td>9</td>\n",
       "      <td>2</td>\n",
       "      <td>Canned Soda</td>\n",
       "      <td>[Sprite]</td>\n",
       "      <td>2.18</td>\n",
       "      <td>2018-01-18</td>\n",
       "    </tr>\n",
       "    <tr>\n",
       "      <th>19</th>\n",
       "      <td>10</td>\n",
       "      <td>1</td>\n",
       "      <td>Chicken Bowl</td>\n",
       "      <td>[Tomatillo Red Chili Salsa, [Fajita Vegetables...</td>\n",
       "      <td>8.75</td>\n",
       "      <td>2018-01-30</td>\n",
       "    </tr>\n",
       "  </tbody>\n",
       "</table>\n",
       "</div>"
      ],
      "text/plain": [
       "    order_id  quantity                              item_name  \\\n",
       "0          1         1           Chips and Fresh Tomato Salsa   \n",
       "1          1         1                                   Izze   \n",
       "2          1         1                       Nantucket Nectar   \n",
       "3          1         1  Chips and Tomatillo-Green Chili Salsa   \n",
       "4          2         2                           Chicken Bowl   \n",
       "5          3         1                           Chicken Bowl   \n",
       "6          3         1                          Side of Chips   \n",
       "7          4         1                          Steak Burrito   \n",
       "8          4         1                       Steak Soft Tacos   \n",
       "9          5         1                          Steak Burrito   \n",
       "10         5         1                    Chips and Guacamole   \n",
       "11         6         1                   Chicken Crispy Tacos   \n",
       "12         6         1                     Chicken Soft Tacos   \n",
       "13         7         1                           Chicken Bowl   \n",
       "14         7         1                    Chips and Guacamole   \n",
       "15         8         1  Chips and Tomatillo-Green Chili Salsa   \n",
       "16         8         1                        Chicken Burrito   \n",
       "17         9         1                        Chicken Burrito   \n",
       "18         9         2                            Canned Soda   \n",
       "19        10         1                           Chicken Bowl   \n",
       "\n",
       "                                   choice_description  item_price2        date  \n",
       "0                                                             2.39  2018-01-06  \n",
       "1                                        [Clementine]         3.39  2018-01-06  \n",
       "2                                             [Apple]         3.39  2018-01-06  \n",
       "3                                                             2.39  2018-01-06  \n",
       "4   [Tomatillo-Red Chili Salsa (Hot), [Black Beans...        16.98  2018-01-09  \n",
       "5   [Fresh Tomato Salsa (Mild), [Rice, Cheese, Sou...        10.98  2018-01-29  \n",
       "6                                                             1.69  2018-01-29  \n",
       "7   [Tomatillo Red Chili Salsa, [Fajita Vegetables...        11.75  2018-01-02  \n",
       "8   [Tomatillo Green Chili Salsa, [Pinto Beans, Ch...         9.25  2018-01-02  \n",
       "9   [Fresh Tomato Salsa, [Rice, Black Beans, Pinto...         9.25  2018-01-23  \n",
       "10                                                            4.45  2018-01-23  \n",
       "11  [Roasted Chili Corn Salsa, [Fajita Vegetables,...         8.75  2018-01-16  \n",
       "12  [Roasted Chili Corn Salsa, [Rice, Black Beans,...         8.75  2018-01-16  \n",
       "13  [Fresh Tomato Salsa, [Fajita Vegetables, Rice,...        11.25  2018-01-18  \n",
       "14                                                            4.45  2018-01-18  \n",
       "15                                                            2.39  2018-01-02  \n",
       "16  [Tomatillo-Green Chili Salsa (Medium), [Pinto ...         8.49  2018-01-02  \n",
       "17  [Fresh Tomato Salsa (Mild), [Black Beans, Rice...         8.49  2018-01-18  \n",
       "18                                           [Sprite]         2.18  2018-01-18  \n",
       "19  [Tomatillo Red Chili Salsa, [Fajita Vegetables...         8.75  2018-01-30  "
      ]
     },
     "execution_count": 30,
     "metadata": {},
     "output_type": "execute_result"
    }
   ],
   "source": [
    "import datetime\n",
    "import random \n",
    "import pandas as pd\n",
    "\n",
    "start = datetime.datetime(2018, 1, 1)\n",
    "print(start)\n",
    "end = datetime.datetime(2018, 1, 31)\n",
    "delta_seconds = int((end - start).total_seconds())\n",
    "print(delta_seconds)\n",
    "dates = pd.DataFrame(index=frame.order_id.unique())\n",
    "print(dates)\n",
    "dates['date'] = [\n",
    "    (start + datetime.timedelta(seconds=random.randint(0, delta_seconds))).strftime('%Y-%m-%d')\n",
    "    for _ in range(frame.order_id.nunique())]\n",
    "\n",
    "# если DataFrame с покупками из прошлого заказа называется не df, замените на ваше название ниже\n",
    "frame['date'] = frame.order_id.map(dates['date'])\n",
    "frame.head(20)"
   ]
  },
  {
   "cell_type": "markdown",
   "metadata": {},
   "source": [
    "#### 1. [1 балл] Постройте гистограмму распределения сумм покупок и гистограмму средних цен отдельных видов продуктов item_name. \n",
    "\n",
    "Изображайте на двух соседних графиках. Для этого может быть полезен subplot."
   ]
  },
  {
   "cell_type": "code",
   "execution_count": 239,
   "metadata": {},
   "outputs": [
    {
     "data": {
      "image/png": "[encoded data removed]",
      "text/plain": [
       "<Figure size 864x504 with 1 Axes>"
      ]
     },
     "metadata": {
      "needs_background": "light"
     },
     "output_type": "display_data"
    },
    {
     "data": {
      "image/png": "[encoded data removed]",
      "text/plain": [
       "<Figure size 864x504 with 1 Axes>"
      ]
     },
     "metadata": {
      "needs_background": "light"
     },
     "output_type": "display_data"
    }
   ],
   "source": [
    "import matplotlib.pyplot as plt\n",
    "%matplotlib inline\n",
    "\n",
    "# 1. Гистограмма распределения сумм покупок\n",
    "\n",
    "amount = frame[\"order_id\"].unique()\n",
    "disturb_amount = frame.groupby(\"order_id\")[\"item_price2\"].sum()\n",
    "\n",
    "x = disturb_amount.index\n",
    "y = disturb_amount.values\n",
    "\n",
    "figure, ax = plt.subplots(1, 1) # расположение subplot 1- ось , 1 - позиция\n",
    "ax.bar(y, x, label = \"sum hist\")\n",
    "                       \n",
    "                       \n",
    "plt.grid()\n",
    "plt.legend(loc=\"upper center\",  ncol=2, fontsize =14); # легенда с параметрои best размещает название графиков(label) в\n",
    "                                                        # месте свободной от граифка\n",
    "# подпись для осей\n",
    "plt.xlabel('order price', fontsize=14)\n",
    "plt.ylabel('amount', fontsize=14)\n",
    "\n",
    "#диапазон оси \n",
    "plt.ylim(0, 1700)\n",
    "plt.xlim(0, 175)\n",
    "\n",
    "# Заголовок:\n",
    "plt.title(r'mean price' , fontsize =16, y =1.05 )\n",
    "\n",
    "# Размер фигуры гистограммы \n",
    "figure.set_figwidth(12)    #  ширина Figure\n",
    "figure.set_figheight(7)\n",
    "\n",
    "# 2. Гистограмма средних цен отдельных видов продуктов item_name\n",
    "\n",
    "mean_price = frame.groupby(\"item_name\")[\"item_price2\"].mean()\n",
    "\n",
    "a = mean_price.index\n",
    "b = mean_price.values\n",
    "\n",
    "fig, ax = plt.subplots(1, 1) # расположение subplot 1- ось , 1 - позиция\n",
    "ax.bar(a, b, label = \"mean price hist\")\n",
    "                       \n",
    "                       \n",
    "ax.grid()\n",
    "ax.legend(loc=\"upper center\",  ncol=2, fontsize =14); # легенда с параметрои best размещает название графиков(label) в\n",
    "                                                        # месте свободной от граифка\n",
    "# подпись для осей\n",
    "plt.xlabel('mean price', fontsize=14)\n",
    "plt.ylabel('item name', fontsize=14)\n",
    "\n",
    "#диапазон оси \n",
    "plt.ylim(0, 17)\n",
    "plt.xlim(0, 50)\n",
    "\n",
    "#  вертикальное располежние для x\n",
    "#plt.xticks(x, rotation='vertical')\n",
    "\n",
    "# Заголовок:\n",
    "plt.title(r'mean price' , fontsize =16, y =1.05 )\n",
    "\n",
    "# Размер фигуры гистограммы \n",
    "fig.set_figwidth(12)    #  ширина Figure\n",
    "fig.set_figheight(7)\n"
   ]
  },
  {
   "cell_type": "code",
   "execution_count": 218,
   "metadata": {},
   "outputs": [
    {
     "data": {
      "text/plain": [
       "<AxesSubplot:>"
      ]
     },
     "execution_count": 218,
     "metadata": {},
     "output_type": "execute_result"
    },
    {
     "data": {
      "image/png": "[encoded data removed]",
      "text/plain": [
       "<Figure size 432x288 with 1 Axes>"
      ]
     },
     "metadata": {
      "needs_background": "light"
     },
     "output_type": "display_data"
    }
   ],
   "source": [
    "#Аналог:\n",
    "frame.groupby(\"order_id\")[\"item_price2\"].sum().hist()\n"
   ]
  },
  {
   "cell_type": "code",
   "execution_count": 219,
   "metadata": {},
   "outputs": [
    {
     "data": {
      "text/plain": [
       "<AxesSubplot:>"
      ]
     },
     "execution_count": 219,
     "metadata": {},
     "output_type": "execute_result"
    },
    {
     "data": {
      "image/png": "[encoded data removed]",
      "text/plain": [
       "<Figure size 432x288 with 1 Axes>"
      ]
     },
     "metadata": {
      "needs_background": "light"
     },
     "output_type": "display_data"
    }
   ],
   "source": [
    "#Аналог:\n",
    "frame.groupby(\"item_name\")[\"item_price2\"].mean().hist()"
   ]
  },
  {
   "cell_type": "code",
   "execution_count": 315,
   "metadata": {},
   "outputs": [
    {
     "data": {
      "text/plain": [
       "date\n",
       "2018-01-01    1178.73\n",
       "2018-01-02    1015.90\n",
       "2018-01-03    1409.48\n",
       "2018-01-04    1043.75\n",
       "2018-01-05    1071.25\n",
       "2018-01-06    1200.95\n",
       "2018-01-07    1281.38\n",
       "2018-01-08    1153.06\n",
       "2018-01-09    1061.70\n",
       "2018-01-10    1152.72\n",
       "2018-01-11    1082.50\n",
       "2018-01-12    1002.67\n",
       "2018-01-13    1051.66\n",
       "2018-01-14    1173.45\n",
       "2018-01-15    1219.98\n",
       "2018-01-16     858.72\n",
       "2018-01-17     960.76\n",
       "2018-01-18    1157.59\n",
       "2018-01-19    1345.48\n",
       "2018-01-20    1098.62\n",
       "2018-01-21    1519.20\n",
       "2018-01-22    1005.97\n",
       "2018-01-23    1178.33\n",
       "2018-01-24    1225.72\n",
       "2018-01-25    1447.49\n",
       "2018-01-26    1230.93\n",
       "2018-01-27    1204.15\n",
       "2018-01-28    1206.71\n",
       "2018-01-29     980.35\n",
       "2018-01-30     980.96\n",
       "Name: item_price2, dtype: float64"
      ]
     },
     "execution_count": 315,
     "metadata": {},
     "output_type": "execute_result"
    }
   ],
   "source": [
    "frame.groupby(\"date\")[\"item_price2\"].sum()"
   ]
  },
  {
   "cell_type": "markdown",
   "metadata": {},
   "source": [
    "#### 2. [1 балл] Постройте график зависимости суммы покупок от дней."
   ]
  },
  {
   "cell_type": "code",
   "execution_count": 326,
   "metadata": {},
   "outputs": [
    {
     "data": {
      "image/png": "[encoded data removed]",
      "text/plain": [
       "<Figure size 1080x360 with 1 Axes>"
      ]
     },
     "metadata": {
      "needs_background": "light"
     },
     "output_type": "display_data"
    }
   ],
   "source": [
    "import matplotlib.pyplot as plt\n",
    "\n",
    "\n",
    "amount_order = frame.groupby(\"date\")[\"item_price2\"].sum()\n",
    " \n",
    "x = amount_order.index\n",
    "y = amount_order.values\n",
    "\n",
    "plt.plot(x, y , color=\"red\", marker =\"\", linestyle=\"-\", label=\"money plot\");\n",
    "\n",
    "\n",
    "# сетка\n",
    "plt.grid()\n",
    "plt.legend(loc=\"upper center\", ncol=2, fontsize =14); # легенда с параметрои best размещает название графиков(label) в\n",
    "                        # месте свободной от граифка\n",
    "# подпись для осей\n",
    "plt.xlabel('days', fontsize=14)\n",
    "plt.ylabel('sum sales', fontsize=14)\n",
    "\n",
    "#  вертикальное располежние для x\n",
    "plt.xticks(x, rotation='vertical')\n",
    "\n",
    "#диапазон оси \n",
    "plt.ylim(850,1550)\n",
    "plt.xlim(-1,30)\n",
    "\n",
    "# Заголовок:\n",
    "plt.title(r'Граффик зависимости выручки за день от дней' , fontsize =16, y =1.05 )\n",
    "\n",
    "# размер графика\n",
    "figsize=(10, 8)"
   ]
  },
  {
   "cell_type": "markdown",
   "metadata": {},
   "source": [
    "#### 3. [1 балл] Постройте граффик средних сумм покупок по дням недели (bar plot)."
   ]
  },
  {
   "cell_type": "code",
   "execution_count": 182,
   "metadata": {},
   "outputs": [
    {
     "data": {
      "image/png": "[encoded data removed]",
      "text/plain": [
       "<Figure size 1080x504 with 1 Axes>"
      ]
     },
     "metadata": {
      "needs_background": "light"
     },
     "output_type": "display_data"
    }
   ],
   "source": [
    "import matplotlib.pyplot as plt\n",
    "\n",
    "# создадим столбец  с днями неделями \n",
    "frame['date'] = pd.to_datetime(frame['date'])\n",
    "frame[\"weekday\"] = frame[\"date\"].dt.weekday\n",
    "\n",
    "# сгруппируем по дням неделям и суммируем деньги от продаж\n",
    "check_weekday = frame.groupby(\"weekday\")[\"item_price2\"].sum()\n",
    "x = check_weekday.index\n",
    "y = check_weekday.values\n",
    "\n",
    "\n",
    "figure, ax = plt.subplots(1, 1) # расположение subplot 1- ось , 1 - позиция\n",
    "ax.bar(x, y, label = \"purchases\")\n",
    "\n",
    "\n",
    "# сетка\n",
    "plt.grid()\n",
    "plt.legend(loc=\"upper center\", ncol=2, fontsize =14); # легенда с параметрои best размещает название графиков(label) в\n",
    "                        # месте свободной от граифка\n",
    "# подпись для осей\n",
    "plt.xlabel('weekday', fontsize=14)\n",
    "plt.ylabel('sum sales', fontsize=14)\n",
    "\n",
    "\n",
    "\n",
    "#диапазон оси \n",
    "plt.ylim(0,7000)\n",
    "plt.xlim(-1,7)\n",
    "\n",
    "# Заголовок:\n",
    "plt.title(r'Граффик средних сумм покупок по дням недели' , fontsize =16, y =1.05 )\n",
    "\n",
    "# размер графика\n",
    "figure.set_figwidth(15)    #  ширина Figure\n",
    "figure.set_figheight(7)"
   ]
  },
  {
   "cell_type": "markdown",
   "metadata": {},
   "source": [
    "#### 4. [1 балл] Постройте график зависимости денег за товар от купленного количества (scatter plot).\n",
    "- matplotlib.pyplot.scatter, A scatter plot of y vs. x with varying marker size and/or color."
   ]
  },
  {
   "cell_type": "code",
   "execution_count": 181,
   "metadata": {},
   "outputs": [
    {
     "data": {
      "image/png": "[encoded data removed]",
      "text/plain": [
       "<Figure size 1080x360 with 1 Axes>"
      ]
     },
     "metadata": {
      "needs_background": "light"
     },
     "output_type": "display_data"
    }
   ],
   "source": [
    "import matplotlib.pyplot as plt\n",
    "money = frame[\"item_price2\"].values\n",
    "quan = frame[\"quantity\"].values\n",
    "\n",
    "plt.scatter(quan, money , color=\"red\", label=\"f(x)\");\n",
    "\n",
    "plt.grid()\n",
    "plt.legend(loc=\"upper center\", ncol=2, fontsize =14); # легенда с параметрои best размещает название графиков(label) в\n",
    "                                                        # месте свободной от граифка\n",
    "# подпись для осей\n",
    "plt.xlabel('money', fontsize=14)\n",
    "plt.ylabel('quantity', fontsize=14)\n",
    "\n",
    "#диапазон оси \n",
    "plt.ylim(0, 45)\n",
    "plt.xlim(0, 11)\n",
    "\n",
    "# Заголовок:\n",
    "plt.title(r'scatter plot' , fontsize =16, y =1.05 )\n",
    "\n",
    "# Размер фигуры диаграммы\n",
    "plt.rcParams['figure.figsize'] = [15, 5]"
   ]
  },
  {
   "cell_type": "markdown",
   "metadata": {},
   "source": [
    "Сохраните график в формате pdf (так он останется векторизованным)."
   ]
  },
  {
   "cell_type": "code",
   "execution_count": 151,
   "metadata": {},
   "outputs": [
    {
     "data": {
      "text/plain": [
       "<Figure size 1080x360 with 0 Axes>"
      ]
     },
     "metadata": {},
     "output_type": "display_data"
    }
   ],
   "source": [
    "plt.savefig('MTUCI_scatter.png')"
   ]
  },
  {
   "cell_type": "markdown",
   "metadata": {},
   "source": [
    "Кстати, существует надстройка над matplotlib под названием [seaborn](https://jakevdp.github.io/PythonDataScienceHandbook/04.14-visualization-with-seaborn.html). Иногда удобнее и красивее делать визуализации через неё. "
   ]
  }
 ],
 "metadata": {
  "kernel_info": {
   "name": "py36"
  },
  "kernelspec": {
   "display_name": "Python 3",
   "language": "python",
   "name": "python3"
  },
  "language_info": {
   "codemirror_mode": {
    "name": "ipython",
    "version": 3
   },
   "file_extension": ".py",
   "mimetype": "text/x-python",
   "name": "python",
   "nbconvert_exporter": "python",
   "pygments_lexer": "ipython3",
   "version": "3.8.1"
  },
  "nteract": {
   "version": "0.11.6"
  }
 },
 "nbformat": 4,
 "nbformat_minor": 2
}
